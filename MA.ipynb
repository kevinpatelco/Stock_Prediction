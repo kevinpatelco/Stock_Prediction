{
  "nbformat": 4,
  "nbformat_minor": 0,
  "metadata": {
    "colab": {
      "name": "MA.ipynb",
      "version": "0.3.2",
      "provenance": [],
      "collapsed_sections": [
        "A3fBmw8yFm1-"
      ],
      "include_colab_link": true
    },
    "kernelspec": {
      "name": "python3",
      "display_name": "Python 3"
    },
    "accelerator": "TPU"
  },
  "cells": [
    {
      "cell_type": "markdown",
      "metadata": {
        "id": "view-in-github",
        "colab_type": "text"
      },
      "source": [
        "<a href=\"https://colab.research.google.com/github/kevinpatelco/Stock_Prediction/blob/master/MA.ipynb\" target=\"_parent\"><img src=\"https://colab.research.google.com/assets/colab-badge.svg\" alt=\"Open In Colab\"/></a>"
      ]
    },
    {
      "metadata": {
        "id": "qrD0OeQHaN0U",
        "colab_type": "code",
        "outputId": "3b5c2c9b-8693-450a-f096-6527ed069c29",
        "colab": {
          "base_uri": "https://localhost:8080/",
          "height": 289
        }
      },
      "cell_type": "code",
      "source": [
        "!pip install alpha_vantage\n",
        "!pip install --upgrade scikit-learn"
      ],
      "execution_count": 0,
      "outputs": [
        {
          "output_type": "stream",
          "text": [
            "Collecting alpha_vantage\n",
            "  Downloading https://files.pythonhosted.org/packages/7a/6c/81c7f1c58064cb2ce808edc6c4cdb3241f70bf8cd158289540cdf9fe0204/alpha_vantage-2.1.0.tar.gz\n",
            "Requirement already satisfied: requests in /usr/local/lib/python3.6/dist-packages (from alpha_vantage) (2.18.4)\n",
            "Requirement already satisfied: chardet<3.1.0,>=3.0.2 in /usr/local/lib/python3.6/dist-packages (from requests->alpha_vantage) (3.0.4)\n",
            "Requirement already satisfied: idna<2.7,>=2.5 in /usr/local/lib/python3.6/dist-packages (from requests->alpha_vantage) (2.6)\n",
            "Requirement already satisfied: urllib3<1.23,>=1.21.1 in /usr/local/lib/python3.6/dist-packages (from requests->alpha_vantage) (1.22)\n",
            "Requirement already satisfied: certifi>=2017.4.17 in /usr/local/lib/python3.6/dist-packages (from requests->alpha_vantage) (2019.3.9)\n",
            "Building wheels for collected packages: alpha-vantage\n",
            "  Building wheel for alpha-vantage (setup.py) ... \u001b[?25ldone\n",
            "\u001b[?25h  Stored in directory: /root/.cache/pip/wheels/21/9c/02/b7cfae63f7119f4089f229ba1a09ce90fabbaf96199c2890be\n",
            "Successfully built alpha-vantage\n",
            "Installing collected packages: alpha-vantage\n",
            "Successfully installed alpha-vantage-2.1.0\n",
            "Requirement already up-to-date: scikit-learn in /usr/local/lib/python3.6/dist-packages (0.20.3)\n",
            "Requirement already satisfied, skipping upgrade: scipy>=0.13.3 in /usr/local/lib/python3.6/dist-packages (from scikit-learn) (1.1.0)\n",
            "Requirement already satisfied, skipping upgrade: numpy>=1.8.2 in /usr/local/lib/python3.6/dist-packages (from scikit-learn) (1.14.6)\n"
          ],
          "name": "stdout"
        }
      ]
    },
    {
      "metadata": {
        "id": "wWMdrmOrP-z-",
        "colab_type": "text"
      },
      "cell_type": "markdown",
      "source": [
        "# Data Source : Alpha Vantage ---- https://www.alphavantage.co/"
      ]
    },
    {
      "metadata": {
        "id": "J_x9dKrhaTYS",
        "colab_type": "code",
        "outputId": "47ad93e2-e1b6-41bc-edf5-0650c441fc75",
        "colab": {
          "base_uri": "https://localhost:8080/",
          "height": 34
        }
      },
      "cell_type": "code",
      "source": [
        "from alpha_vantage.timeseries import TimeSeries\n",
        "from alpha_vantage.techindicators import TechIndicators\n",
        "import seaborn as sns\n",
        "import matplotlib.pyplot as plt\n",
        "from pprint import pprint\n",
        "import numpy as np\n",
        "import pandas as pd\n",
        "\n",
        "from sklearn import linear_model \n",
        "from sklearn.neighbors import KNeighborsRegressor\n",
        "from sklearn.ensemble import RandomForestRegressor\n",
        "from sklearn import preprocessing, svm\n",
        "from sklearn.model_selection import train_test_split\n",
        "\n",
        "from keras.models import Sequential, Model\n",
        "from keras.layers import Input, Dense, LSTM, Dropout\n",
        "from keras.layers import LSTM, SimpleRNN, GRU\n",
        "from sklearn.metrics import mean_squared_error"
      ],
      "execution_count": 0,
      "outputs": [
        {
          "output_type": "stream",
          "text": [
            "Using TensorFlow backend.\n"
          ],
          "name": "stderr"
        }
      ]
    },
    {
      "metadata": {
        "id": "cA84JEjoGOg6",
        "colab_type": "text"
      },
      "cell_type": "markdown",
      "source": [
        "#Data Preprocessing"
      ]
    },
    {
      "metadata": {
        "id": "FFAlYbysaalD",
        "colab_type": "code",
        "colab": {}
      },
      "cell_type": "code",
      "source": [
        "ts = TimeSeries(key='HE5QFT0CZ49ZBE85', output_format='pandas')\n",
        "\n",
        "#Add values to SPY_data Variable\n",
        "SPY_data, SPY_meta_data = ts.get_daily(symbol='SPY', outputsize='full')\n",
        "\n",
        "#Add values to SPX_data Variable\n",
        "SPX_data, SPX_meta_data= ts.get_daily(symbol='SPX', outputsize='full')\n",
        "# pprint(SPY_data)\n",
        "\n"
      ],
      "execution_count": 0,
      "outputs": []
    },
    {
      "metadata": {
        "id": "hMZuARLoavgO",
        "colab_type": "code",
        "colab": {}
      },
      "cell_type": "code",
      "source": [
        "'''Simple Moving Average'''\n",
        "\n",
        "ti = TechIndicators(key='HE5QFT0CZ49ZBE85', output_format='pandas')\n",
        "\n",
        "#SPX\n",
        "spx_sma9 = ti.get_sma(symbol='SPX', interval='daily', time_period=9, series_type='close')\n",
        "spx_sma13 = ti.get_sma(symbol='SPX', interval='daily', time_period=13, series_type='close')\n",
        "spx_sma50 = ti.get_sma(symbol='SPX', interval='daily', time_period=50, series_type='close')"
      ],
      "execution_count": 0,
      "outputs": []
    },
    {
      "metadata": {
        "id": "8mW1XWKsayBy",
        "colab_type": "code",
        "colab": {}
      },
      "cell_type": "code",
      "source": [
        "#SPX SMA PLOT\n",
        "plt.figure(figsize= (50, 10))\n",
        "plt.plot(SPX_data['4. close'].values)\n",
        "plt.plot(spx_sma9[0].values)\n",
        "plt.plot(spx_sma13[0].values)\n",
        "plt.plot(spx_sma50[0].values)\n",
        "\n",
        "plt.legend(['SPX close original data', 'SPX SMA 9', 'SPX SMA 13', 'SPX SMA 50'])"
      ],
      "execution_count": 0,
      "outputs": []
    },
    {
      "metadata": {
        "id": "JRsjjTEY-k-S",
        "colab_type": "code",
        "colab": {}
      },
      "cell_type": "code",
      "source": [
        "#SPY\n",
        "spy_sma9 = ti.get_sma(symbol='SPY', interval='daily', time_period=9, series_type='close')\n",
        "spy_sma13 = ti.get_sma(symbol='SPY', interval='daily', time_period=13, series_type='close')\n",
        "spy_sma50 = ti.get_sma(symbol='SPY', interval='daily', time_period=50, series_type='close')"
      ],
      "execution_count": 0,
      "outputs": []
    },
    {
      "metadata": {
        "id": "Uf3Hy2Ds3Vj1",
        "colab_type": "code",
        "colab": {}
      },
      "cell_type": "code",
      "source": [
        "#SPY SMA PLOT\n",
        "plt.figure(figsize= (50, 10))\n",
        "plt.plot(SPY_data['4. close'].values)\n",
        "plt.plot(spy_sma9[0].values)\n",
        "plt.plot(spy_sma13[0].values)\n",
        "plt.plot(spy_sma50[0].values)\n",
        "\n",
        "plt.legend(['SPY close original data', 'SPY SMA 9', 'SPY SMA 13', 'SPY SMA 50'])"
      ],
      "execution_count": 0,
      "outputs": []
    },
    {
      "metadata": {
        "id": "UQZCWiTC0iXw",
        "colab_type": "text"
      },
      "cell_type": "markdown",
      "source": [
        "By looking at the graphs we can see that, SMA 50 line would be the first one to show an uptrend or a downtrend as it shows the deviation before any other MA lines."
      ]
    },
    {
      "metadata": {
        "id": "vo_m4giPa_Ln",
        "colab_type": "code",
        "colab": {}
      },
      "cell_type": "code",
      "source": [
        "'''Exponential Moving Average'''\n",
        "\n",
        "#SPX\n",
        "spx_ema9 = ti.get_ema(symbol='SPX', interval='daily', time_period=9, series_type='close')\n",
        "spx_ema13 = ti.get_ema(symbol='SPX', interval='daily', time_period=13, series_type='close')\n",
        "spx_ema50 = ti.get_ema(symbol='SPX', interval='daily', time_period=50, series_type='close')"
      ],
      "execution_count": 0,
      "outputs": []
    },
    {
      "metadata": {
        "id": "lfEI9bZ6h05r",
        "colab_type": "code",
        "colab": {}
      },
      "cell_type": "code",
      "source": [
        "#SPX EMA PLOT\n",
        "plt.figure(figsize= (50, 10))\n",
        "plt.plot(SPX_data['4. close'].values)\n",
        "plt.plot(spx_ema9[0].values)\n",
        "plt.plot(spx_ema13[0].values)\n",
        "plt.plot(spx_ema50[0].values)\n",
        "\n",
        "plt.legend(['SPX close original data', 'SPX EMA 9', 'SPX EMA 13', 'SPX EMA 50'])"
      ],
      "execution_count": 0,
      "outputs": []
    },
    {
      "metadata": {
        "id": "zLL92KvkikZ2",
        "colab_type": "code",
        "colab": {}
      },
      "cell_type": "code",
      "source": [
        "#SPY\n",
        "spy_ema9 = ti.get_ema(symbol='SPY', interval='daily', time_period=9, series_type='close')\n",
        "spy_ema13 = ti.get_ema(symbol='SPY', interval='daily', time_period=13, series_type='close')\n",
        "spy_ema50 = ti.get_ema(symbol='SPY', interval='daily', time_period=50, series_type='close')"
      ],
      "execution_count": 0,
      "outputs": []
    },
    {
      "metadata": {
        "id": "6zKt_rfIjS3_",
        "colab_type": "code",
        "colab": {}
      },
      "cell_type": "code",
      "source": [
        "#SPY EMA PLOT\n",
        "plt.figure(figsize= (50, 10))\n",
        "plt.plot(SPY_data['4. close'].values)\n",
        "plt.plot(spy_ema9[0].values)\n",
        "plt.plot(spy_ema13[0].values)\n",
        "plt.plot(spy_ema50[0].values)\n",
        "\n",
        "plt.legend(['SPY close original data', 'SPY EMA 9', 'SPY EMA 13', 'SPY EMA 50'])"
      ],
      "execution_count": 0,
      "outputs": []
    },
    {
      "metadata": {
        "id": "--aSVtIDv4fh",
        "colab_type": "code",
        "colab": {}
      },
      "cell_type": "code",
      "source": [
        "# df = SPX_data[['4. close']]\n",
        "df = SPX_data\n",
        "forecast_out = int(1)\n",
        "\n",
        "# df['prediction'] = df[['4. close']].shift(-forecast_out)\n"
      ],
      "execution_count": 0,
      "outputs": []
    },
    {
      "metadata": {
        "id": "WGsa8NYxxCtP",
        "colab_type": "code",
        "colab": {}
      },
      "cell_type": "code",
      "source": [
        "X = np.array(df.drop(['prediction'],1))\n",
        "X = preprocessing.scale(X)"
      ],
      "execution_count": 0,
      "outputs": []
    },
    {
      "metadata": {
        "id": "Ayu-3aghxhLh",
        "colab_type": "code",
        "colab": {}
      },
      "cell_type": "code",
      "source": [
        "X_forecast = X[-forecast_out:]\n",
        "X = X[:-forecast_out]"
      ],
      "execution_count": 0,
      "outputs": []
    },
    {
      "metadata": {
        "id": "a7hQj69bzf7Z",
        "colab_type": "code",
        "colab": {}
      },
      "cell_type": "code",
      "source": [
        "y = np.array(df['prediction'])\n",
        "y = y[:-forecast_out]"
      ],
      "execution_count": 0,
      "outputs": []
    },
    {
      "metadata": {
        "id": "LueJi5XhznyT",
        "colab_type": "code",
        "colab": {}
      },
      "cell_type": "code",
      "source": [
        "X_train, X_test, y_train, y_test = train_test_split(X, y, test_size = 0.2)"
      ],
      "execution_count": 0,
      "outputs": []
    },
    {
      "metadata": {
        "id": "A3fBmw8yFm1-",
        "colab_type": "text"
      },
      "cell_type": "markdown",
      "source": [
        "# Regression Models\n"
      ]
    },
    {
      "metadata": {
        "id": "rBSQTiBmGj8_",
        "colab_type": "text"
      },
      "cell_type": "markdown",
      "source": [
        "##Linear Regression"
      ]
    },
    {
      "metadata": {
        "id": "7v1NPrDsztfX",
        "colab_type": "code",
        "colab": {}
      },
      "cell_type": "code",
      "source": [
        "# Training - linear regression\n",
        "reg = linear_model.LinearRegression()\n",
        "# reg = linear_model.Ridge(alpha = 0.1)\n",
        "reg.fit(X_train,y_train)\n",
        "\n",
        "# Testing\n",
        "confidence = reg.score(X_test, y_test)\n",
        "print(\"confidence: \", confidence)"
      ],
      "execution_count": 0,
      "outputs": []
    },
    {
      "metadata": {
        "id": "Zh8m7sZ40FrV",
        "colab_type": "code",
        "colab": {}
      },
      "cell_type": "code",
      "source": [
        "#Forecast Prediction\n",
        "forecast_prediction = reg.predict(X_forecast)\n",
        "print(forecast_prediction)"
      ],
      "execution_count": 0,
      "outputs": []
    },
    {
      "metadata": {
        "id": "HcuAWGBxFu5j",
        "colab_type": "text"
      },
      "cell_type": "markdown",
      "source": [
        "##Support Vector Regression"
      ]
    },
    {
      "metadata": {
        "id": "HACcHC3d0I0K",
        "colab_type": "code",
        "colab": {}
      },
      "cell_type": "code",
      "source": [
        "#Training - SVR\n",
        "reg = svm.SVR(kernel='linear', gamma='scale', C=1.0, epsilon=0.1)\n",
        "reg.fit(X_train, y_train)\n",
        "\n",
        "#TESTING\n",
        "confidence = reg.score(X_test, y_test)\n",
        "print(\"confidence: \", confidence)"
      ],
      "execution_count": 0,
      "outputs": []
    },
    {
      "metadata": {
        "id": "-IVkSzTCqo53",
        "colab_type": "code",
        "colab": {}
      },
      "cell_type": "code",
      "source": [
        "#Forecast Prediction\n",
        "forecast_prediction = reg.predict(X_forecast)\n",
        "print(forecast_prediction)"
      ],
      "execution_count": 0,
      "outputs": []
    },
    {
      "metadata": {
        "id": "mMdcaIL9I9z9",
        "colab_type": "text"
      },
      "cell_type": "markdown",
      "source": [
        "##KNN Regressor"
      ]
    },
    {
      "metadata": {
        "id": "a-RVe4HgHP37",
        "colab_type": "code",
        "colab": {}
      },
      "cell_type": "code",
      "source": [
        "#Training - KNN\n",
        "reg = neigh = KNeighborsRegressor(n_neighbors=9)\n",
        "reg.fit(X_train, y_train)\n",
        "\n",
        "#Testing\n",
        "confidence = reg.score(X_test, y_test)\n",
        "print(\"confidence: \", confidence)"
      ],
      "execution_count": 0,
      "outputs": []
    },
    {
      "metadata": {
        "id": "juf8qPUyJYAX",
        "colab_type": "code",
        "colab": {}
      },
      "cell_type": "code",
      "source": [
        "#Forecast Prediction\n",
        "forecast_prediction = reg.predict(X_forecast)\n",
        "print(forecast_prediction)"
      ],
      "execution_count": 0,
      "outputs": []
    },
    {
      "metadata": {
        "id": "bhsKPdreKfqd",
        "colab_type": "text"
      },
      "cell_type": "markdown",
      "source": [
        "##Random Forest Regressor"
      ]
    },
    {
      "metadata": {
        "id": "Ahmwg2YLJc53",
        "colab_type": "code",
        "colab": {}
      },
      "cell_type": "code",
      "source": [
        "#Training - Random Forest Regressor\n",
        "reg = RandomForestRegressor(max_depth=2, random_state=0, n_estimators=100)\n",
        "reg.fit(X_train, y_train)\n",
        "\n",
        "#Testing\n",
        "confidence = reg.score(X_test, y_test)\n",
        "print(\"confidence: \", confidence)"
      ],
      "execution_count": 0,
      "outputs": []
    },
    {
      "metadata": {
        "id": "ToycvkE_PCr3",
        "colab_type": "code",
        "colab": {}
      },
      "cell_type": "code",
      "source": [
        "#Forecast Prediction\n",
        "forecast_prediction = reg.predict(X_forecast)\n",
        "print(forecast_prediction)"
      ],
      "execution_count": 0,
      "outputs": []
    },
    {
      "metadata": {
        "id": "50qh7o3Wondt",
        "colab_type": "code",
        "colab": {}
      },
      "cell_type": "code",
      "source": [
        "X_train.shape"
      ],
      "execution_count": 0,
      "outputs": []
    },
    {
      "metadata": {
        "id": "7j4CfTxFkjLx",
        "colab_type": "text"
      },
      "cell_type": "markdown",
      "source": [
        "#Neural Network Regression"
      ]
    },
    {
      "metadata": {
        "id": "ImiOCAsAkmwV",
        "colab_type": "text"
      },
      "cell_type": "markdown",
      "source": [
        "##RNN - LSTM"
      ]
    },
    {
      "metadata": {
        "id": "o-nxB7VxSp34",
        "colab_type": "code",
        "colab": {}
      },
      "cell_type": "code",
      "source": [
        "# df = SPX_data[['4. close']]\n",
        "df = SPX_data\n",
        "# forecast_out = int(1)\n",
        "\n",
        "# df['prediction'] = df[['4. close']].shift(-forecast_out)\n",
        "# df"
      ],
      "execution_count": 0,
      "outputs": []
    },
    {
      "metadata": {
        "id": "OJTHxWmIrvG7",
        "colab_type": "code",
        "outputId": "422f32d5-838d-4d02-b2d9-10970626f9bd",
        "colab": {
          "base_uri": "https://localhost:8080/",
          "height": 2000
        }
      },
      "cell_type": "code",
      "source": [
        "SPX_data"
      ],
      "execution_count": 0,
      "outputs": [
        {
          "output_type": "execute_result",
          "data": {
            "text/html": [
              "<div>\n",
              "<style scoped>\n",
              "    .dataframe tbody tr th:only-of-type {\n",
              "        vertical-align: middle;\n",
              "    }\n",
              "\n",
              "    .dataframe tbody tr th {\n",
              "        vertical-align: top;\n",
              "    }\n",
              "\n",
              "    .dataframe thead th {\n",
              "        text-align: right;\n",
              "    }\n",
              "</style>\n",
              "<table border=\"1\" class=\"dataframe\">\n",
              "  <thead>\n",
              "    <tr style=\"text-align: right;\">\n",
              "      <th></th>\n",
              "      <th>1. open</th>\n",
              "      <th>2. high</th>\n",
              "      <th>3. low</th>\n",
              "      <th>4. close</th>\n",
              "      <th>5. volume</th>\n",
              "    </tr>\n",
              "    <tr>\n",
              "      <th>date</th>\n",
              "      <th></th>\n",
              "      <th></th>\n",
              "      <th></th>\n",
              "      <th></th>\n",
              "      <th></th>\n",
              "    </tr>\n",
              "  </thead>\n",
              "  <tbody>\n",
              "    <tr>\n",
              "      <th>2000-01-03</th>\n",
              "      <td>1469.2500</td>\n",
              "      <td>1478.0000</td>\n",
              "      <td>1438.3600</td>\n",
              "      <td>1455.2200</td>\n",
              "      <td>9.318000e+08</td>\n",
              "    </tr>\n",
              "    <tr>\n",
              "      <th>2000-01-04</th>\n",
              "      <td>1455.2200</td>\n",
              "      <td>1455.2200</td>\n",
              "      <td>1397.4301</td>\n",
              "      <td>1399.4200</td>\n",
              "      <td>1.009000e+09</td>\n",
              "    </tr>\n",
              "    <tr>\n",
              "      <th>2000-01-05</th>\n",
              "      <td>1399.4200</td>\n",
              "      <td>1413.2700</td>\n",
              "      <td>1377.6801</td>\n",
              "      <td>1402.1100</td>\n",
              "      <td>1.085500e+09</td>\n",
              "    </tr>\n",
              "    <tr>\n",
              "      <th>2000-01-06</th>\n",
              "      <td>1402.1100</td>\n",
              "      <td>1411.9000</td>\n",
              "      <td>1392.1000</td>\n",
              "      <td>1403.4500</td>\n",
              "      <td>1.092300e+09</td>\n",
              "    </tr>\n",
              "    <tr>\n",
              "      <th>2000-01-07</th>\n",
              "      <td>1403.4500</td>\n",
              "      <td>1441.4700</td>\n",
              "      <td>1400.7300</td>\n",
              "      <td>1441.4700</td>\n",
              "      <td>1.225200e+09</td>\n",
              "    </tr>\n",
              "    <tr>\n",
              "      <th>2000-01-10</th>\n",
              "      <td>1441.4700</td>\n",
              "      <td>1464.3600</td>\n",
              "      <td>1441.4700</td>\n",
              "      <td>1457.6000</td>\n",
              "      <td>1.064800e+09</td>\n",
              "    </tr>\n",
              "    <tr>\n",
              "      <th>2000-01-11</th>\n",
              "      <td>1457.6000</td>\n",
              "      <td>1458.6600</td>\n",
              "      <td>1434.4200</td>\n",
              "      <td>1438.5601</td>\n",
              "      <td>1.014000e+09</td>\n",
              "    </tr>\n",
              "    <tr>\n",
              "      <th>2000-01-12</th>\n",
              "      <td>1438.5601</td>\n",
              "      <td>1442.6000</td>\n",
              "      <td>1427.0800</td>\n",
              "      <td>1432.2500</td>\n",
              "      <td>9.746000e+08</td>\n",
              "    </tr>\n",
              "    <tr>\n",
              "      <th>2000-01-13</th>\n",
              "      <td>1432.2500</td>\n",
              "      <td>1454.2000</td>\n",
              "      <td>1432.2500</td>\n",
              "      <td>1449.6801</td>\n",
              "      <td>1.030400e+09</td>\n",
              "    </tr>\n",
              "    <tr>\n",
              "      <th>2000-01-14</th>\n",
              "      <td>1449.6801</td>\n",
              "      <td>1473.0000</td>\n",
              "      <td>1449.6801</td>\n",
              "      <td>1465.1500</td>\n",
              "      <td>1.085900e+09</td>\n",
              "    </tr>\n",
              "    <tr>\n",
              "      <th>2000-01-18</th>\n",
              "      <td>1465.1500</td>\n",
              "      <td>1465.1500</td>\n",
              "      <td>1451.3000</td>\n",
              "      <td>1455.1400</td>\n",
              "      <td>1.056700e+09</td>\n",
              "    </tr>\n",
              "    <tr>\n",
              "      <th>2000-01-19</th>\n",
              "      <td>1455.1400</td>\n",
              "      <td>1461.3900</td>\n",
              "      <td>1448.6801</td>\n",
              "      <td>1455.9000</td>\n",
              "      <td>1.087800e+09</td>\n",
              "    </tr>\n",
              "    <tr>\n",
              "      <th>2000-01-20</th>\n",
              "      <td>1455.9000</td>\n",
              "      <td>1465.7100</td>\n",
              "      <td>1438.5400</td>\n",
              "      <td>1445.5699</td>\n",
              "      <td>1.100700e+09</td>\n",
              "    </tr>\n",
              "    <tr>\n",
              "      <th>2000-01-21</th>\n",
              "      <td>1445.5699</td>\n",
              "      <td>1453.1801</td>\n",
              "      <td>1439.6000</td>\n",
              "      <td>1441.3600</td>\n",
              "      <td>1.209800e+09</td>\n",
              "    </tr>\n",
              "    <tr>\n",
              "      <th>2000-01-24</th>\n",
              "      <td>1441.3600</td>\n",
              "      <td>1454.0900</td>\n",
              "      <td>1395.4200</td>\n",
              "      <td>1401.5300</td>\n",
              "      <td>1.115800e+09</td>\n",
              "    </tr>\n",
              "    <tr>\n",
              "      <th>2000-01-25</th>\n",
              "      <td>1401.5300</td>\n",
              "      <td>1414.2600</td>\n",
              "      <td>1388.4900</td>\n",
              "      <td>1410.0300</td>\n",
              "      <td>1.073700e+09</td>\n",
              "    </tr>\n",
              "    <tr>\n",
              "      <th>2000-01-26</th>\n",
              "      <td>1410.0300</td>\n",
              "      <td>1412.7300</td>\n",
              "      <td>1400.1600</td>\n",
              "      <td>1404.0900</td>\n",
              "      <td>1.117300e+09</td>\n",
              "    </tr>\n",
              "    <tr>\n",
              "      <th>2000-01-27</th>\n",
              "      <td>1404.0900</td>\n",
              "      <td>1418.8600</td>\n",
              "      <td>1370.9900</td>\n",
              "      <td>1398.5601</td>\n",
              "      <td>1.129500e+09</td>\n",
              "    </tr>\n",
              "    <tr>\n",
              "      <th>2000-01-28</th>\n",
              "      <td>1398.5601</td>\n",
              "      <td>1398.5601</td>\n",
              "      <td>1356.2000</td>\n",
              "      <td>1360.1600</td>\n",
              "      <td>1.095800e+09</td>\n",
              "    </tr>\n",
              "    <tr>\n",
              "      <th>2000-01-31</th>\n",
              "      <td>1360.1600</td>\n",
              "      <td>1394.4800</td>\n",
              "      <td>1350.1400</td>\n",
              "      <td>1394.4600</td>\n",
              "      <td>9.938000e+08</td>\n",
              "    </tr>\n",
              "    <tr>\n",
              "      <th>2000-02-01</th>\n",
              "      <td>1394.4600</td>\n",
              "      <td>1412.4900</td>\n",
              "      <td>1384.7900</td>\n",
              "      <td>1409.2800</td>\n",
              "      <td>9.810000e+08</td>\n",
              "    </tr>\n",
              "    <tr>\n",
              "      <th>2000-02-02</th>\n",
              "      <td>1409.2800</td>\n",
              "      <td>1420.6100</td>\n",
              "      <td>1403.4900</td>\n",
              "      <td>1409.1200</td>\n",
              "      <td>1.038600e+09</td>\n",
              "    </tr>\n",
              "    <tr>\n",
              "      <th>2000-02-03</th>\n",
              "      <td>1409.1200</td>\n",
              "      <td>1425.7800</td>\n",
              "      <td>1398.5200</td>\n",
              "      <td>1424.9700</td>\n",
              "      <td>1.146500e+09</td>\n",
              "    </tr>\n",
              "    <tr>\n",
              "      <th>2000-02-04</th>\n",
              "      <td>1424.9700</td>\n",
              "      <td>1435.9100</td>\n",
              "      <td>1420.6300</td>\n",
              "      <td>1424.3700</td>\n",
              "      <td>1.045100e+09</td>\n",
              "    </tr>\n",
              "    <tr>\n",
              "      <th>2000-02-07</th>\n",
              "      <td>1424.3700</td>\n",
              "      <td>1427.1500</td>\n",
              "      <td>1413.3300</td>\n",
              "      <td>1424.2400</td>\n",
              "      <td>9.181000e+08</td>\n",
              "    </tr>\n",
              "    <tr>\n",
              "      <th>2000-02-08</th>\n",
              "      <td>1424.2400</td>\n",
              "      <td>1441.8300</td>\n",
              "      <td>1424.2400</td>\n",
              "      <td>1441.7200</td>\n",
              "      <td>1.047700e+09</td>\n",
              "    </tr>\n",
              "    <tr>\n",
              "      <th>2000-02-09</th>\n",
              "      <td>1441.7200</td>\n",
              "      <td>1444.5500</td>\n",
              "      <td>1411.6500</td>\n",
              "      <td>1411.7100</td>\n",
              "      <td>1.050500e+09</td>\n",
              "    </tr>\n",
              "    <tr>\n",
              "      <th>2000-02-10</th>\n",
              "      <td>1411.7000</td>\n",
              "      <td>1422.1000</td>\n",
              "      <td>1406.4301</td>\n",
              "      <td>1416.8300</td>\n",
              "      <td>1.058800e+09</td>\n",
              "    </tr>\n",
              "    <tr>\n",
              "      <th>2000-02-11</th>\n",
              "      <td>1416.8300</td>\n",
              "      <td>1416.8300</td>\n",
              "      <td>1378.8900</td>\n",
              "      <td>1387.1200</td>\n",
              "      <td>1.025700e+09</td>\n",
              "    </tr>\n",
              "    <tr>\n",
              "      <th>2000-02-14</th>\n",
              "      <td>1387.1200</td>\n",
              "      <td>1394.9301</td>\n",
              "      <td>1380.5300</td>\n",
              "      <td>1389.9399</td>\n",
              "      <td>9.273000e+08</td>\n",
              "    </tr>\n",
              "    <tr>\n",
              "      <th>...</th>\n",
              "      <td>...</td>\n",
              "      <td>...</td>\n",
              "      <td>...</td>\n",
              "      <td>...</td>\n",
              "      <td>...</td>\n",
              "    </tr>\n",
              "    <tr>\n",
              "      <th>2019-02-20</th>\n",
              "      <td>2779.0500</td>\n",
              "      <td>2789.8799</td>\n",
              "      <td>2774.0601</td>\n",
              "      <td>2784.7000</td>\n",
              "      <td>3.835450e+09</td>\n",
              "    </tr>\n",
              "    <tr>\n",
              "      <th>2019-02-21</th>\n",
              "      <td>2780.2400</td>\n",
              "      <td>2781.5801</td>\n",
              "      <td>2764.5500</td>\n",
              "      <td>2774.8799</td>\n",
              "      <td>3.559710e+09</td>\n",
              "    </tr>\n",
              "    <tr>\n",
              "      <th>2019-02-22</th>\n",
              "      <td>2780.6699</td>\n",
              "      <td>2794.2000</td>\n",
              "      <td>2779.1101</td>\n",
              "      <td>2792.6699</td>\n",
              "      <td>3.427810e+09</td>\n",
              "    </tr>\n",
              "    <tr>\n",
              "      <th>2019-02-25</th>\n",
              "      <td>2804.3501</td>\n",
              "      <td>2813.4900</td>\n",
              "      <td>2794.9900</td>\n",
              "      <td>2796.1101</td>\n",
              "      <td>3.804380e+09</td>\n",
              "    </tr>\n",
              "    <tr>\n",
              "      <th>2019-02-26</th>\n",
              "      <td>2792.3601</td>\n",
              "      <td>2803.1201</td>\n",
              "      <td>2789.4700</td>\n",
              "      <td>2793.8999</td>\n",
              "      <td>3.645680e+09</td>\n",
              "    </tr>\n",
              "    <tr>\n",
              "      <th>2019-02-27</th>\n",
              "      <td>2787.5000</td>\n",
              "      <td>2795.7600</td>\n",
              "      <td>2775.1299</td>\n",
              "      <td>2792.3799</td>\n",
              "      <td>3.767130e+09</td>\n",
              "    </tr>\n",
              "    <tr>\n",
              "      <th>2019-02-28</th>\n",
              "      <td>2788.1101</td>\n",
              "      <td>2793.7300</td>\n",
              "      <td>2782.5100</td>\n",
              "      <td>2784.4900</td>\n",
              "      <td>4.396930e+09</td>\n",
              "    </tr>\n",
              "    <tr>\n",
              "      <th>2019-03-01</th>\n",
              "      <td>2798.2200</td>\n",
              "      <td>2808.0200</td>\n",
              "      <td>2787.3799</td>\n",
              "      <td>2803.6899</td>\n",
              "      <td>3.972280e+09</td>\n",
              "    </tr>\n",
              "    <tr>\n",
              "      <th>2019-03-04</th>\n",
              "      <td>2814.3701</td>\n",
              "      <td>2816.8799</td>\n",
              "      <td>2767.6599</td>\n",
              "      <td>2792.8101</td>\n",
              "      <td>3.919810e+09</td>\n",
              "    </tr>\n",
              "    <tr>\n",
              "      <th>2019-03-05</th>\n",
              "      <td>2794.4099</td>\n",
              "      <td>2796.4399</td>\n",
              "      <td>2782.9700</td>\n",
              "      <td>2789.6499</td>\n",
              "      <td>3.585690e+09</td>\n",
              "    </tr>\n",
              "    <tr>\n",
              "      <th>2019-03-06</th>\n",
              "      <td>2790.2700</td>\n",
              "      <td>2790.2700</td>\n",
              "      <td>2768.6899</td>\n",
              "      <td>2771.4500</td>\n",
              "      <td>3.786600e+09</td>\n",
              "    </tr>\n",
              "    <tr>\n",
              "      <th>2019-03-07</th>\n",
              "      <td>2766.5300</td>\n",
              "      <td>2767.2500</td>\n",
              "      <td>2739.0901</td>\n",
              "      <td>2748.9299</td>\n",
              "      <td>3.904860e+09</td>\n",
              "    </tr>\n",
              "    <tr>\n",
              "      <th>2019-03-08</th>\n",
              "      <td>2730.7900</td>\n",
              "      <td>2744.1299</td>\n",
              "      <td>2722.2700</td>\n",
              "      <td>2743.0701</td>\n",
              "      <td>3.423130e+09</td>\n",
              "    </tr>\n",
              "    <tr>\n",
              "      <th>2019-03-11</th>\n",
              "      <td>2747.6101</td>\n",
              "      <td>2784.0000</td>\n",
              "      <td>2747.6101</td>\n",
              "      <td>2783.3000</td>\n",
              "      <td>3.749030e+09</td>\n",
              "    </tr>\n",
              "    <tr>\n",
              "      <th>2019-03-12</th>\n",
              "      <td>2787.3401</td>\n",
              "      <td>2798.3201</td>\n",
              "      <td>2786.7300</td>\n",
              "      <td>2791.5200</td>\n",
              "      <td>3.414230e+09</td>\n",
              "    </tr>\n",
              "    <tr>\n",
              "      <th>2019-03-13</th>\n",
              "      <td>2799.7800</td>\n",
              "      <td>2821.2400</td>\n",
              "      <td>2799.7800</td>\n",
              "      <td>2810.9199</td>\n",
              "      <td>3.766150e+09</td>\n",
              "    </tr>\n",
              "    <tr>\n",
              "      <th>2019-03-14</th>\n",
              "      <td>2810.3799</td>\n",
              "      <td>2815.0000</td>\n",
              "      <td>2803.4600</td>\n",
              "      <td>2808.4800</td>\n",
              "      <td>3.469730e+09</td>\n",
              "    </tr>\n",
              "    <tr>\n",
              "      <th>2019-03-15</th>\n",
              "      <td>2810.7900</td>\n",
              "      <td>2830.7300</td>\n",
              "      <td>2810.7900</td>\n",
              "      <td>2822.4800</td>\n",
              "      <td>5.962730e+09</td>\n",
              "    </tr>\n",
              "    <tr>\n",
              "      <th>2019-03-18</th>\n",
              "      <td>2822.6101</td>\n",
              "      <td>2835.4099</td>\n",
              "      <td>2821.9900</td>\n",
              "      <td>2832.9399</td>\n",
              "      <td>3.552190e+09</td>\n",
              "    </tr>\n",
              "    <tr>\n",
              "      <th>2019-03-19</th>\n",
              "      <td>2840.7600</td>\n",
              "      <td>2852.4199</td>\n",
              "      <td>2823.2700</td>\n",
              "      <td>2832.5701</td>\n",
              "      <td>3.620220e+09</td>\n",
              "    </tr>\n",
              "    <tr>\n",
              "      <th>2019-03-20</th>\n",
              "      <td>2831.3401</td>\n",
              "      <td>2843.5400</td>\n",
              "      <td>2812.4299</td>\n",
              "      <td>2824.2300</td>\n",
              "      <td>3.771200e+09</td>\n",
              "    </tr>\n",
              "    <tr>\n",
              "      <th>2019-03-21</th>\n",
              "      <td>2819.7200</td>\n",
              "      <td>2860.3101</td>\n",
              "      <td>2817.3799</td>\n",
              "      <td>2854.8799</td>\n",
              "      <td>3.546800e+09</td>\n",
              "    </tr>\n",
              "    <tr>\n",
              "      <th>2019-03-22</th>\n",
              "      <td>2844.5200</td>\n",
              "      <td>2846.1599</td>\n",
              "      <td>2800.4700</td>\n",
              "      <td>2800.7100</td>\n",
              "      <td>4.237200e+09</td>\n",
              "    </tr>\n",
              "    <tr>\n",
              "      <th>2019-03-25</th>\n",
              "      <td>2796.0100</td>\n",
              "      <td>2809.7900</td>\n",
              "      <td>2785.0200</td>\n",
              "      <td>2798.3601</td>\n",
              "      <td>3.376580e+09</td>\n",
              "    </tr>\n",
              "    <tr>\n",
              "      <th>2019-03-26</th>\n",
              "      <td>2812.6599</td>\n",
              "      <td>2829.8701</td>\n",
              "      <td>2803.9900</td>\n",
              "      <td>2818.4600</td>\n",
              "      <td>3.266050e+09</td>\n",
              "    </tr>\n",
              "    <tr>\n",
              "      <th>2019-03-27</th>\n",
              "      <td>2819.7200</td>\n",
              "      <td>2825.5601</td>\n",
              "      <td>2787.7200</td>\n",
              "      <td>2805.3701</td>\n",
              "      <td>3.372930e+09</td>\n",
              "    </tr>\n",
              "    <tr>\n",
              "      <th>2019-03-28</th>\n",
              "      <td>2809.3999</td>\n",
              "      <td>2819.7100</td>\n",
              "      <td>2798.7700</td>\n",
              "      <td>2815.4399</td>\n",
              "      <td>3.158170e+09</td>\n",
              "    </tr>\n",
              "    <tr>\n",
              "      <th>2019-03-29</th>\n",
              "      <td>2828.2700</td>\n",
              "      <td>2836.0300</td>\n",
              "      <td>2819.2300</td>\n",
              "      <td>2834.3999</td>\n",
              "      <td>3.740700e+09</td>\n",
              "    </tr>\n",
              "    <tr>\n",
              "      <th>2019-04-01</th>\n",
              "      <td>2848.6299</td>\n",
              "      <td>2869.3999</td>\n",
              "      <td>2848.6299</td>\n",
              "      <td>2867.1899</td>\n",
              "      <td>3.500760e+09</td>\n",
              "    </tr>\n",
              "    <tr>\n",
              "      <th>2019-04-02</th>\n",
              "      <td>2868.2400</td>\n",
              "      <td>2872.8999</td>\n",
              "      <td>2858.7500</td>\n",
              "      <td>2868.0901</td>\n",
              "      <td>1.293582e+09</td>\n",
              "    </tr>\n",
              "  </tbody>\n",
              "</table>\n",
              "<p>4842 rows × 5 columns</p>\n",
              "</div>"
            ],
            "text/plain": [
              "              1. open    2. high     3. low   4. close     5. volume\n",
              "date                                                                \n",
              "2000-01-03  1469.2500  1478.0000  1438.3600  1455.2200  9.318000e+08\n",
              "2000-01-04  1455.2200  1455.2200  1397.4301  1399.4200  1.009000e+09\n",
              "2000-01-05  1399.4200  1413.2700  1377.6801  1402.1100  1.085500e+09\n",
              "2000-01-06  1402.1100  1411.9000  1392.1000  1403.4500  1.092300e+09\n",
              "2000-01-07  1403.4500  1441.4700  1400.7300  1441.4700  1.225200e+09\n",
              "2000-01-10  1441.4700  1464.3600  1441.4700  1457.6000  1.064800e+09\n",
              "2000-01-11  1457.6000  1458.6600  1434.4200  1438.5601  1.014000e+09\n",
              "2000-01-12  1438.5601  1442.6000  1427.0800  1432.2500  9.746000e+08\n",
              "2000-01-13  1432.2500  1454.2000  1432.2500  1449.6801  1.030400e+09\n",
              "2000-01-14  1449.6801  1473.0000  1449.6801  1465.1500  1.085900e+09\n",
              "2000-01-18  1465.1500  1465.1500  1451.3000  1455.1400  1.056700e+09\n",
              "2000-01-19  1455.1400  1461.3900  1448.6801  1455.9000  1.087800e+09\n",
              "2000-01-20  1455.9000  1465.7100  1438.5400  1445.5699  1.100700e+09\n",
              "2000-01-21  1445.5699  1453.1801  1439.6000  1441.3600  1.209800e+09\n",
              "2000-01-24  1441.3600  1454.0900  1395.4200  1401.5300  1.115800e+09\n",
              "2000-01-25  1401.5300  1414.2600  1388.4900  1410.0300  1.073700e+09\n",
              "2000-01-26  1410.0300  1412.7300  1400.1600  1404.0900  1.117300e+09\n",
              "2000-01-27  1404.0900  1418.8600  1370.9900  1398.5601  1.129500e+09\n",
              "2000-01-28  1398.5601  1398.5601  1356.2000  1360.1600  1.095800e+09\n",
              "2000-01-31  1360.1600  1394.4800  1350.1400  1394.4600  9.938000e+08\n",
              "2000-02-01  1394.4600  1412.4900  1384.7900  1409.2800  9.810000e+08\n",
              "2000-02-02  1409.2800  1420.6100  1403.4900  1409.1200  1.038600e+09\n",
              "2000-02-03  1409.1200  1425.7800  1398.5200  1424.9700  1.146500e+09\n",
              "2000-02-04  1424.9700  1435.9100  1420.6300  1424.3700  1.045100e+09\n",
              "2000-02-07  1424.3700  1427.1500  1413.3300  1424.2400  9.181000e+08\n",
              "2000-02-08  1424.2400  1441.8300  1424.2400  1441.7200  1.047700e+09\n",
              "2000-02-09  1441.7200  1444.5500  1411.6500  1411.7100  1.050500e+09\n",
              "2000-02-10  1411.7000  1422.1000  1406.4301  1416.8300  1.058800e+09\n",
              "2000-02-11  1416.8300  1416.8300  1378.8900  1387.1200  1.025700e+09\n",
              "2000-02-14  1387.1200  1394.9301  1380.5300  1389.9399  9.273000e+08\n",
              "...               ...        ...        ...        ...           ...\n",
              "2019-02-20  2779.0500  2789.8799  2774.0601  2784.7000  3.835450e+09\n",
              "2019-02-21  2780.2400  2781.5801  2764.5500  2774.8799  3.559710e+09\n",
              "2019-02-22  2780.6699  2794.2000  2779.1101  2792.6699  3.427810e+09\n",
              "2019-02-25  2804.3501  2813.4900  2794.9900  2796.1101  3.804380e+09\n",
              "2019-02-26  2792.3601  2803.1201  2789.4700  2793.8999  3.645680e+09\n",
              "2019-02-27  2787.5000  2795.7600  2775.1299  2792.3799  3.767130e+09\n",
              "2019-02-28  2788.1101  2793.7300  2782.5100  2784.4900  4.396930e+09\n",
              "2019-03-01  2798.2200  2808.0200  2787.3799  2803.6899  3.972280e+09\n",
              "2019-03-04  2814.3701  2816.8799  2767.6599  2792.8101  3.919810e+09\n",
              "2019-03-05  2794.4099  2796.4399  2782.9700  2789.6499  3.585690e+09\n",
              "2019-03-06  2790.2700  2790.2700  2768.6899  2771.4500  3.786600e+09\n",
              "2019-03-07  2766.5300  2767.2500  2739.0901  2748.9299  3.904860e+09\n",
              "2019-03-08  2730.7900  2744.1299  2722.2700  2743.0701  3.423130e+09\n",
              "2019-03-11  2747.6101  2784.0000  2747.6101  2783.3000  3.749030e+09\n",
              "2019-03-12  2787.3401  2798.3201  2786.7300  2791.5200  3.414230e+09\n",
              "2019-03-13  2799.7800  2821.2400  2799.7800  2810.9199  3.766150e+09\n",
              "2019-03-14  2810.3799  2815.0000  2803.4600  2808.4800  3.469730e+09\n",
              "2019-03-15  2810.7900  2830.7300  2810.7900  2822.4800  5.962730e+09\n",
              "2019-03-18  2822.6101  2835.4099  2821.9900  2832.9399  3.552190e+09\n",
              "2019-03-19  2840.7600  2852.4199  2823.2700  2832.5701  3.620220e+09\n",
              "2019-03-20  2831.3401  2843.5400  2812.4299  2824.2300  3.771200e+09\n",
              "2019-03-21  2819.7200  2860.3101  2817.3799  2854.8799  3.546800e+09\n",
              "2019-03-22  2844.5200  2846.1599  2800.4700  2800.7100  4.237200e+09\n",
              "2019-03-25  2796.0100  2809.7900  2785.0200  2798.3601  3.376580e+09\n",
              "2019-03-26  2812.6599  2829.8701  2803.9900  2818.4600  3.266050e+09\n",
              "2019-03-27  2819.7200  2825.5601  2787.7200  2805.3701  3.372930e+09\n",
              "2019-03-28  2809.3999  2819.7100  2798.7700  2815.4399  3.158170e+09\n",
              "2019-03-29  2828.2700  2836.0300  2819.2300  2834.3999  3.740700e+09\n",
              "2019-04-01  2848.6299  2869.3999  2848.6299  2867.1899  3.500760e+09\n",
              "2019-04-02  2868.2400  2872.8999  2858.7500  2868.0901  1.293582e+09\n",
              "\n",
              "[4842 rows x 5 columns]"
            ]
          },
          "metadata": {
            "tags": []
          },
          "execution_count": 5
        }
      ]
    },
    {
      "metadata": {
        "id": "MTpixZCgCH1s",
        "colab_type": "code",
        "outputId": "f1648e1b-32b5-4e13-a107-6c5952de0a48",
        "colab": {
          "base_uri": "https://localhost:8080/",
          "height": 136
        }
      },
      "cell_type": "code",
      "source": [
        "scl = preprocessing.MinMaxScaler()\n",
        "#Scale the data\n",
        "df = df.values #[\"4. close\"]\n",
        "df = df.reshape(df.shape[0],5)\n",
        "df = scl.fit_transform(df)\n",
        "df"
      ],
      "execution_count": 0,
      "outputs": [
        {
          "output_type": "execute_result",
          "data": {
            "text/plain": [
              "array([[0.34993444, 0.34855544, 0.34135431, 0.34543656, 0.05186682],\n",
              "       [0.34371955, 0.33841134, 0.3232463 , 0.32068299, 0.05882167],\n",
              "       [0.31900172, 0.31973069, 0.3145086 , 0.3218763 , 0.06571347],\n",
              "       ...,\n",
              "       [0.95194199, 0.95329621, 0.9522722 , 0.9572579 , 0.30491723],\n",
              "       [0.96096085, 0.96815607, 0.96527917, 0.97180395, 0.28330132],\n",
              "       [0.96964757, 0.96971465, 0.96975645, 0.97220329, 0.08445935]])"
            ]
          },
          "metadata": {
            "tags": []
          },
          "execution_count": 6
        }
      ]
    },
    {
      "metadata": {
        "id": "WKzpPheqCiWt",
        "colab_type": "code",
        "outputId": "3bb5d751-c2f2-4b2f-f6b1-1175a14b8d2a",
        "colab": {
          "base_uri": "https://localhost:8080/",
          "height": 85
        }
      },
      "cell_type": "code",
      "source": [
        "#Create a function to process the data into 7 day look back slices\n",
        "def processData(data,lb):\n",
        "    X,Y = [],[]\n",
        "    for i in range(len(data)-lb-1):\n",
        "        X.append(data[i:(i+lb),:])\n",
        "        Y.append(data[(i+lb),0])\n",
        "    return np.array(X),np.array(Y)\n",
        "  \n",
        "# X, y = processData(df, 30)\n",
        "X,y = processData(df,30)\n",
        "\n",
        "X_train,X_test = X[:int(X.shape[0]*0.80)],X[int(X.shape[0]*0.80):]\n",
        "y_train,y_test = y[:int(y.shape[0]*0.80)],y[int(y.shape[0]*0.80):]\n",
        "print(X_train.shape)\n",
        "print(X_test.shape)\n",
        "print(y_train.shape)\n",
        "print(y_test.shape)"
      ],
      "execution_count": 0,
      "outputs": [
        {
          "output_type": "stream",
          "text": [
            "(3848, 30, 5)\n",
            "(963, 30, 5)\n",
            "(3848,)\n",
            "(963,)\n"
          ],
          "name": "stdout"
        }
      ]
    },
    {
      "metadata": {
        "id": "NIdPSqz8svu2",
        "colab_type": "code",
        "outputId": "d3fedaa2-d0f9-4cd7-e897-d314de85edab",
        "colab": {
          "base_uri": "https://localhost:8080/",
          "height": 34
        }
      },
      "cell_type": "code",
      "source": [
        "y_train.shape\n",
        "# y_test.shape"
      ],
      "execution_count": 0,
      "outputs": [
        {
          "output_type": "execute_result",
          "data": {
            "text/plain": [
              "(3848,)"
            ]
          },
          "metadata": {
            "tags": []
          },
          "execution_count": 8
        }
      ]
    },
    {
      "metadata": {
        "id": "Y7NAlxcVCxRT",
        "colab_type": "code",
        "outputId": "8fae0499-926c-458f-c433-9231c9b05952",
        "colab": {
          "base_uri": "https://localhost:8080/",
          "height": 3556
        }
      },
      "cell_type": "code",
      "source": [
        "#Reshape data for (Sample,Timestep,Features) \n",
        "X_train = X_train.reshape((X_train.shape[0],X_train.shape[1],5))\n",
        "X_test = X_test.reshape((X_test.shape[0],X_test.shape[1],5))\n",
        "\n",
        "#Build the model\n",
        "model = Sequential()\n",
        "\n",
        "model.add(LSTM(units = 256, input_shape=(30,5), return_sequences=True))\n",
        "\n",
        "model.add(LSTM(units = 128, input_shape=(30,5)))\n",
        "\n",
        "# layer1 = LSTM(units = 1024, input_shape=(7,5))\n",
        "# output = layer1(input)\n",
        "\n",
        "# model.add()\n",
        "\n",
        "# model.add(Dense(32))\n",
        "model.add(Dense(64))\n",
        "model.add(Dense(1))\n",
        "model.compile(optimizer='adam',loss='mse')\n",
        "\n",
        "#Fit model with history to check for overfitting\n",
        "history = model.fit(X_train,y_train,epochs=100 ,validation_data=(X_test,y_test),shuffle=False)"
      ],
      "execution_count": 0,
      "outputs": [
        {
          "output_type": "stream",
          "text": [
            "WARNING:tensorflow:From /usr/local/lib/python3.6/dist-packages/tensorflow/python/framework/op_def_library.py:263: colocate_with (from tensorflow.python.framework.ops) is deprecated and will be removed in a future version.\n",
            "Instructions for updating:\n",
            "Colocations handled automatically by placer.\n",
            "WARNING:tensorflow:From /usr/local/lib/python3.6/dist-packages/tensorflow/python/ops/math_ops.py:3066: to_int32 (from tensorflow.python.ops.math_ops) is deprecated and will be removed in a future version.\n",
            "Instructions for updating:\n",
            "Use tf.cast instead.\n",
            "Train on 3848 samples, validate on 963 samples\n",
            "Epoch 1/100\n",
            "3848/3848 [==============================] - 30s 8ms/step - loss: 0.0023 - val_loss: 0.0037\n",
            "Epoch 2/100\n",
            "3848/3848 [==============================] - 27s 7ms/step - loss: 0.0017 - val_loss: 0.0099\n",
            "Epoch 3/100\n",
            "3848/3848 [==============================] - 26s 7ms/step - loss: 0.0029 - val_loss: 0.0081\n",
            "Epoch 4/100\n",
            "3848/3848 [==============================] - 26s 7ms/step - loss: 0.0030 - val_loss: 0.0141\n",
            "Epoch 5/100\n",
            "3848/3848 [==============================] - 25s 6ms/step - loss: 0.0033 - val_loss: 0.0145\n",
            "Epoch 6/100\n",
            "3848/3848 [==============================] - 25s 6ms/step - loss: 0.0033 - val_loss: 0.0170\n",
            "Epoch 7/100\n",
            "3848/3848 [==============================] - 24s 6ms/step - loss: 0.0035 - val_loss: 0.0249\n",
            "Epoch 8/100\n",
            "3848/3848 [==============================] - 25s 6ms/step - loss: 0.0036 - val_loss: 0.0206\n",
            "Epoch 9/100\n",
            "3848/3848 [==============================] - 25s 6ms/step - loss: 0.0040 - val_loss: 0.0274\n",
            "Epoch 10/100\n",
            "3848/3848 [==============================] - 26s 7ms/step - loss: 0.0042 - val_loss: 0.0263\n",
            "Epoch 11/100\n",
            "3848/3848 [==============================] - 27s 7ms/step - loss: 0.0044 - val_loss: 0.0243\n",
            "Epoch 12/100\n",
            "3848/3848 [==============================] - 27s 7ms/step - loss: 0.0046 - val_loss: 0.0280\n",
            "Epoch 13/100\n",
            "3848/3848 [==============================] - 26s 7ms/step - loss: 0.0052 - val_loss: 0.0329\n",
            "Epoch 14/100\n",
            "3848/3848 [==============================] - 27s 7ms/step - loss: 0.0055 - val_loss: 0.0259\n",
            "Epoch 15/100\n",
            "3848/3848 [==============================] - 26s 7ms/step - loss: 0.0057 - val_loss: 0.0383\n",
            "Epoch 16/100\n",
            "3848/3848 [==============================] - 27s 7ms/step - loss: 0.0068 - val_loss: 0.0289\n",
            "Epoch 17/100\n",
            "3848/3848 [==============================] - 26s 7ms/step - loss: 0.0075 - val_loss: 0.0481\n",
            "Epoch 18/100\n",
            "3848/3848 [==============================] - 26s 7ms/step - loss: 0.0084 - val_loss: 0.0187\n",
            "Epoch 19/100\n",
            "3848/3848 [==============================] - 25s 7ms/step - loss: 0.0092 - val_loss: 0.0212\n",
            "Epoch 20/100\n",
            "3848/3848 [==============================] - 25s 7ms/step - loss: 0.0089 - val_loss: 0.0225\n",
            "Epoch 21/100\n",
            "3848/3848 [==============================] - 25s 6ms/step - loss: 0.0087 - val_loss: 0.0315\n",
            "Epoch 22/100\n",
            "3848/3848 [==============================] - 25s 7ms/step - loss: 0.0072 - val_loss: 0.0391\n",
            "Epoch 23/100\n",
            "3848/3848 [==============================] - 25s 6ms/step - loss: 0.0061 - val_loss: 0.0371\n",
            "Epoch 24/100\n",
            "3848/3848 [==============================] - 25s 6ms/step - loss: 0.0047 - val_loss: 0.0277\n",
            "Epoch 25/100\n",
            "3848/3848 [==============================] - 25s 6ms/step - loss: 0.0037 - val_loss: 0.0228\n",
            "Epoch 26/100\n",
            "3848/3848 [==============================] - 24s 6ms/step - loss: 0.0030 - val_loss: 0.0169\n",
            "Epoch 27/100\n",
            "3848/3848 [==============================] - 25s 6ms/step - loss: 0.0024 - val_loss: 0.0117\n",
            "Epoch 28/100\n",
            "3848/3848 [==============================] - 27s 7ms/step - loss: 0.0018 - val_loss: 0.0090\n",
            "Epoch 29/100\n",
            "3848/3848 [==============================] - 27s 7ms/step - loss: 0.0011 - val_loss: 0.0089\n",
            "Epoch 30/100\n",
            "3848/3848 [==============================] - 26s 7ms/step - loss: 8.6770e-04 - val_loss: 0.0105\n",
            "Epoch 31/100\n",
            "3848/3848 [==============================] - 27s 7ms/step - loss: 6.2290e-04 - val_loss: 0.0120\n",
            "Epoch 32/100\n",
            "3848/3848 [==============================] - 27s 7ms/step - loss: 5.3041e-04 - val_loss: 0.0136\n",
            "Epoch 33/100\n",
            "3848/3848 [==============================] - 27s 7ms/step - loss: 4.8474e-04 - val_loss: 0.0152\n",
            "Epoch 34/100\n",
            "3848/3848 [==============================] - 25s 7ms/step - loss: 4.4032e-04 - val_loss: 0.0168\n",
            "Epoch 35/100\n",
            "3848/3848 [==============================] - 26s 7ms/step - loss: 4.4223e-04 - val_loss: 0.0180\n",
            "Epoch 36/100\n",
            "3848/3848 [==============================] - 26s 7ms/step - loss: 4.3901e-04 - val_loss: 0.0188\n",
            "Epoch 37/100\n",
            "3848/3848 [==============================] - 26s 7ms/step - loss: 4.4395e-04 - val_loss: 0.0195\n",
            "Epoch 38/100\n",
            "3848/3848 [==============================] - 26s 7ms/step - loss: 4.4191e-04 - val_loss: 0.0197\n",
            "Epoch 39/100\n",
            "3848/3848 [==============================] - 25s 7ms/step - loss: 4.3135e-04 - val_loss: 0.0190\n",
            "Epoch 40/100\n",
            "3848/3848 [==============================] - 27s 7ms/step - loss: 3.9586e-04 - val_loss: 0.0164\n",
            "Epoch 41/100\n",
            "3848/3848 [==============================] - 26s 7ms/step - loss: 3.3602e-04 - val_loss: 0.0125\n",
            "Epoch 42/100\n",
            "3848/3848 [==============================] - 26s 7ms/step - loss: 2.9057e-04 - val_loss: 0.0106\n",
            "Epoch 43/100\n",
            "3848/3848 [==============================] - 26s 7ms/step - loss: 2.5854e-04 - val_loss: 0.0100\n",
            "Epoch 44/100\n",
            "3848/3848 [==============================] - 26s 7ms/step - loss: 2.2831e-04 - val_loss: 0.0090\n",
            "Epoch 45/100\n",
            "3848/3848 [==============================] - 26s 7ms/step - loss: 2.2645e-04 - val_loss: 0.0082\n",
            "Epoch 46/100\n",
            "3848/3848 [==============================] - 26s 7ms/step - loss: 2.3346e-04 - val_loss: 0.0075\n",
            "Epoch 47/100\n",
            "3848/3848 [==============================] - 26s 7ms/step - loss: 2.5593e-04 - val_loss: 0.0068\n",
            "Epoch 48/100\n",
            "3848/3848 [==============================] - 26s 7ms/step - loss: 2.9469e-04 - val_loss: 0.0063\n",
            "Epoch 49/100\n",
            "3848/3848 [==============================] - 26s 7ms/step - loss: 3.5235e-04 - val_loss: 0.0059\n",
            "Epoch 50/100\n",
            "3848/3848 [==============================] - 26s 7ms/step - loss: 4.3101e-04 - val_loss: 0.0056\n",
            "Epoch 51/100\n",
            "3848/3848 [==============================] - 26s 7ms/step - loss: 5.1857e-04 - val_loss: 0.0053\n",
            "Epoch 52/100\n",
            "3848/3848 [==============================] - 27s 7ms/step - loss: 5.7758e-04 - val_loss: 0.0050\n",
            "Epoch 53/100\n",
            "3848/3848 [==============================] - 26s 7ms/step - loss: 5.7961e-04 - val_loss: 0.0046\n",
            "Epoch 54/100\n",
            "3848/3848 [==============================] - 26s 7ms/step - loss: 5.2056e-04 - val_loss: 0.0046\n",
            "Epoch 55/100\n",
            "3848/3848 [==============================] - 26s 7ms/step - loss: 5.6723e-04 - val_loss: 0.0046\n",
            "Epoch 56/100\n",
            "3848/3848 [==============================] - 25s 7ms/step - loss: 7.5853e-04 - val_loss: 0.0054\n",
            "Epoch 57/100\n",
            "3848/3848 [==============================] - 25s 7ms/step - loss: 9.5116e-04 - val_loss: 0.0060\n",
            "Epoch 58/100\n",
            "3848/3848 [==============================] - 25s 7ms/step - loss: 0.0012 - val_loss: 0.0073\n",
            "Epoch 59/100\n",
            "3848/3848 [==============================] - 25s 6ms/step - loss: 0.0012 - val_loss: 0.0096\n",
            "Epoch 60/100\n",
            "3848/3848 [==============================] - 25s 7ms/step - loss: 0.0012 - val_loss: 0.0077\n",
            "Epoch 61/100\n",
            "3848/3848 [==============================] - 25s 7ms/step - loss: 9.0072e-04 - val_loss: 0.0054\n",
            "Epoch 62/100\n",
            "3848/3848 [==============================] - 25s 6ms/step - loss: 9.1138e-04 - val_loss: 0.0046\n",
            "Epoch 63/100\n",
            "3848/3848 [==============================] - 25s 6ms/step - loss: 6.7088e-04 - val_loss: 0.0019\n",
            "Epoch 64/100\n",
            "3848/3848 [==============================] - 25s 7ms/step - loss: 3.3709e-04 - val_loss: 0.0019\n",
            "Epoch 65/100\n",
            "3848/3848 [==============================] - 26s 7ms/step - loss: 2.0392e-04 - val_loss: 0.0014\n",
            "Epoch 66/100\n",
            "3848/3848 [==============================] - 25s 6ms/step - loss: 1.2927e-04 - val_loss: 0.0011\n",
            "Epoch 67/100\n",
            "3848/3848 [==============================] - 25s 6ms/step - loss: 1.0837e-04 - val_loss: 9.0554e-04\n",
            "Epoch 68/100\n",
            "3848/3848 [==============================] - 25s 7ms/step - loss: 9.8385e-05 - val_loss: 6.9837e-04\n",
            "Epoch 69/100\n",
            "3848/3848 [==============================] - 27s 7ms/step - loss: 9.3273e-05 - val_loss: 5.4079e-04\n",
            "Epoch 70/100\n",
            "3848/3848 [==============================] - 26s 7ms/step - loss: 9.4072e-05 - val_loss: 4.2543e-04\n",
            "Epoch 71/100\n",
            "3848/3848 [==============================] - 26s 7ms/step - loss: 1.0176e-04 - val_loss: 3.4761e-04\n",
            "Epoch 72/100\n",
            "3848/3848 [==============================] - 26s 7ms/step - loss: 1.1982e-04 - val_loss: 2.9988e-04\n",
            "Epoch 73/100\n",
            "3848/3848 [==============================] - 25s 7ms/step - loss: 1.5555e-04 - val_loss: 2.7095e-04\n",
            "Epoch 74/100\n",
            "3848/3848 [==============================] - 25s 6ms/step - loss: 2.2474e-04 - val_loss: 2.6271e-04\n",
            "Epoch 75/100\n",
            "3848/3848 [==============================] - 25s 6ms/step - loss: 3.6046e-04 - val_loss: 5.4400e-04\n",
            "Epoch 76/100\n",
            "3848/3848 [==============================] - 25s 6ms/step - loss: 5.3064e-04 - val_loss: 0.0029\n",
            "Epoch 77/100\n",
            "3848/3848 [==============================] - 25s 7ms/step - loss: 8.8913e-04 - val_loss: 0.0069\n",
            "Epoch 78/100\n",
            "3848/3848 [==============================] - 25s 6ms/step - loss: 0.0011 - val_loss: 0.0061\n",
            "Epoch 79/100\n",
            "3848/3848 [==============================] - 25s 6ms/step - loss: 0.0017 - val_loss: 0.0111\n",
            "Epoch 80/100\n",
            "3848/3848 [==============================] - 25s 7ms/step - loss: 0.0021 - val_loss: 0.0276\n",
            "Epoch 81/100\n",
            "3848/3848 [==============================] - 25s 6ms/step - loss: 0.0018 - val_loss: 0.0232\n",
            "Epoch 82/100\n",
            "3848/3848 [==============================] - 25s 6ms/step - loss: 0.0019 - val_loss: 0.0177\n",
            "Epoch 83/100\n",
            "3848/3848 [==============================] - 25s 7ms/step - loss: 0.0013 - val_loss: 0.0183\n",
            "Epoch 84/100\n",
            "3848/3848 [==============================] - 25s 6ms/step - loss: 0.0015 - val_loss: 0.0175\n",
            "Epoch 85/100\n",
            "3848/3848 [==============================] - 25s 6ms/step - loss: 0.0011 - val_loss: 0.0189\n",
            "Epoch 86/100\n",
            "3848/3848 [==============================] - 25s 6ms/step - loss: 6.2926e-04 - val_loss: 0.0224\n",
            "Epoch 87/100\n",
            "3848/3848 [==============================] - 25s 6ms/step - loss: 3.7504e-04 - val_loss: 0.0199\n",
            "Epoch 88/100\n",
            "3848/3848 [==============================] - 25s 6ms/step - loss: 3.4459e-04 - val_loss: 0.0114\n",
            "Epoch 89/100\n",
            "3848/3848 [==============================] - 25s 7ms/step - loss: 3.3382e-04 - val_loss: 0.0093\n",
            "Epoch 90/100\n",
            "3848/3848 [==============================] - 25s 6ms/step - loss: 2.2606e-04 - val_loss: 0.0078\n",
            "Epoch 91/100\n",
            "3848/3848 [==============================] - 24s 6ms/step - loss: 1.5297e-04 - val_loss: 0.0065\n",
            "Epoch 92/100\n",
            "3848/3848 [==============================] - 25s 6ms/step - loss: 1.1486e-04 - val_loss: 0.0053\n",
            "Epoch 93/100\n",
            "3848/3848 [==============================] - 24s 6ms/step - loss: 9.0529e-05 - val_loss: 0.0043\n",
            "Epoch 94/100\n",
            "3848/3848 [==============================] - 24s 6ms/step - loss: 7.7882e-05 - val_loss: 0.0037\n",
            "Epoch 95/100\n",
            "3848/3848 [==============================] - 25s 7ms/step - loss: 7.3071e-05 - val_loss: 0.0032\n",
            "Epoch 96/100\n",
            "3848/3848 [==============================] - 25s 7ms/step - loss: 7.3237e-05 - val_loss: 0.0030\n",
            "Epoch 97/100\n",
            "3848/3848 [==============================] - 25s 7ms/step - loss: 7.9187e-05 - val_loss: 0.0028\n",
            "Epoch 98/100\n",
            "3848/3848 [==============================] - 25s 7ms/step - loss: 9.0767e-05 - val_loss: 0.0028\n",
            "Epoch 99/100\n",
            "3848/3848 [==============================] - 25s 7ms/step - loss: 1.0679e-04 - val_loss: 0.0028\n",
            "Epoch 100/100\n",
            "3848/3848 [==============================] - 25s 7ms/step - loss: 1.1948e-04 - val_loss: 0.0029\n"
          ],
          "name": "stdout"
        }
      ]
    },
    {
      "metadata": {
        "id": "dnsKCZJTNnvG",
        "colab_type": "code",
        "colab": {}
      },
      "cell_type": "code",
      "source": [
        "# model.evaluate(X_train, y_train, batch_size=1)"
      ],
      "execution_count": 0,
      "outputs": []
    },
    {
      "metadata": {
        "id": "PA9pDmgsOEub",
        "colab_type": "code",
        "outputId": "98d6d289-e525-4246-b17e-105a1450542e",
        "colab": {
          "base_uri": "https://localhost:8080/",
          "height": 272
        }
      },
      "cell_type": "code",
      "source": [
        "model.summary()"
      ],
      "execution_count": 0,
      "outputs": [
        {
          "output_type": "stream",
          "text": [
            "_________________________________________________________________\n",
            "Layer (type)                 Output Shape              Param #   \n",
            "=================================================================\n",
            "lstm_1 (LSTM)                (None, 30, 256)           268288    \n",
            "_________________________________________________________________\n",
            "lstm_2 (LSTM)                (None, 128)               197120    \n",
            "_________________________________________________________________\n",
            "dense_1 (Dense)              (None, 64)                8256      \n",
            "_________________________________________________________________\n",
            "dense_2 (Dense)              (None, 1)                 65        \n",
            "=================================================================\n",
            "Total params: 473,729\n",
            "Trainable params: 473,729\n",
            "Non-trainable params: 0\n",
            "_________________________________________________________________\n"
          ],
          "name": "stdout"
        }
      ]
    },
    {
      "metadata": {
        "id": "IpiNNhK4D_2d",
        "colab_type": "code",
        "outputId": "b9424935-a12c-4819-ab8a-7fa16b02f8c2",
        "colab": {
          "base_uri": "https://localhost:8080/",
          "height": 365
        }
      },
      "cell_type": "code",
      "source": [
        "plt.plot(history.history['loss'])\n",
        "plt.plot(history.history['val_loss'])"
      ],
      "execution_count": 0,
      "outputs": [
        {
          "output_type": "execute_result",
          "data": {
            "text/plain": [
              "[<matplotlib.lines.Line2D at 0x7f0bd9523a58>]"
            ]
          },
          "metadata": {
            "tags": []
          },
          "execution_count": 11
        },
        {
          "output_type": "display_data",
          "data": {
            "image/png": "[encoded data removed]",
            "text/plain": [
              "<Figure size 576x396 with 1 Axes>"
            ]
          },
          "metadata": {
            "tags": []
          }
        }
      ]
    },
    {
      "metadata": {
        "id": "cgTS0iD6FaHU",
        "colab_type": "code",
        "outputId": "b616419c-46c6-49c4-a3bc-3770a05d0e37",
        "colab": {
          "base_uri": "https://localhost:8080/",
          "height": 364
        }
      },
      "cell_type": "code",
      "source": [
        "Xt = model.predict(X_test)\n",
        "Xt = Xt.ravel()\n",
        "testPredict_extended = np.zeros((len(Xt),5))\n",
        "testPredict_extended[:, 3] = Xt\n",
        "testPredict = scl.inverse_transform(testPredict_extended)[:, 3]\n",
        "\n",
        "y_test_extended = np.zeros((len(y_test),5))\n",
        "y_test_extended[:, 3] = y_test \n",
        "y_test = scl.inverse_transform(y_test_extended)[:, 3]\n",
        "\n",
        "plt.plot(y_test)\n",
        "plt.plot(testPredict)\n",
        "\n",
        "\n",
        "# y_test\n",
        "# scl.inverse_transform(y_test)[3]\n",
        "# scl.inverse_transform(Xt)"
      ],
      "execution_count": 0,
      "outputs": [
        {
          "output_type": "execute_result",
          "data": {
            "text/plain": [
              "[<matplotlib.lines.Line2D at 0x7f0bd06879b0>]"
            ]
          },
          "metadata": {
            "tags": []
          },
          "execution_count": 12
        },
        {
          "output_type": "display_data",
          "data": {
            "image/png": "[encoded data removed]",
            "text/plain": [
              "<Figure size 576x396 with 1 Axes>"
            ]
          },
          "metadata": {
            "tags": []
          }
        }
      ]
    },
    {
      "metadata": {
        "id": "Y5vCGtDu-LmV",
        "colab_type": "code",
        "colab": {}
      },
      "cell_type": "code",
      "source": [
        "testPredict"
      ],
      "execution_count": 0,
      "outputs": []
    },
    {
      "metadata": {
        "id": "WDRHZhFcDyeJ",
        "colab_type": "code",
        "colab": {}
      },
      "cell_type": "code",
      "source": [
        ""
      ],
      "execution_count": 0,
      "outputs": []
    }
  ]
}
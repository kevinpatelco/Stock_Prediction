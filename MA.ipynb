{
  "nbformat": 4,
  "nbformat_minor": 0,
  "metadata": {
    "colab": {
      "name": "MA.ipynb",
      "version": "0.3.2",
      "provenance": [],
      "collapsed_sections": [
        "A3fBmw8yFm1-"
      ],
      "include_colab_link": true
    },
    "kernelspec": {
      "name": "python3",
      "display_name": "Python 3"
    },
    "accelerator": "TPU"
  },
  "cells": [
    {
      "cell_type": "markdown",
      "metadata": {
        "id": "view-in-github",
        "colab_type": "text"
      },
      "source": [
        "<a href=\"https://colab.research.google.com/github/kevinpatelco/Stock_Prediction/blob/master/MA.ipynb\" target=\"_parent\"><img src=\"https://colab.research.google.com/assets/colab-badge.svg\" alt=\"Open In Colab\"/></a>"
      ]
    },
    {
      "cell_type": "code",
      "metadata": {
        "id": "qrD0OeQHaN0U",
        "colab_type": "code",
        "outputId": "dc1a7802-e232-4fc0-fdfc-14a057c625e7",
        "colab": {
          "base_uri": "https://localhost:8080/",
          "height": 289
        }
      },
      "source": [
        "!pip install alpha_vantage\n",
        "!pip install --upgrade scikit-learn"
      ],
      "execution_count": 1,
      "outputs": [
        {
          "output_type": "stream",
          "text": [
            "Collecting alpha_vantage\n",
            "  Downloading https://files.pythonhosted.org/packages/7a/6c/81c7f1c58064cb2ce808edc6c4cdb3241f70bf8cd158289540cdf9fe0204/alpha_vantage-2.1.0.tar.gz\n",
            "Requirement already satisfied: requests in /usr/local/lib/python3.6/dist-packages (from alpha_vantage) (2.21.0)\n",
            "Requirement already satisfied: certifi>=2017.4.17 in /usr/local/lib/python3.6/dist-packages (from requests->alpha_vantage) (2019.3.9)\n",
            "Requirement already satisfied: idna<2.9,>=2.5 in /usr/local/lib/python3.6/dist-packages (from requests->alpha_vantage) (2.8)\n",
            "Requirement already satisfied: urllib3<1.25,>=1.21.1 in /usr/local/lib/python3.6/dist-packages (from requests->alpha_vantage) (1.24.2)\n",
            "Requirement already satisfied: chardet<3.1.0,>=3.0.2 in /usr/local/lib/python3.6/dist-packages (from requests->alpha_vantage) (3.0.4)\n",
            "Building wheels for collected packages: alpha-vantage\n",
            "  Building wheel for alpha-vantage (setup.py) ... \u001b[?25l\u001b[?25hdone\n",
            "  Stored in directory: /root/.cache/pip/wheels/21/9c/02/b7cfae63f7119f4089f229ba1a09ce90fabbaf96199c2890be\n",
            "Successfully built alpha-vantage\n",
            "Installing collected packages: alpha-vantage\n",
            "Successfully installed alpha-vantage-2.1.0\n",
            "Requirement already up-to-date: scikit-learn in /usr/local/lib/python3.6/dist-packages (0.20.3)\n",
            "Requirement already satisfied, skipping upgrade: scipy>=0.13.3 in /usr/local/lib/python3.6/dist-packages (from scikit-learn) (1.2.1)\n",
            "Requirement already satisfied, skipping upgrade: numpy>=1.8.2 in /usr/local/lib/python3.6/dist-packages (from scikit-learn) (1.16.3)\n"
          ],
          "name": "stdout"
        }
      ]
    },
    {
      "cell_type": "markdown",
      "metadata": {
        "id": "wWMdrmOrP-z-",
        "colab_type": "text"
      },
      "source": [
        "# Data Source : Alpha Vantage ---- https://www.alphavantage.co/"
      ]
    },
    {
      "cell_type": "code",
      "metadata": {
        "id": "J_x9dKrhaTYS",
        "colab_type": "code",
        "outputId": "8de8a282-fca9-4463-c6bf-a9848f5e5c17",
        "colab": {
          "base_uri": "https://localhost:8080/",
          "height": 34
        }
      },
      "source": [
        "from alpha_vantage.timeseries import TimeSeries\n",
        "from alpha_vantage.techindicators import TechIndicators\n",
        "import seaborn as sns\n",
        "import matplotlib.pyplot as plt\n",
        "from pprint import pprint\n",
        "import numpy as np\n",
        "import pandas as pd\n",
        "from math import sqrt \n",
        "\n",
        "from sklearn import linear_model \n",
        "from sklearn.neighbors import KNeighborsRegressor\n",
        "from sklearn.ensemble import RandomForestRegressor\n",
        "from sklearn import preprocessing, svm\n",
        "from sklearn.model_selection import train_test_split\n",
        "\n",
        "from keras.models import Sequential, Model\n",
        "from keras.layers import Input, Dense, LSTM, Dropout\n",
        "from keras.layers import LSTM, SimpleRNN, GRU, concatenate\n",
        "from sklearn.metrics import mean_squared_error"
      ],
      "execution_count": 2,
      "outputs": [
        {
          "output_type": "stream",
          "text": [
            "Using TensorFlow backend.\n"
          ],
          "name": "stderr"
        }
      ]
    },
    {
      "cell_type": "markdown",
      "metadata": {
        "id": "cA84JEjoGOg6",
        "colab_type": "text"
      },
      "source": [
        "#Data Processing"
      ]
    },
    {
      "cell_type": "code",
      "metadata": {
        "id": "FFAlYbysaalD",
        "colab_type": "code",
        "outputId": "ab6a31c6-a7f9-467a-a39b-f13fe6d7f70a",
        "colab": {
          "base_uri": "https://localhost:8080/",
          "height": 34
        }
      },
      "source": [
        "ts = TimeSeries(key='HE5QFT0CZ49ZBE85', output_format='pandas')\n",
        "\n",
        "#Add values to SPY_data Variable\n",
        "SPY_data, SPY_meta_data = ts.get_daily(symbol='SPY', outputsize='full')\n",
        "\n",
        "\n",
        "#Add values to SPX_data Variable\n",
        "SPX_data, SPX_meta_data= ts.get_daily(symbol='SPX', outputsize='full')\n",
        "# pprint(SPY_data)\n",
        "\n",
        "SPX_weekly_1 = SPX_data[20:-5]\n",
        "SPX_weekly_2 = SPX_data[15:-10]\n",
        "SPX_weekly_3 = SPX_data[10:-15]\n",
        "SPX_data = SPX_data[25:]\n",
        "\n",
        "(SPX_weekly_1.shape, SPX_weekly_2.shape, SPX_weekly_3.shape, SPX_data.shape)"
      ],
      "execution_count": 3,
      "outputs": [
        {
          "output_type": "execute_result",
          "data": {
            "text/plain": [
              "((4843, 5), (4843, 5), (4843, 5), (4843, 5))"
            ]
          },
          "metadata": {
            "tags": []
          },
          "execution_count": 3
        }
      ]
    },
    {
      "cell_type": "code",
      "metadata": {
        "id": "c8UbbAYOdULU",
        "colab_type": "code",
        "colab": {
          "base_uri": "https://localhost:8080/",
          "height": 493
        },
        "outputId": "43ce26bd-db3e-41be-8b89-776566253c03"
      },
      "source": [
        "SPX_weekly_1.head(), SPX_weekly_2.head(), SPX_weekly_3.head(), SPX_data.head()"
      ],
      "execution_count": 4,
      "outputs": [
        {
          "output_type": "execute_result",
          "data": {
            "text/plain": [
              "(            1. open  2. high   3. low  4. close     5. volume\n",
              " date                                                         \n",
              " 2000-02-01  1394.46  1412.49  1384.79   1409.28  9.810000e+08\n",
              " 2000-02-02  1409.28  1420.61  1403.49   1409.12  1.038600e+09\n",
              " 2000-02-03  1409.12  1425.78  1398.52   1424.97  1.146500e+09\n",
              " 2000-02-04  1424.97  1435.91  1420.63   1424.37  1.045100e+09\n",
              " 2000-02-07  1424.37  1427.15  1413.33   1424.24  9.181000e+08,\n",
              "               1. open    2. high   3. low   4. close     5. volume\n",
              " date                                                              \n",
              " 2000-01-25  1401.5300  1414.2600  1388.49  1410.0300  1.073700e+09\n",
              " 2000-01-26  1410.0300  1412.7300  1400.16  1404.0900  1.117300e+09\n",
              " 2000-01-27  1404.0900  1418.8600  1370.99  1398.5601  1.129500e+09\n",
              " 2000-01-28  1398.5601  1398.5601  1356.20  1360.1600  1.095800e+09\n",
              " 2000-01-31  1360.1600  1394.4800  1350.14  1394.4600  9.938000e+08,\n",
              "               1. open    2. high     3. low   4. close     5. volume\n",
              " date                                                                \n",
              " 2000-01-18  1465.1500  1465.1500  1451.3000  1455.1400  1.056700e+09\n",
              " 2000-01-19  1455.1400  1461.3900  1448.6801  1455.9000  1.087800e+09\n",
              " 2000-01-20  1455.9000  1465.7100  1438.5400  1445.5699  1.100700e+09\n",
              " 2000-01-21  1445.5699  1453.1801  1439.6000  1441.3600  1.209800e+09\n",
              " 2000-01-24  1441.3600  1454.0900  1395.4200  1401.5300  1.115800e+09,\n",
              "             1. open    2. high     3. low   4. close     5. volume\n",
              " date                                                              \n",
              " 2000-02-08  1424.24  1441.8300  1424.2400  1441.7200  1.047700e+09\n",
              " 2000-02-09  1441.72  1444.5500  1411.6500  1411.7100  1.050500e+09\n",
              " 2000-02-10  1411.70  1422.1000  1406.4301  1416.8300  1.058800e+09\n",
              " 2000-02-11  1416.83  1416.8300  1378.8900  1387.1200  1.025700e+09\n",
              " 2000-02-14  1387.12  1394.9301  1380.5300  1389.9399  9.273000e+08)"
            ]
          },
          "metadata": {
            "tags": []
          },
          "execution_count": 4
        }
      ]
    },
    {
      "cell_type": "code",
      "metadata": {
        "id": "hMZuARLoavgO",
        "colab_type": "code",
        "outputId": "e0c814ec-79ca-4dba-d867-f2c3c062ae88",
        "colab": {
          "base_uri": "https://localhost:8080/",
          "height": 317
        }
      },
      "source": [
        "'''Simple Moving Average'''\n",
        "\n",
        "ti = TechIndicators(key='HE5QFT0CZ49ZBE85', output_format='pandas')\n",
        "\n",
        "#SPX\n",
        "spx_sma9 = ti.get_sma(symbol='SPX', interval='daily', time_period=9, series_type='close')\n",
        "spx_sma13 = ti.get_sma(symbol='SPX', interval='daily', time_period=13, series_type='close')\n",
        "spx_sma50 = ti.get_sma(symbol='SPX', interval='daily', time_period=50, series_type='close')"
      ],
      "execution_count": 0,
      "outputs": [
        {
          "output_type": "error",
          "ename": "KeyError",
          "evalue": "ignored",
          "traceback": [
            "\u001b[0;31m---------------------------------------------------------------------------\u001b[0m",
            "\u001b[0;31mKeyError\u001b[0m                                  Traceback (most recent call last)",
            "\u001b[0;32m<ipython-input-4-6b247a21ba76>\u001b[0m in \u001b[0;36m<module>\u001b[0;34m()\u001b[0m\n\u001b[1;32m      6\u001b[0m \u001b[0mspx_sma9\u001b[0m \u001b[0;34m=\u001b[0m \u001b[0mti\u001b[0m\u001b[0;34m.\u001b[0m\u001b[0mget_sma\u001b[0m\u001b[0;34m(\u001b[0m\u001b[0msymbol\u001b[0m\u001b[0;34m=\u001b[0m\u001b[0;34m'SPX'\u001b[0m\u001b[0;34m,\u001b[0m \u001b[0minterval\u001b[0m\u001b[0;34m=\u001b[0m\u001b[0;34m'daily'\u001b[0m\u001b[0;34m,\u001b[0m \u001b[0mtime_period\u001b[0m\u001b[0;34m=\u001b[0m\u001b[0;36m9\u001b[0m\u001b[0;34m,\u001b[0m \u001b[0mseries_type\u001b[0m\u001b[0;34m=\u001b[0m\u001b[0;34m'close'\u001b[0m\u001b[0;34m)\u001b[0m\u001b[0;34m\u001b[0m\u001b[0;34m\u001b[0m\u001b[0m\n\u001b[1;32m      7\u001b[0m \u001b[0mspx_sma13\u001b[0m \u001b[0;34m=\u001b[0m \u001b[0mti\u001b[0m\u001b[0;34m.\u001b[0m\u001b[0mget_sma\u001b[0m\u001b[0;34m(\u001b[0m\u001b[0msymbol\u001b[0m\u001b[0;34m=\u001b[0m\u001b[0;34m'SPX'\u001b[0m\u001b[0;34m,\u001b[0m \u001b[0minterval\u001b[0m\u001b[0;34m=\u001b[0m\u001b[0;34m'daily'\u001b[0m\u001b[0;34m,\u001b[0m \u001b[0mtime_period\u001b[0m\u001b[0;34m=\u001b[0m\u001b[0;36m13\u001b[0m\u001b[0;34m,\u001b[0m \u001b[0mseries_type\u001b[0m\u001b[0;34m=\u001b[0m\u001b[0;34m'close'\u001b[0m\u001b[0;34m)\u001b[0m\u001b[0;34m\u001b[0m\u001b[0;34m\u001b[0m\u001b[0m\n\u001b[0;32m----> 8\u001b[0;31m \u001b[0mspx_sma50\u001b[0m \u001b[0;34m=\u001b[0m \u001b[0mti\u001b[0m\u001b[0;34m.\u001b[0m\u001b[0mget_sma\u001b[0m\u001b[0;34m(\u001b[0m\u001b[0msymbol\u001b[0m\u001b[0;34m=\u001b[0m\u001b[0;34m'SPX'\u001b[0m\u001b[0;34m,\u001b[0m \u001b[0minterval\u001b[0m\u001b[0;34m=\u001b[0m\u001b[0;34m'daily'\u001b[0m\u001b[0;34m,\u001b[0m \u001b[0mtime_period\u001b[0m\u001b[0;34m=\u001b[0m\u001b[0;36m50\u001b[0m\u001b[0;34m,\u001b[0m \u001b[0mseries_type\u001b[0m\u001b[0;34m=\u001b[0m\u001b[0;34m'close'\u001b[0m\u001b[0;34m)\u001b[0m\u001b[0;34m\u001b[0m\u001b[0;34m\u001b[0m\u001b[0m\n\u001b[0m",
            "\u001b[0;32m/usr/local/lib/python3.6/dist-packages/alpha_vantage/alphavantage.py\u001b[0m in \u001b[0;36m_format_wrapper\u001b[0;34m(self, *args, **kwargs)\u001b[0m\n\u001b[1;32m    176\u001b[0m             \u001b[0;32mif\u001b[0m \u001b[0;34m'json'\u001b[0m \u001b[0;32min\u001b[0m \u001b[0mself\u001b[0m\u001b[0;34m.\u001b[0m\u001b[0moutput_format\u001b[0m\u001b[0;34m.\u001b[0m\u001b[0mlower\u001b[0m\u001b[0;34m(\u001b[0m\u001b[0;34m)\u001b[0m \u001b[0;32mor\u001b[0m \u001b[0;34m'pandas'\u001b[0m\u001b[0;31m \u001b[0m\u001b[0;31m\\\u001b[0m\u001b[0;34m\u001b[0m\u001b[0;34m\u001b[0m\u001b[0m\n\u001b[1;32m    177\u001b[0m                     \u001b[0;32min\u001b[0m \u001b[0mself\u001b[0m\u001b[0;34m.\u001b[0m\u001b[0moutput_format\u001b[0m\u001b[0;34m.\u001b[0m\u001b[0mlower\u001b[0m\u001b[0;34m(\u001b[0m\u001b[0;34m)\u001b[0m\u001b[0;34m:\u001b[0m\u001b[0;34m\u001b[0m\u001b[0;34m\u001b[0m\u001b[0m\n\u001b[0;32m--> 178\u001b[0;31m                 \u001b[0mdata\u001b[0m \u001b[0;34m=\u001b[0m \u001b[0mcall_response\u001b[0m\u001b[0;34m[\u001b[0m\u001b[0mdata_key\u001b[0m\u001b[0;34m]\u001b[0m\u001b[0;34m\u001b[0m\u001b[0;34m\u001b[0m\u001b[0m\n\u001b[0m\u001b[1;32m    179\u001b[0m                 \u001b[0;32mif\u001b[0m \u001b[0mmeta_data_key\u001b[0m \u001b[0;32mis\u001b[0m \u001b[0;32mnot\u001b[0m \u001b[0;32mNone\u001b[0m\u001b[0;34m:\u001b[0m\u001b[0;34m\u001b[0m\u001b[0;34m\u001b[0m\u001b[0m\n\u001b[1;32m    180\u001b[0m                     \u001b[0mmeta_data\u001b[0m \u001b[0;34m=\u001b[0m \u001b[0mcall_response\u001b[0m\u001b[0;34m[\u001b[0m\u001b[0mmeta_data_key\u001b[0m\u001b[0;34m]\u001b[0m\u001b[0;34m\u001b[0m\u001b[0;34m\u001b[0m\u001b[0m\n",
            "\u001b[0;31mKeyError\u001b[0m: 'Technical Analysis: SMA'"
          ]
        }
      ]
    },
    {
      "cell_type": "code",
      "metadata": {
        "id": "8mW1XWKsayBy",
        "colab_type": "code",
        "colab": {}
      },
      "source": [
        "#SPX SMA PLOT\n",
        "plt.figure(figsize= (50, 10))\n",
        "plt.plot(SPX_data['4. close'].values)\n",
        "plt.plot(spx_sma9[0].values)\n",
        "plt.plot(spx_sma13[0].values)\n",
        "plt.plot(spx_sma50[0].values)\n",
        "\n",
        "plt.legend(['SPX close original data', 'SPX SMA 9', 'SPX SMA 13', 'SPX SMA 50'])"
      ],
      "execution_count": 0,
      "outputs": []
    },
    {
      "cell_type": "code",
      "metadata": {
        "id": "JRsjjTEY-k-S",
        "colab_type": "code",
        "colab": {}
      },
      "source": [
        "#SPY\n",
        "spy_sma9 = ti.get_sma(symbol='SPY', interval='daily', time_period=9, series_type='close')\n",
        "spy_sma13 = ti.get_sma(symbol='SPY', interval='daily', time_period=13, series_type='close')\n",
        "spy_sma50 = ti.get_sma(symbol='SPY', interval='daily', time_period=50, series_type='close')"
      ],
      "execution_count": 0,
      "outputs": []
    },
    {
      "cell_type": "code",
      "metadata": {
        "id": "Uf3Hy2Ds3Vj1",
        "colab_type": "code",
        "colab": {}
      },
      "source": [
        "#SPY SMA PLOT\n",
        "plt.figure(figsize= (50, 10))\n",
        "plt.plot(SPY_data['4. close'].values)\n",
        "plt.plot(spy_sma9[0].values)\n",
        "plt.plot(spy_sma13[0].values)\n",
        "plt.plot(spy_sma50[0].values)\n",
        "\n",
        "plt.legend(['SPY close original data', 'SPY SMA 9', 'SPY SMA 13', 'SPY SMA 50'])"
      ],
      "execution_count": 0,
      "outputs": []
    },
    {
      "cell_type": "markdown",
      "metadata": {
        "id": "UQZCWiTC0iXw",
        "colab_type": "text"
      },
      "source": [
        "By looking at the graphs we can see that, SMA 50 line would be the first one to show an uptrend or a downtrend as it shows the deviation before any other MA lines."
      ]
    },
    {
      "cell_type": "code",
      "metadata": {
        "id": "vo_m4giPa_Ln",
        "colab_type": "code",
        "colab": {}
      },
      "source": [
        "'''Exponential Moving Average'''\n",
        "\n",
        "#SPX\n",
        "spx_ema9 = ti.get_ema(symbol='SPX', interval='daily', time_period=9, series_type='close')\n",
        "spx_ema13 = ti.get_ema(symbol='SPX', interval='daily', time_period=13, series_type='close')\n",
        "spx_ema50 = ti.get_ema(symbol='SPX', interval='daily', time_period=50, series_type='close')"
      ],
      "execution_count": 0,
      "outputs": []
    },
    {
      "cell_type": "code",
      "metadata": {
        "id": "lfEI9bZ6h05r",
        "colab_type": "code",
        "colab": {}
      },
      "source": [
        "#SPX EMA PLOT\n",
        "plt.figure(figsize= (50, 10))\n",
        "plt.plot(SPX_data['4. close'].values)\n",
        "plt.plot(spx_ema9[0].values)\n",
        "plt.plot(spx_ema13[0].values)\n",
        "plt.plot(spx_ema50[0].values)\n",
        "\n",
        "plt.legend(['SPX close original data', 'SPX EMA 9', 'SPX EMA 13', 'SPX EMA 50'])"
      ],
      "execution_count": 0,
      "outputs": []
    },
    {
      "cell_type": "code",
      "metadata": {
        "id": "zLL92KvkikZ2",
        "colab_type": "code",
        "colab": {}
      },
      "source": [
        "#SPY\n",
        "spy_ema9 = ti.get_ema(symbol='SPY', interval='daily', time_period=9, series_type='close')\n",
        "spy_ema13 = ti.get_ema(symbol='SPY', interval='daily', time_period=13, series_type='close')\n",
        "spy_ema50 = ti.get_ema(symbol='SPY', interval='daily', time_period=50, series_type='close')"
      ],
      "execution_count": 0,
      "outputs": []
    },
    {
      "cell_type": "code",
      "metadata": {
        "id": "6zKt_rfIjS3_",
        "colab_type": "code",
        "colab": {}
      },
      "source": [
        "#SPY EMA PLOT\n",
        "plt.figure(figsize= (50, 10))\n",
        "plt.plot(SPY_data['4. close'].values)\n",
        "plt.plot(spy_ema9[0].values)\n",
        "plt.plot(spy_ema13[0].values)\n",
        "plt.plot(spy_ema50[0].values)\n",
        "\n",
        "plt.legend(['SPY close original data', 'SPY EMA 9', 'SPY EMA 13', 'SPY EMA 50'])"
      ],
      "execution_count": 0,
      "outputs": []
    },
    {
      "cell_type": "code",
      "metadata": {
        "id": "--aSVtIDv4fh",
        "colab_type": "code",
        "colab": {}
      },
      "source": [
        "# df = SPX_data[['4. close']]\n",
        "df = SPX_data\n",
        "forecast_out = int(1)\n",
        "\n",
        "# df['prediction'] = df[['4. close']].shift(-forecast_out)\n"
      ],
      "execution_count": 0,
      "outputs": []
    },
    {
      "cell_type": "code",
      "metadata": {
        "id": "WGsa8NYxxCtP",
        "colab_type": "code",
        "colab": {}
      },
      "source": [
        "X = np.array(df.drop(['prediction'],1))\n",
        "X = preprocessing.scale(X)"
      ],
      "execution_count": 0,
      "outputs": []
    },
    {
      "cell_type": "code",
      "metadata": {
        "id": "Ayu-3aghxhLh",
        "colab_type": "code",
        "colab": {}
      },
      "source": [
        "X_forecast = X[-forecast_out:]\n",
        "X = X[:-forecast_out]"
      ],
      "execution_count": 0,
      "outputs": []
    },
    {
      "cell_type": "code",
      "metadata": {
        "id": "a7hQj69bzf7Z",
        "colab_type": "code",
        "colab": {}
      },
      "source": [
        "y = np.array(df['prediction'])\n",
        "y = y[:-forecast_out]"
      ],
      "execution_count": 0,
      "outputs": []
    },
    {
      "cell_type": "code",
      "metadata": {
        "id": "LueJi5XhznyT",
        "colab_type": "code",
        "colab": {}
      },
      "source": [
        "X_train, X_test, y_train, y_test = train_test_split(X, y, test_size = 0.2)"
      ],
      "execution_count": 0,
      "outputs": []
    },
    {
      "cell_type": "markdown",
      "metadata": {
        "id": "A3fBmw8yFm1-",
        "colab_type": "text"
      },
      "source": [
        "# Regression Models\n"
      ]
    },
    {
      "cell_type": "markdown",
      "metadata": {
        "id": "rBSQTiBmGj8_",
        "colab_type": "text"
      },
      "source": [
        "##Linear Regression"
      ]
    },
    {
      "cell_type": "code",
      "metadata": {
        "id": "7v1NPrDsztfX",
        "colab_type": "code",
        "colab": {}
      },
      "source": [
        "# Training - linear regression\n",
        "reg = linear_model.LinearRegression()\n",
        "# reg = linear_model.Ridge(alpha = 0.1)\n",
        "reg.fit(X_train,y_train)\n",
        "\n",
        "# Testing\n",
        "confidence = reg.score(X_test, y_test)\n",
        "print(\"confidence: \", confidence)"
      ],
      "execution_count": 0,
      "outputs": []
    },
    {
      "cell_type": "code",
      "metadata": {
        "id": "Zh8m7sZ40FrV",
        "colab_type": "code",
        "colab": {}
      },
      "source": [
        "#Forecast Prediction\n",
        "forecast_prediction = reg.predict(X_forecast)\n",
        "print(forecast_prediction)"
      ],
      "execution_count": 0,
      "outputs": []
    },
    {
      "cell_type": "markdown",
      "metadata": {
        "id": "HcuAWGBxFu5j",
        "colab_type": "text"
      },
      "source": [
        "##Support Vector Regression"
      ]
    },
    {
      "cell_type": "code",
      "metadata": {
        "id": "HACcHC3d0I0K",
        "colab_type": "code",
        "colab": {}
      },
      "source": [
        "#Training - SVR\n",
        "reg = svm.SVR(kernel='linear', gamma='scale', C=1.0, epsilon=0.1)\n",
        "reg.fit(X_train, y_train)\n",
        "\n",
        "#TESTING\n",
        "confidence = reg.score(X_test, y_test)\n",
        "print(\"confidence: \", confidence)"
      ],
      "execution_count": 0,
      "outputs": []
    },
    {
      "cell_type": "code",
      "metadata": {
        "id": "-IVkSzTCqo53",
        "colab_type": "code",
        "colab": {}
      },
      "source": [
        "#Forecast Prediction\n",
        "forecast_prediction = reg.predict(X_forecast)\n",
        "print(forecast_prediction)"
      ],
      "execution_count": 0,
      "outputs": []
    },
    {
      "cell_type": "markdown",
      "metadata": {
        "id": "mMdcaIL9I9z9",
        "colab_type": "text"
      },
      "source": [
        "##KNN Regressor"
      ]
    },
    {
      "cell_type": "code",
      "metadata": {
        "id": "a-RVe4HgHP37",
        "colab_type": "code",
        "colab": {}
      },
      "source": [
        "#Training - KNN\n",
        "reg = neigh = KNeighborsRegressor(n_neighbors=9)\n",
        "reg.fit(X_train, y_train)\n",
        "\n",
        "#Testing\n",
        "confidence = reg.score(X_test, y_test)\n",
        "print(\"confidence: \", confidence)"
      ],
      "execution_count": 0,
      "outputs": []
    },
    {
      "cell_type": "code",
      "metadata": {
        "id": "juf8qPUyJYAX",
        "colab_type": "code",
        "colab": {}
      },
      "source": [
        "#Forecast Prediction\n",
        "forecast_prediction = reg.predict(X_forecast)\n",
        "print(forecast_prediction)"
      ],
      "execution_count": 0,
      "outputs": []
    },
    {
      "cell_type": "markdown",
      "metadata": {
        "id": "bhsKPdreKfqd",
        "colab_type": "text"
      },
      "source": [
        "##Random Forest Regressor"
      ]
    },
    {
      "cell_type": "code",
      "metadata": {
        "id": "Ahmwg2YLJc53",
        "colab_type": "code",
        "colab": {}
      },
      "source": [
        "#Training - Random Forest Regressor\n",
        "reg = RandomForestRegressor(max_depth=2, random_state=0, n_estimators=100)\n",
        "reg.fit(X_train, y_train)\n",
        "\n",
        "#Testing\n",
        "confidence = reg.score(X_test, y_test)\n",
        "print(\"confidence: \", confidence)"
      ],
      "execution_count": 0,
      "outputs": []
    },
    {
      "cell_type": "code",
      "metadata": {
        "id": "ToycvkE_PCr3",
        "colab_type": "code",
        "colab": {}
      },
      "source": [
        "#Forecast Prediction\n",
        "forecast_prediction = reg.predict(X_forecast)\n",
        "print(forecast_prediction)"
      ],
      "execution_count": 0,
      "outputs": []
    },
    {
      "cell_type": "code",
      "metadata": {
        "id": "50qh7o3Wondt",
        "colab_type": "code",
        "colab": {}
      },
      "source": [
        "X_train.shape"
      ],
      "execution_count": 0,
      "outputs": []
    },
    {
      "cell_type": "markdown",
      "metadata": {
        "id": "7j4CfTxFkjLx",
        "colab_type": "text"
      },
      "source": [
        "#Neural Network Regression"
      ]
    },
    {
      "cell_type": "markdown",
      "metadata": {
        "id": "ImiOCAsAkmwV",
        "colab_type": "text"
      },
      "source": [
        "##RNN - LSTM"
      ]
    },
    {
      "cell_type": "code",
      "metadata": {
        "id": "o-nxB7VxSp34",
        "colab_type": "code",
        "colab": {}
      },
      "source": [
        "# df = SPX_data[['4. close']]\n",
        "df = SPX_data\n",
        "# forecast_out = int(1)\n",
        "\n",
        "# df['prediction'] = df[['4. close']].shift(-forecast_out)\n",
        "# df\n",
        "df_weekly_1 = SPX_weekly_1\n",
        "df_weekly_2 = SPX_weekly_2\n",
        "df_weekly_3 = SPX_weekly_3"
      ],
      "execution_count": 0,
      "outputs": []
    },
    {
      "cell_type": "code",
      "metadata": {
        "id": "e3NzS0yo6Ts7",
        "colab_type": "code",
        "outputId": "009dc10f-68ef-4231-90e3-785d36223d9d",
        "colab": {
          "base_uri": "https://localhost:8080/",
          "height": 493
        }
      },
      "source": [
        "df.tail(), df_weekly_1.tail(), df_weekly_2.tail(), df_weekly_3.tail()"
      ],
      "execution_count": 6,
      "outputs": [
        {
          "output_type": "execute_result",
          "data": {
            "text/plain": [
              "(              1. open    2. high     3. low   4. close     5. volume\n",
              " date                                                                \n",
              " 2019-05-03  2929.2100  2947.8501  2929.2100  2945.6399  3.338120e+09\n",
              " 2019-05-06  2908.8899  2937.3201  2898.2100  2932.4700  3.181520e+09\n",
              " 2019-05-07  2913.0300  2913.0300  2862.6001  2884.0500  3.767100e+09\n",
              " 2019-05-08  2879.6101  2897.9600  2873.2800  2879.4199  3.485790e+09\n",
              " 2019-05-09  2859.8401  2875.9700  2836.3999  2870.7200  2.122567e+09,\n",
              "               1. open    2. high     3. low   4. close     5. volume\n",
              " date                                                                \n",
              " 2019-04-26  2925.8101  2939.8799  2917.5601  2939.8799  3.248500e+09\n",
              " 2019-04-29  2940.5801  2949.5200  2939.3501  2943.0300  3.118780e+09\n",
              " 2019-04-30  2937.1399  2948.2200  2924.1101  2945.8301  3.919330e+09\n",
              " 2019-05-01  2952.3301  2954.1299  2923.3601  2923.7300  3.645850e+09\n",
              " 2019-05-02  2922.1599  2931.6799  2900.5000  2917.5200  3.778890e+09,\n",
              "               1. open    2. high     3. low   4. close     5. volume\n",
              " date                                                                \n",
              " 2019-04-18  2904.8101  2908.3999  2891.8999  2905.0300  3.506850e+09\n",
              " 2019-04-22  2898.7800  2909.5100  2896.3501  2907.9700  2.997950e+09\n",
              " 2019-04-23  2909.9900  2936.3101  2908.5300  2933.6799  3.635030e+09\n",
              " 2019-04-24  2934.0000  2936.8301  2926.0500  2927.2500  3.448960e+09\n",
              " 2019-04-25  2928.9900  2933.1001  2912.8401  2926.1699  3.425280e+09,\n",
              "               1. open    2. high     3. low   4. close     5. volume\n",
              " date                                                                \n",
              " 2019-04-11  2891.9199  2893.4199  2881.9900  2888.3201  2.938540e+09\n",
              " 2019-04-12  2900.8601  2910.5400  2898.3701  2907.4099  3.688490e+09\n",
              " 2019-04-15  2908.3201  2909.6001  2896.4800  2905.5801  3.088330e+09\n",
              " 2019-04-16  2912.2600  2916.0601  2900.7100  2907.0601  3.402210e+09\n",
              " 2019-04-17  2916.0400  2918.0000  2895.4500  2900.4500  3.602300e+09)"
            ]
          },
          "metadata": {
            "tags": []
          },
          "execution_count": 6
        }
      ]
    },
    {
      "cell_type": "code",
      "metadata": {
        "id": "MTpixZCgCH1s",
        "colab_type": "code",
        "outputId": "5b01bf63-bc1c-4a58-ba55-fc9d3be0b217",
        "colab": {
          "base_uri": "https://localhost:8080/",
          "height": 493
        }
      },
      "source": [
        "scl = preprocessing.MinMaxScaler()\n",
        "\n",
        "#Scale the daily data\n",
        "df = df.values #[\"4. close\"]\n",
        "df = df.reshape(df.shape[0],5)\n",
        "df = scl.fit_transform(df)\n",
        "\n",
        "# scale one week before data\n",
        "df_weekly_1 = df_weekly_1.values\n",
        "df_weekly_1 = df_weekly_1.reshape(df_weekly_1.shape[0], 5)\n",
        "df_weekly_1 = scl.fit_transform(df_weekly_1)\n",
        "\n",
        "# scale two weeks before data\n",
        "df_weekly_2 = df_weekly_2.values\n",
        "df_weekly_2 = df_weekly_2.reshape(df_weekly_2.shape[0], 5)\n",
        "df_weekly_2 = scl.fit_transform(df_weekly_2)\n",
        "\n",
        "# scale three weeks before data\n",
        "df_weekly_3 = df_weekly_3.values\n",
        "df_weekly_3 = df_weekly_3.reshape(df_weekly_3.shape[0], 5)\n",
        "df_weekly_3 = scl.fit_transform(df_weekly_3)\n",
        "\n",
        "(df, df_weekly_1, df_weekly_2, df_weekly_3)"
      ],
      "execution_count": 7,
      "outputs": [
        {
          "output_type": "execute_result",
          "data": {
            "text/plain": [
              "(array([[0.32773585, 0.33050301, 0.33330252, 0.33719207, 0.06230811],\n",
              "        [0.33542595, 0.33170716, 0.32776251, 0.32396773, 0.06256036],\n",
              "        [0.32221903, 0.32176852, 0.32546558, 0.32622393, 0.0633081 ],\n",
              "        ...,\n",
              "        [0.98271041, 0.98180502, 0.96622752, 0.9727757 , 0.30729557],\n",
              "        [0.96800774, 0.97513352, 0.97092702, 0.97073538, 0.28195269],\n",
              "        [0.95931018, 0.96539852, 0.95469858, 0.96690165, 0.1591416 ]]),\n",
              " array([[0.31463451, 0.31751416, 0.31594324, 0.32289691, 0.05629919],\n",
              "        [0.32115438, 0.32110889, 0.32417184, 0.32282641, 0.0614883 ],\n",
              "        [0.32108399, 0.32339766, 0.32198488, 0.32981094, 0.07120888],\n",
              "        ...,\n",
              "        [0.99331726, 0.99738368, 0.99329391, 1.        , 0.32100979],\n",
              "        [1.        , 1.        , 0.99296388, 0.99026127, 0.2963723 ],\n",
              "        [0.986727  , 0.99006136, 0.9829047 , 0.98752474, 0.30835772]]),\n",
              " array([[0.31993639, 0.32017155, 0.31929106, 0.32496734, 0.06465042],\n",
              "        [0.32370165, 0.31949023, 0.32445405, 0.3223357 , 0.06857829],\n",
              "        [0.3210704 , 0.32221996, 0.31154879, 0.31988576, 0.06967737],\n",
              "        ...,\n",
              "        [0.98814164, 0.99795168, 0.99177988, 1.        , 0.29539754],\n",
              "        [0.9987774 , 0.99818323, 0.999531  , 0.99715132, 0.27863472],\n",
              "        [0.99655811, 0.99652224, 0.99368673, 0.9966728 , 0.27650142]]),\n",
              " array([[0.34811826, 0.34283324, 0.34707916, 0.34540107, 0.06311891],\n",
              "        [0.34368411, 0.34115888, 0.34592008, 0.34573822, 0.06592067],\n",
              "        [0.34402077, 0.34308261, 0.34143394, 0.34115565, 0.06708282],\n",
              "        ...,\n",
              "        [0.98740193, 0.98605752, 0.98644878, 0.98883432, 0.246146  ],\n",
              "        [0.98914719, 0.9889342 , 0.98832019, 0.98949087, 0.27442307],\n",
              "        [0.99082162, 0.98979805, 0.98599309, 0.98655854, 0.29244894]]))"
            ]
          },
          "metadata": {
            "tags": []
          },
          "execution_count": 7
        }
      ]
    },
    {
      "cell_type": "code",
      "metadata": {
        "id": "WKzpPheqCiWt",
        "colab_type": "code",
        "colab": {}
      },
      "source": [
        "##Daily Data\n",
        "\n",
        "#Create a function to process the data into 7 day look back slices\n",
        "def processData(data,lb):\n",
        "    feature = data[:, [3]]\n",
        "    data = data[:, [0,1,2,4]]\n",
        "    X,Y = [],[]\n",
        "    for i in range(len(data)-lb-1):\n",
        "        X.append(data[i:(i+lb),:])\n",
        "        Y.append(feature[(i+lb),0])\n",
        "    return np.array(X),np.array(Y)\n",
        "  \n",
        "# X, y = processData(df, 30)\n",
        "X,y = processData(df,7)\n",
        "\n",
        "#Divide into train and test data\n",
        "X_train,X_test = X[:int(X.shape[0]*0.80)],X[int(X.shape[0]*0.80):]\n",
        "y_train,y_test = y[:int(y.shape[0]*0.80)],y[int(y.shape[0]*0.80):]\n",
        "\n",
        "\n",
        "##One week before data\n",
        "\n",
        "#Create a function to process the data into 7 day look back slices\n",
        "def processData(data,lb):\n",
        "    feature = data[:, [3]]\n",
        "    data = data[:, [0,1,2,4]]\n",
        "    X_weekly_1,Y_weekly_1 = [],[]\n",
        "    for i in range(len(data)-lb-1):\n",
        "        X_weekly_1.append(data[i:(i+lb),:])\n",
        "        Y_weekly_1.append(feature[(i+lb),0])\n",
        "    return np.array(X_weekly_1),np.array(Y_weekly_1)\n",
        "  \n",
        "# X, y = processData(df, 30)\n",
        "X_weekly_1,y_weekly_1 = processData(df_weekly_1,7)\n",
        "\n",
        "#Divide into train and test data\n",
        "X_weekly1_train,X_weekly1_test = X_weekly_1[:int(X_weekly_1.shape[0]*0.80)],X_weekly_1[int(X_weekly_1.shape[0]*0.80):]\n",
        "y_weekly1_train,y_weekly1_test = y_weekly_1[:int(y_weekly_1.shape[0]*0.80)],y_weekly_1[int(y_weekly_1.shape[0]*0.80):]\n",
        "\n",
        "##Two weeks before data\n",
        "\n",
        "#Create a function to process the data into 7 day look back slices\n",
        "def processData(data,lb):\n",
        "    feature = data[:, [3]]\n",
        "    data = data[:, [0,1,2,4]]\n",
        "    X_weekly_2,Y_weekly_2 = [],[]\n",
        "    for i in range(len(data)-lb-1):\n",
        "        X_weekly_2.append(data[i:(i+lb),:])\n",
        "        Y_weekly_2.append(feature[(i+lb),0])\n",
        "    return np.array(X_weekly_2),np.array(Y_weekly_2)\n",
        "  \n",
        "# X, y = processData(df, 30)\n",
        "X_weekly_2,y_weekly_2 = processData(df_weekly_2,7)\n",
        "\n",
        "#Divide into train and test data\n",
        "X_weekly2_train,X_weekly2_test = X_weekly_2[:int(X_weekly_2.shape[0]*0.80)],X_weekly_2[int(X_weekly_2.shape[0]*0.80):]\n",
        "y_weekly2_train,y_weekly2_test = y_weekly_2[:int(y_weekly_2.shape[0]*0.80)],y_weekly_2[int(y_weekly_2.shape[0]*0.80):]\n",
        "\n",
        "##Three weeks before data\n",
        "\n",
        "#Create a function to process the data into 7 day look back slices\n",
        "def processData(data,lb):\n",
        "    feature = data[:, [3]]\n",
        "    data = data[:, [0,1,2,4]]\n",
        "    X_weekly_3,Y_weekly_3 = [],[]\n",
        "    for i in range(len(data)-lb-1):\n",
        "        X_weekly_3.append(data[i:(i+lb),:])\n",
        "        Y_weekly_3.append(feature[(i+lb),0])\n",
        "    return np.array(X_weekly_3),np.array(Y_weekly_3)\n",
        "  \n",
        "# X, y = processData(df, 30)\n",
        "X_weekly_3,y_weekly_3 = processData(df_weekly_3,7)\n",
        "\n",
        "#Divide into train and test data\n",
        "X_weekly3_train,X_weekly3_test = X_weekly_3[:int(X_weekly_3.shape[0]*0.80)],X_weekly_3[int(X_weekly_3.shape[0]*0.80):]\n",
        "y_weekly3_train,y_weekly3_test = y_weekly_3[:int(y_weekly_3.shape[0]*0.80)],y_weekly_3[int(y_weekly_3.shape[0]*0.80):]\n",
        "\n"
      ],
      "execution_count": 0,
      "outputs": []
    },
    {
      "cell_type": "code",
      "metadata": {
        "id": "NIdPSqz8svu2",
        "colab_type": "code",
        "outputId": "3db38303-b3fb-40e3-e59b-291be546d9b6",
        "colab": {
          "base_uri": "https://localhost:8080/",
          "height": 34
        }
      },
      "source": [
        "X_train.shape, X_weekly1_train.shape, X_weekly2_train.shape, X_weekly3_train.shape"
      ],
      "execution_count": 10,
      "outputs": [
        {
          "output_type": "execute_result",
          "data": {
            "text/plain": [
              "((3868, 7, 4), (3868, 7, 4), (3868, 7, 4), (3868, 7, 4))"
            ]
          },
          "metadata": {
            "tags": []
          },
          "execution_count": 10
        }
      ]
    },
    {
      "cell_type": "code",
      "metadata": {
        "id": "Y7NAlxcVCxRT",
        "colab_type": "code",
        "outputId": "efeffcf8-5b87-4dfb-deb3-521d483732c5",
        "colab": {
          "base_uri": "https://localhost:8080/",
          "height": 3556
        }
      },
      "source": [
        "#Reshape data for (Sample,Timestep,Features) \n",
        "X_train = X_train.reshape((X_train.shape[0],X_train.shape[1],4))\n",
        "X_test = X_test.reshape((X_test.shape[0],X_test.shape[1],4))\n",
        "\n",
        "X_weekly1_train = X_weekly1_train.reshape((X_weekly1_train.shape[0],X_weekly1_train.shape[1],4))\n",
        "X_weekly1_test = X_weekly1_test.reshape((X_weekly1_test.shape[0],X_weekly1_test.shape[1],4))\n",
        "\n",
        "X_weekly2_train = X_weekly2_train.reshape((X_weekly2_train.shape[0],X_weekly2_train.shape[1],4))\n",
        "X_weekly2_test = X_weekly2_test.reshape((X_weekly2_test.shape[0],X_weekly2_test.shape[1],4))\n",
        "\n",
        "X_weekly3_train = X_weekly3_train.reshape((X_weekly3_train.shape[0],X_weekly3_train.shape[1],4))\n",
        "X_weekly3_test = X_weekly3_test.reshape((X_weekly3_test.shape[0],X_weekly3_test.shape[1],4))\n",
        "\n",
        "\n",
        "#Build the model\n",
        "model = Sequential()\n",
        "\n",
        "#first input model\n",
        "visible1 = Input(shape=(7,4))\n",
        "LSTM11 = LSTM(100, return_sequences=True)(visible1)\n",
        "LSTM12 = LSTM(100)(LSTM11)\n",
        "# LSTM13 = LSTM(100, return_sequences=True)(LSTM12)\n",
        "# LSTM14 = LSTM(100)(LSTM13)\n",
        "\n",
        "#second input model\n",
        "visible2 = Input(shape=(7,4))\n",
        "LSTM21 = LSTM(100, return_sequences=True)(visible2)\n",
        "LSTM22 = LSTM(100)(LSTM21)\n",
        "# LSTM23 = LSTM(100, return_sequences=True)(LSTM22)\n",
        "# LSTM24 = LSTM(100)(LSTM23)\n",
        "\n",
        "#Third input model\n",
        "visible3 = Input(shape=(7,4))\n",
        "LSTM31 = LSTM(100, return_sequences=True)(visible3)\n",
        "LSTM32 = LSTM(100)(LSTM31)\n",
        "# LSTM33 = LSTM(100, return_sequences=True)(LSTM32)\n",
        "# LSTM34 = LSTM(100)(LSTM33)\n",
        "\n",
        "#Fourth input model\n",
        "visible4 = Input(shape=(7,4))\n",
        "LSTM41 = LSTM(100, return_sequences=True)(visible4)\n",
        "LSTM42 = LSTM(100)(LSTM41)\n",
        "# LSTM33 = LSTM(100, return_sequences=True)(LSTM32)\n",
        "# LSTM34 = LSTM(100)(LSTM33)\n",
        "\n",
        "#merge both input models\n",
        "merge = concatenate([LSTM12, LSTM22, LSTM32, LSTM42])\n",
        "\n",
        "#interpretation layer \n",
        "hidden11 = Dense(50, activation= 'relu')(merge)\n",
        "hidden12 = Dense(25, activation= 'relu')(hidden11)\n",
        "hidden13 = Dense(10, activation= 'relu')(hidden12)\n",
        "output = Dense(1)(hidden13)\n",
        "\n",
        "model = Model(inputs=[visible1, visible2, visible3, visible4], outputs=output)\n",
        "# model.add(LSTM(units = 100, input_shape=(7,4), return_sequences=True))\n",
        "\n",
        "# model.add(LSTM(units = 100, input_shape=(7,4), return_sequences=True))\n",
        "\n",
        "# model.add(LSTM(units = 100, input_shape=(7,4), return_sequences=True))\n",
        "\n",
        "# model.add(LSTM(units = 100, input_shape=(7,4)))\n",
        "\n",
        "# layer1 = LSTM(units = 1024, input_shape=(7,5))\n",
        "# output = layer1(input)\n",
        "\n",
        "# model.add()\n",
        "# # model.add(Dense(64))\n",
        "# model.add(Dense(1))\n",
        "model.compile(optimizer='adam',loss='mse')\n",
        "\n",
        "# #Fit model with history to check for overfitting\n",
        "history = model.fit([X_train, X_weekly1_train, X_weekly2_train, X_weekly3_train], y_train, epochs=100 , validation_data=([X_test, X_weekly1_test, X_weekly2_test, X_weekly3_test], y_test))\n",
        "# history = model.fit([X_train, X_weekly_t'rain],y_train, epochs=100 , validation_data=([X_test, X_weekly_test],y_test))"
      ],
      "execution_count": 11,
      "outputs": [
        {
          "output_type": "stream",
          "text": [
            "WARNING:tensorflow:From /usr/local/lib/python3.6/dist-packages/tensorflow/python/framework/op_def_library.py:263: colocate_with (from tensorflow.python.framework.ops) is deprecated and will be removed in a future version.\n",
            "Instructions for updating:\n",
            "Colocations handled automatically by placer.\n",
            "WARNING:tensorflow:From /usr/local/lib/python3.6/dist-packages/tensorflow/python/ops/math_ops.py:3066: to_int32 (from tensorflow.python.ops.math_ops) is deprecated and will be removed in a future version.\n",
            "Instructions for updating:\n",
            "Use tf.cast instead.\n",
            "Train on 3868 samples, validate on 967 samples\n",
            "Epoch 1/100\n",
            "3868/3868 [==============================] - 15s 4ms/step - loss: 0.0037 - val_loss: 5.9736e-04\n",
            "Epoch 2/100\n",
            "3868/3868 [==============================] - 9s 2ms/step - loss: 2.2414e-04 - val_loss: 5.1292e-04\n",
            "Epoch 3/100\n",
            "3868/3868 [==============================] - 9s 2ms/step - loss: 1.9662e-04 - val_loss: 6.7022e-04\n",
            "Epoch 4/100\n",
            "3868/3868 [==============================] - 9s 2ms/step - loss: 1.9467e-04 - val_loss: 4.6749e-04\n",
            "Epoch 5/100\n",
            "3868/3868 [==============================] - 9s 2ms/step - loss: 1.7511e-04 - val_loss: 7.8495e-04\n",
            "Epoch 6/100\n",
            "3868/3868 [==============================] - 9s 2ms/step - loss: 1.8752e-04 - val_loss: 3.5052e-04\n",
            "Epoch 7/100\n",
            "3868/3868 [==============================] - 9s 2ms/step - loss: 1.7490e-04 - val_loss: 4.4313e-04\n",
            "Epoch 8/100\n",
            "3868/3868 [==============================] - 9s 2ms/step - loss: 1.6362e-04 - val_loss: 3.5980e-04\n",
            "Epoch 9/100\n",
            "3868/3868 [==============================] - 9s 2ms/step - loss: 1.6133e-04 - val_loss: 4.5232e-04\n",
            "Epoch 10/100\n",
            "3868/3868 [==============================] - 9s 2ms/step - loss: 1.6052e-04 - val_loss: 6.3685e-04\n",
            "Epoch 11/100\n",
            "3868/3868 [==============================] - 9s 2ms/step - loss: 1.6395e-04 - val_loss: 5.8912e-04\n",
            "Epoch 12/100\n",
            "3868/3868 [==============================] - 9s 2ms/step - loss: 1.4028e-04 - val_loss: 4.0231e-04\n",
            "Epoch 13/100\n",
            "3868/3868 [==============================] - 9s 2ms/step - loss: 1.3363e-04 - val_loss: 3.9098e-04\n",
            "Epoch 14/100\n",
            "3868/3868 [==============================] - 9s 2ms/step - loss: 1.2847e-04 - val_loss: 6.3183e-04\n",
            "Epoch 15/100\n",
            "3868/3868 [==============================] - 9s 2ms/step - loss: 1.5207e-04 - val_loss: 3.2363e-04\n",
            "Epoch 16/100\n",
            "3868/3868 [==============================] - 9s 2ms/step - loss: 1.2272e-04 - val_loss: 2.5621e-04\n",
            "Epoch 17/100\n",
            "3868/3868 [==============================] - 9s 2ms/step - loss: 1.0912e-04 - val_loss: 0.0012\n",
            "Epoch 18/100\n",
            "3868/3868 [==============================] - 9s 2ms/step - loss: 1.1392e-04 - val_loss: 0.0020\n",
            "Epoch 19/100\n",
            "3868/3868 [==============================] - 9s 2ms/step - loss: 1.2899e-04 - val_loss: 2.4040e-04\n",
            "Epoch 20/100\n",
            "3868/3868 [==============================] - 9s 2ms/step - loss: 1.0966e-04 - val_loss: 9.7301e-04\n",
            "Epoch 21/100\n",
            "3868/3868 [==============================] - 9s 2ms/step - loss: 1.0802e-04 - val_loss: 5.2266e-04\n",
            "Epoch 22/100\n",
            "3868/3868 [==============================] - 9s 2ms/step - loss: 9.4757e-05 - val_loss: 4.0073e-04\n",
            "Epoch 23/100\n",
            "3868/3868 [==============================] - 9s 2ms/step - loss: 9.9381e-05 - val_loss: 3.8488e-04\n",
            "Epoch 24/100\n",
            "3868/3868 [==============================] - 9s 2ms/step - loss: 8.2602e-05 - val_loss: 6.4250e-04\n",
            "Epoch 25/100\n",
            "3868/3868 [==============================] - 9s 2ms/step - loss: 9.9207e-05 - val_loss: 1.6305e-04\n",
            "Epoch 26/100\n",
            "3868/3868 [==============================] - 9s 2ms/step - loss: 7.8048e-05 - val_loss: 1.3985e-04\n",
            "Epoch 27/100\n",
            "3868/3868 [==============================] - 9s 2ms/step - loss: 8.0372e-05 - val_loss: 5.5953e-04\n",
            "Epoch 28/100\n",
            "3868/3868 [==============================] - 9s 2ms/step - loss: 9.1152e-05 - val_loss: 2.2580e-04\n",
            "Epoch 29/100\n",
            "3868/3868 [==============================] - 9s 2ms/step - loss: 7.4785e-05 - val_loss: 1.9826e-04\n",
            "Epoch 30/100\n",
            "3868/3868 [==============================] - 9s 2ms/step - loss: 7.4050e-05 - val_loss: 1.3846e-04\n",
            "Epoch 31/100\n",
            "3868/3868 [==============================] - 9s 2ms/step - loss: 7.6329e-05 - val_loss: 1.7975e-04\n",
            "Epoch 32/100\n",
            "3868/3868 [==============================] - 9s 2ms/step - loss: 7.5225e-05 - val_loss: 1.9794e-04\n",
            "Epoch 33/100\n",
            "3868/3868 [==============================] - 9s 2ms/step - loss: 6.6121e-05 - val_loss: 1.8953e-04\n",
            "Epoch 34/100\n",
            "3868/3868 [==============================] - 9s 2ms/step - loss: 7.1770e-05 - val_loss: 1.1225e-04\n",
            "Epoch 35/100\n",
            "3868/3868 [==============================] - 9s 2ms/step - loss: 6.4974e-05 - val_loss: 1.6585e-04\n",
            "Epoch 36/100\n",
            "3868/3868 [==============================] - 9s 2ms/step - loss: 7.6408e-05 - val_loss: 1.3115e-04\n",
            "Epoch 37/100\n",
            "3868/3868 [==============================] - 9s 2ms/step - loss: 6.5980e-05 - val_loss: 1.4116e-04\n",
            "Epoch 38/100\n",
            "3868/3868 [==============================] - 9s 2ms/step - loss: 5.7630e-05 - val_loss: 1.1971e-04\n",
            "Epoch 39/100\n",
            "3868/3868 [==============================] - 9s 2ms/step - loss: 6.3432e-05 - val_loss: 3.0961e-04\n",
            "Epoch 40/100\n",
            "3868/3868 [==============================] - 9s 2ms/step - loss: 1.0037e-04 - val_loss: 1.9099e-04\n",
            "Epoch 41/100\n",
            "3868/3868 [==============================] - 9s 2ms/step - loss: 6.0967e-05 - val_loss: 1.6582e-04\n",
            "Epoch 42/100\n",
            "3868/3868 [==============================] - 9s 2ms/step - loss: 6.3164e-05 - val_loss: 1.2573e-04\n",
            "Epoch 43/100\n",
            "3868/3868 [==============================] - 9s 2ms/step - loss: 6.3642e-05 - val_loss: 1.4150e-04\n",
            "Epoch 44/100\n",
            "3868/3868 [==============================] - 9s 2ms/step - loss: 6.6630e-05 - val_loss: 2.6542e-04\n",
            "Epoch 45/100\n",
            "3868/3868 [==============================] - 9s 2ms/step - loss: 6.2545e-05 - val_loss: 3.6878e-04\n",
            "Epoch 46/100\n",
            "3868/3868 [==============================] - 9s 2ms/step - loss: 5.7571e-05 - val_loss: 2.6657e-04\n",
            "Epoch 47/100\n",
            "3868/3868 [==============================] - 9s 2ms/step - loss: 6.9004e-05 - val_loss: 1.3440e-04\n",
            "Epoch 48/100\n",
            "3868/3868 [==============================] - 9s 2ms/step - loss: 5.6266e-05 - val_loss: 1.5515e-04\n",
            "Epoch 49/100\n",
            "3868/3868 [==============================] - 9s 2ms/step - loss: 6.2794e-05 - val_loss: 1.3994e-04\n",
            "Epoch 50/100\n",
            "3868/3868 [==============================] - 9s 2ms/step - loss: 5.6861e-05 - val_loss: 2.1864e-04\n",
            "Epoch 51/100\n",
            "3868/3868 [==============================] - 9s 2ms/step - loss: 5.8753e-05 - val_loss: 1.3128e-04\n",
            "Epoch 52/100\n",
            "3868/3868 [==============================] - 9s 2ms/step - loss: 5.7031e-05 - val_loss: 1.4175e-04\n",
            "Epoch 53/100\n",
            "3868/3868 [==============================] - 9s 2ms/step - loss: 5.6909e-05 - val_loss: 1.9267e-04\n",
            "Epoch 54/100\n",
            "3868/3868 [==============================] - 9s 2ms/step - loss: 6.6166e-05 - val_loss: 3.1278e-04\n",
            "Epoch 55/100\n",
            "3868/3868 [==============================] - 9s 2ms/step - loss: 6.9999e-05 - val_loss: 3.6206e-04\n",
            "Epoch 56/100\n",
            "3868/3868 [==============================] - 9s 2ms/step - loss: 6.7049e-05 - val_loss: 1.7592e-04\n",
            "Epoch 57/100\n",
            "3868/3868 [==============================] - 9s 2ms/step - loss: 5.7029e-05 - val_loss: 1.7725e-04\n",
            "Epoch 58/100\n",
            "3868/3868 [==============================] - 9s 2ms/step - loss: 5.9488e-05 - val_loss: 1.2186e-04\n",
            "Epoch 59/100\n",
            "3868/3868 [==============================] - 9s 2ms/step - loss: 5.2375e-05 - val_loss: 1.1917e-04\n",
            "Epoch 60/100\n",
            "3868/3868 [==============================] - 9s 2ms/step - loss: 5.5087e-05 - val_loss: 3.5918e-04\n",
            "Epoch 61/100\n",
            "3868/3868 [==============================] - 9s 2ms/step - loss: 7.4103e-05 - val_loss: 1.6757e-04\n",
            "Epoch 62/100\n",
            "3868/3868 [==============================] - 9s 2ms/step - loss: 5.6836e-05 - val_loss: 1.3536e-04\n",
            "Epoch 63/100\n",
            "3868/3868 [==============================] - 9s 2ms/step - loss: 5.9347e-05 - val_loss: 1.4773e-04\n",
            "Epoch 64/100\n",
            "3868/3868 [==============================] - 9s 2ms/step - loss: 5.6782e-05 - val_loss: 1.8093e-04\n",
            "Epoch 65/100\n",
            "3868/3868 [==============================] - 9s 2ms/step - loss: 5.6740e-05 - val_loss: 1.1052e-04\n",
            "Epoch 66/100\n",
            "3868/3868 [==============================] - 9s 2ms/step - loss: 5.6307e-05 - val_loss: 1.4926e-04\n",
            "Epoch 67/100\n",
            "3868/3868 [==============================] - 9s 2ms/step - loss: 5.5572e-05 - val_loss: 1.0922e-04\n",
            "Epoch 68/100\n",
            "3868/3868 [==============================] - 9s 2ms/step - loss: 6.5608e-05 - val_loss: 1.2377e-04\n",
            "Epoch 69/100\n",
            "3868/3868 [==============================] - 9s 2ms/step - loss: 5.9953e-05 - val_loss: 1.0885e-04\n",
            "Epoch 70/100\n",
            "3868/3868 [==============================] - 9s 2ms/step - loss: 5.6885e-05 - val_loss: 1.5155e-04\n",
            "Epoch 71/100\n",
            "3868/3868 [==============================] - 9s 2ms/step - loss: 5.9407e-05 - val_loss: 1.2563e-04\n",
            "Epoch 72/100\n",
            "3868/3868 [==============================] - 9s 2ms/step - loss: 5.6215e-05 - val_loss: 1.1255e-04\n",
            "Epoch 73/100\n",
            "3868/3868 [==============================] - 9s 2ms/step - loss: 5.3706e-05 - val_loss: 3.0421e-04\n",
            "Epoch 74/100\n",
            "3868/3868 [==============================] - 9s 2ms/step - loss: 5.6121e-05 - val_loss: 1.4148e-04\n",
            "Epoch 75/100\n",
            "3868/3868 [==============================] - 9s 2ms/step - loss: 6.3615e-05 - val_loss: 3.8595e-04\n",
            "Epoch 76/100\n",
            "3868/3868 [==============================] - 9s 2ms/step - loss: 5.1467e-05 - val_loss: 2.3014e-04\n",
            "Epoch 77/100\n",
            "3868/3868 [==============================] - 9s 2ms/step - loss: 5.6615e-05 - val_loss: 1.3100e-04\n",
            "Epoch 78/100\n",
            "3868/3868 [==============================] - 9s 2ms/step - loss: 5.3732e-05 - val_loss: 1.9875e-04\n",
            "Epoch 79/100\n",
            "3868/3868 [==============================] - 9s 2ms/step - loss: 5.6743e-05 - val_loss: 1.2980e-04\n",
            "Epoch 80/100\n",
            "3868/3868 [==============================] - 9s 2ms/step - loss: 5.4687e-05 - val_loss: 1.0714e-04\n",
            "Epoch 81/100\n",
            "3868/3868 [==============================] - 9s 2ms/step - loss: 5.3985e-05 - val_loss: 4.7693e-04\n",
            "Epoch 82/100\n",
            "3868/3868 [==============================] - 9s 2ms/step - loss: 5.9395e-05 - val_loss: 1.8417e-04\n",
            "Epoch 83/100\n",
            "3868/3868 [==============================] - 9s 2ms/step - loss: 5.5908e-05 - val_loss: 1.5241e-04\n",
            "Epoch 84/100\n",
            "3868/3868 [==============================] - 9s 2ms/step - loss: 6.4332e-05 - val_loss: 2.0529e-04\n",
            "Epoch 85/100\n",
            "3868/3868 [==============================] - 9s 2ms/step - loss: 5.3480e-05 - val_loss: 1.5859e-04\n",
            "Epoch 86/100\n",
            "3868/3868 [==============================] - 9s 2ms/step - loss: 5.3633e-05 - val_loss: 1.0727e-04\n",
            "Epoch 87/100\n",
            "3868/3868 [==============================] - 9s 2ms/step - loss: 5.2760e-05 - val_loss: 1.2683e-04\n",
            "Epoch 88/100\n",
            "3868/3868 [==============================] - 9s 2ms/step - loss: 5.2569e-05 - val_loss: 3.5742e-04\n",
            "Epoch 89/100\n",
            "3868/3868 [==============================] - 9s 2ms/step - loss: 5.4273e-05 - val_loss: 1.7828e-04\n",
            "Epoch 90/100\n",
            "3868/3868 [==============================] - 9s 2ms/step - loss: 5.9683e-05 - val_loss: 1.4356e-04\n",
            "Epoch 91/100\n",
            "3868/3868 [==============================] - 9s 2ms/step - loss: 5.6996e-05 - val_loss: 8.1672e-04\n",
            "Epoch 92/100\n",
            "3868/3868 [==============================] - 9s 2ms/step - loss: 6.2548e-05 - val_loss: 2.8807e-04\n",
            "Epoch 93/100\n",
            "3868/3868 [==============================] - 9s 2ms/step - loss: 5.5989e-05 - val_loss: 2.2218e-04\n",
            "Epoch 94/100\n",
            "3868/3868 [==============================] - 9s 2ms/step - loss: 5.1769e-05 - val_loss: 1.5345e-04\n",
            "Epoch 95/100\n",
            "3868/3868 [==============================] - 9s 2ms/step - loss: 5.9528e-05 - val_loss: 1.8562e-04\n",
            "Epoch 96/100\n",
            "3868/3868 [==============================] - 9s 2ms/step - loss: 6.0275e-05 - val_loss: 1.9758e-04\n",
            "Epoch 97/100\n",
            "3868/3868 [==============================] - 9s 2ms/step - loss: 5.6592e-05 - val_loss: 1.5726e-04\n",
            "Epoch 98/100\n",
            "3868/3868 [==============================] - 9s 2ms/step - loss: 5.1378e-05 - val_loss: 2.3841e-04\n",
            "Epoch 99/100\n",
            "3868/3868 [==============================] - 9s 2ms/step - loss: 5.3966e-05 - val_loss: 2.9712e-04\n",
            "Epoch 100/100\n",
            "3868/3868 [==============================] - 9s 2ms/step - loss: 5.4510e-05 - val_loss: 1.9127e-04\n"
          ],
          "name": "stdout"
        }
      ]
    },
    {
      "cell_type": "code",
      "metadata": {
        "id": "PA9pDmgsOEub",
        "colab_type": "code",
        "outputId": "36de9901-12f4-48b3-e7ac-e942696341dc",
        "colab": {
          "base_uri": "https://localhost:8080/",
          "height": 765
        }
      },
      "source": [
        "model.summary()"
      ],
      "execution_count": 12,
      "outputs": [
        {
          "output_type": "stream",
          "text": [
            "__________________________________________________________________________________________________\n",
            "Layer (type)                    Output Shape         Param #     Connected to                     \n",
            "==================================================================================================\n",
            "input_1 (InputLayer)            (None, 7, 4)         0                                            \n",
            "__________________________________________________________________________________________________\n",
            "input_2 (InputLayer)            (None, 7, 4)         0                                            \n",
            "__________________________________________________________________________________________________\n",
            "input_3 (InputLayer)            (None, 7, 4)         0                                            \n",
            "__________________________________________________________________________________________________\n",
            "input_4 (InputLayer)            (None, 7, 4)         0                                            \n",
            "__________________________________________________________________________________________________\n",
            "lstm_1 (LSTM)                   (None, 7, 100)       42000       input_1[0][0]                    \n",
            "__________________________________________________________________________________________________\n",
            "lstm_3 (LSTM)                   (None, 7, 100)       42000       input_2[0][0]                    \n",
            "__________________________________________________________________________________________________\n",
            "lstm_5 (LSTM)                   (None, 7, 100)       42000       input_3[0][0]                    \n",
            "__________________________________________________________________________________________________\n",
            "lstm_7 (LSTM)                   (None, 7, 100)       42000       input_4[0][0]                    \n",
            "__________________________________________________________________________________________________\n",
            "lstm_2 (LSTM)                   (None, 100)          80400       lstm_1[0][0]                     \n",
            "__________________________________________________________________________________________________\n",
            "lstm_4 (LSTM)                   (None, 100)          80400       lstm_3[0][0]                     \n",
            "__________________________________________________________________________________________________\n",
            "lstm_6 (LSTM)                   (None, 100)          80400       lstm_5[0][0]                     \n",
            "__________________________________________________________________________________________________\n",
            "lstm_8 (LSTM)                   (None, 100)          80400       lstm_7[0][0]                     \n",
            "__________________________________________________________________________________________________\n",
            "concatenate_1 (Concatenate)     (None, 400)          0           lstm_2[0][0]                     \n",
            "                                                                 lstm_4[0][0]                     \n",
            "                                                                 lstm_6[0][0]                     \n",
            "                                                                 lstm_8[0][0]                     \n",
            "__________________________________________________________________________________________________\n",
            "dense_1 (Dense)                 (None, 50)           20050       concatenate_1[0][0]              \n",
            "__________________________________________________________________________________________________\n",
            "dense_2 (Dense)                 (None, 25)           1275        dense_1[0][0]                    \n",
            "__________________________________________________________________________________________________\n",
            "dense_3 (Dense)                 (None, 10)           260         dense_2[0][0]                    \n",
            "__________________________________________________________________________________________________\n",
            "dense_4 (Dense)                 (None, 1)            11          dense_3[0][0]                    \n",
            "==================================================================================================\n",
            "Total params: 511,196\n",
            "Trainable params: 511,196\n",
            "Non-trainable params: 0\n",
            "__________________________________________________________________________________________________\n"
          ],
          "name": "stdout"
        }
      ]
    },
    {
      "cell_type": "code",
      "metadata": {
        "id": "IpiNNhK4D_2d",
        "colab_type": "code",
        "outputId": "efb12eff-d316-4759-a40a-9a567fa6ed99",
        "colab": {
          "base_uri": "https://localhost:8080/",
          "height": 269
        }
      },
      "source": [
        "plt.plot(history.history['loss'], label='train_loss')\n",
        "plt.plot(history.history['val_loss'], label='Val_loss')\n",
        "plt.legend()\n",
        "plt.show()"
      ],
      "execution_count": 13,
      "outputs": [
        {
          "output_type": "display_data",
          "data": {
            "image/png": "[encoded data removed]",
            "text/plain": [
              "<Figure size 432x288 with 1 Axes>"
            ]
          },
          "metadata": {
            "tags": []
          }
        }
      ]
    },
    {
      "cell_type": "code",
      "metadata": {
        "id": "cgTS0iD6FaHU",
        "colab_type": "code",
        "colab": {}
      },
      "source": [
        "Xt = model.predict([X_test, X_weekly1_test, X_weekly2_test, X_weekly3_test ])\n",
        "Xt = Xt.ravel()\n",
        "testPredict_extended = np.zeros((len(Xt),5))\n",
        "testPredict_extended[:, 3] = Xt\n",
        "testPredict = scl.inverse_transform(testPredict_extended)[:, 3]\n",
        "\n",
        "y_test_extended = np.zeros((len(y_test),5))\n",
        "y_test_extended[:, 3] = y_test \n",
        "y_test = scl.inverse_transform(y_test_extended)[:,3]\n",
        "\n",
        "\n",
        "\n",
        "# y_test\n",
        "# scl.inverse_transform(y_test)[3]\n",
        "# scl.inverse_transform(Xt)"
      ],
      "execution_count": 0,
      "outputs": []
    },
    {
      "cell_type": "code",
      "metadata": {
        "id": "rHTdV76cg48y",
        "colab_type": "code",
        "outputId": "6548715c-f844-4358-fe6b-55c172d7115d",
        "colab": {
          "base_uri": "https://localhost:8080/",
          "height": 269
        }
      },
      "source": [
        "plt.plot(y_test, label='Original Test Data')\n",
        "plt.plot(testPredict, label='Predicted Test Data')\n",
        "plt.legend()\n",
        "plt.show()"
      ],
      "execution_count": 15,
      "outputs": [
        {
          "output_type": "display_data",
          "data": {
            "image/png": "[encoded data removed]",
            "text/plain": [
              "<Figure size 432x288 with 1 Axes>"
            ]
          },
          "metadata": {
            "tags": []
          }
        }
      ]
    },
    {
      "cell_type": "code",
      "metadata": {
        "id": "OwqeE1v4s7FO",
        "colab_type": "code",
        "colab": {}
      },
      "source": [
        ""
      ],
      "execution_count": 0,
      "outputs": []
    }
  ]
}
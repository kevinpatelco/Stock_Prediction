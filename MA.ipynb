{
  "nbformat": 4,
  "nbformat_minor": 0,
  "metadata": {
    "colab": {
      "name": "MA.ipynb",
      "version": "0.3.2",
      "provenance": [],
      "collapsed_sections": [
        "A3fBmw8yFm1-"
      ],
      "include_colab_link": true
    },
    "kernelspec": {
      "name": "python3",
      "display_name": "Python 3"
    },
    "accelerator": "TPU"
  },
  "cells": [
    {
      "cell_type": "markdown",
      "metadata": {
        "id": "view-in-github",
        "colab_type": "text"
      },
      "source": [
        "<a href=\"https://colab.research.google.com/github/kevinpatelco/Stock_Prediction/blob/master/MA.ipynb\" target=\"_parent\"><img src=\"https://colab.research.google.com/assets/colab-badge.svg\" alt=\"Open In Colab\"/></a>"
      ]
    },
    {
      "metadata": {
        "id": "qrD0OeQHaN0U",
        "colab_type": "code",
        "outputId": "145e6ef1-3d3a-4f1a-e167-0da245b00ad5",
        "colab": {
          "base_uri": "https://localhost:8080/",
          "height": 289
        }
      },
      "cell_type": "code",
      "source": [
        "!pip install alpha_vantage\n",
        "!pip install --upgrade scikit-learn"
      ],
      "execution_count": 1,
      "outputs": [
        {
          "output_type": "stream",
          "text": [
            "Collecting alpha_vantage\n",
            "  Downloading https://files.pythonhosted.org/packages/7a/6c/81c7f1c58064cb2ce808edc6c4cdb3241f70bf8cd158289540cdf9fe0204/alpha_vantage-2.1.0.tar.gz\n",
            "Requirement already satisfied: requests in /usr/local/lib/python3.6/dist-packages (from alpha_vantage) (2.21.0)\n",
            "Requirement already satisfied: chardet<3.1.0,>=3.0.2 in /usr/local/lib/python3.6/dist-packages (from requests->alpha_vantage) (3.0.4)\n",
            "Requirement already satisfied: urllib3<1.25,>=1.21.1 in /usr/local/lib/python3.6/dist-packages (from requests->alpha_vantage) (1.24.2)\n",
            "Requirement already satisfied: certifi>=2017.4.17 in /usr/local/lib/python3.6/dist-packages (from requests->alpha_vantage) (2019.3.9)\n",
            "Requirement already satisfied: idna<2.9,>=2.5 in /usr/local/lib/python3.6/dist-packages (from requests->alpha_vantage) (2.8)\n",
            "Building wheels for collected packages: alpha-vantage\n",
            "  Building wheel for alpha-vantage (setup.py) ... \u001b[?25ldone\n",
            "\u001b[?25h  Stored in directory: /root/.cache/pip/wheels/21/9c/02/b7cfae63f7119f4089f229ba1a09ce90fabbaf96199c2890be\n",
            "Successfully built alpha-vantage\n",
            "Installing collected packages: alpha-vantage\n",
            "Successfully installed alpha-vantage-2.1.0\n",
            "Requirement already up-to-date: scikit-learn in /usr/local/lib/python3.6/dist-packages (0.20.3)\n",
            "Requirement already satisfied, skipping upgrade: scipy>=0.13.3 in /usr/local/lib/python3.6/dist-packages (from scikit-learn) (1.2.1)\n",
            "Requirement already satisfied, skipping upgrade: numpy>=1.8.2 in /usr/local/lib/python3.6/dist-packages (from scikit-learn) (1.16.3)\n"
          ],
          "name": "stdout"
        }
      ]
    },
    {
      "metadata": {
        "id": "wWMdrmOrP-z-",
        "colab_type": "text"
      },
      "cell_type": "markdown",
      "source": [
        "# Data Source : Alpha Vantage ---- https://www.alphavantage.co/"
      ]
    },
    {
      "metadata": {
        "id": "J_x9dKrhaTYS",
        "colab_type": "code",
        "outputId": "0f06cdfb-8470-49cf-97b6-810859a21f34",
        "colab": {
          "base_uri": "https://localhost:8080/",
          "height": 34
        }
      },
      "cell_type": "code",
      "source": [
        "from alpha_vantage.timeseries import TimeSeries\n",
        "from alpha_vantage.techindicators import TechIndicators\n",
        "import seaborn as sns\n",
        "import matplotlib.pyplot as plt\n",
        "from pprint import pprint\n",
        "import numpy as np\n",
        "import pandas as pd\n",
        "\n",
        "from sklearn import linear_model \n",
        "from sklearn.neighbors import KNeighborsRegressor\n",
        "from sklearn.ensemble import RandomForestRegressor\n",
        "from sklearn import preprocessing, svm\n",
        "from sklearn.model_selection import train_test_split\n",
        "\n",
        "from keras.models import Sequential, Model\n",
        "from keras.layers import Input, Dense, LSTM, Dropout\n",
        "from keras.layers import LSTM, SimpleRNN, GRU\n",
        "from sklearn.metrics import mean_squared_error"
      ],
      "execution_count": 2,
      "outputs": [
        {
          "output_type": "stream",
          "text": [
            "Using TensorFlow backend.\n"
          ],
          "name": "stderr"
        }
      ]
    },
    {
      "metadata": {
        "id": "cA84JEjoGOg6",
        "colab_type": "text"
      },
      "cell_type": "markdown",
      "source": [
        "#Data Processing"
      ]
    },
    {
      "metadata": {
        "id": "FFAlYbysaalD",
        "colab_type": "code",
        "colab": {}
      },
      "cell_type": "code",
      "source": [
        "ts = TimeSeries(key='HE5QFT0CZ49ZBE85', output_format='pandas')\n",
        "\n",
        "#Add values to SPY_data Variable\n",
        "SPY_data, SPY_meta_data = ts.get_daily(symbol='SPY', outputsize='full')\n",
        "\n",
        "\n",
        "#Add values to SPX_data Variable\n",
        "SPX_data, SPX_meta_data= ts.get_daily(symbol='SPX', outputsize='full')\n",
        "# pprint(SPY_data)\n",
        "\n",
        "SPX_weekly_data, SPX_weekly__meta_data = ts.get_weekly(symbol='SPX')\n",
        "\n"
      ],
      "execution_count": 0,
      "outputs": []
    },
    {
      "metadata": {
        "id": "hMZuARLoavgO",
        "colab_type": "code",
        "outputId": "e0c814ec-79ca-4dba-d867-f2c3c062ae88",
        "colab": {
          "base_uri": "https://localhost:8080/",
          "height": 317
        }
      },
      "cell_type": "code",
      "source": [
        "'''Simple Moving Average'''\n",
        "\n",
        "ti = TechIndicators(key='HE5QFT0CZ49ZBE85', output_format='pandas')\n",
        "\n",
        "#SPX\n",
        "spx_sma9 = ti.get_sma(symbol='SPX', interval='daily', time_period=9, series_type='close')\n",
        "spx_sma13 = ti.get_sma(symbol='SPX', interval='daily', time_period=13, series_type='close')\n",
        "spx_sma50 = ti.get_sma(symbol='SPX', interval='daily', time_period=50, series_type='close')"
      ],
      "execution_count": 0,
      "outputs": [
        {
          "output_type": "error",
          "ename": "KeyError",
          "evalue": "ignored",
          "traceback": [
            "\u001b[0;31m---------------------------------------------------------------------------\u001b[0m",
            "\u001b[0;31mKeyError\u001b[0m                                  Traceback (most recent call last)",
            "\u001b[0;32m<ipython-input-4-6b247a21ba76>\u001b[0m in \u001b[0;36m<module>\u001b[0;34m()\u001b[0m\n\u001b[1;32m      6\u001b[0m \u001b[0mspx_sma9\u001b[0m \u001b[0;34m=\u001b[0m \u001b[0mti\u001b[0m\u001b[0;34m.\u001b[0m\u001b[0mget_sma\u001b[0m\u001b[0;34m(\u001b[0m\u001b[0msymbol\u001b[0m\u001b[0;34m=\u001b[0m\u001b[0;34m'SPX'\u001b[0m\u001b[0;34m,\u001b[0m \u001b[0minterval\u001b[0m\u001b[0;34m=\u001b[0m\u001b[0;34m'daily'\u001b[0m\u001b[0;34m,\u001b[0m \u001b[0mtime_period\u001b[0m\u001b[0;34m=\u001b[0m\u001b[0;36m9\u001b[0m\u001b[0;34m,\u001b[0m \u001b[0mseries_type\u001b[0m\u001b[0;34m=\u001b[0m\u001b[0;34m'close'\u001b[0m\u001b[0;34m)\u001b[0m\u001b[0;34m\u001b[0m\u001b[0;34m\u001b[0m\u001b[0m\n\u001b[1;32m      7\u001b[0m \u001b[0mspx_sma13\u001b[0m \u001b[0;34m=\u001b[0m \u001b[0mti\u001b[0m\u001b[0;34m.\u001b[0m\u001b[0mget_sma\u001b[0m\u001b[0;34m(\u001b[0m\u001b[0msymbol\u001b[0m\u001b[0;34m=\u001b[0m\u001b[0;34m'SPX'\u001b[0m\u001b[0;34m,\u001b[0m \u001b[0minterval\u001b[0m\u001b[0;34m=\u001b[0m\u001b[0;34m'daily'\u001b[0m\u001b[0;34m,\u001b[0m \u001b[0mtime_period\u001b[0m\u001b[0;34m=\u001b[0m\u001b[0;36m13\u001b[0m\u001b[0;34m,\u001b[0m \u001b[0mseries_type\u001b[0m\u001b[0;34m=\u001b[0m\u001b[0;34m'close'\u001b[0m\u001b[0;34m)\u001b[0m\u001b[0;34m\u001b[0m\u001b[0;34m\u001b[0m\u001b[0m\n\u001b[0;32m----> 8\u001b[0;31m \u001b[0mspx_sma50\u001b[0m \u001b[0;34m=\u001b[0m \u001b[0mti\u001b[0m\u001b[0;34m.\u001b[0m\u001b[0mget_sma\u001b[0m\u001b[0;34m(\u001b[0m\u001b[0msymbol\u001b[0m\u001b[0;34m=\u001b[0m\u001b[0;34m'SPX'\u001b[0m\u001b[0;34m,\u001b[0m \u001b[0minterval\u001b[0m\u001b[0;34m=\u001b[0m\u001b[0;34m'daily'\u001b[0m\u001b[0;34m,\u001b[0m \u001b[0mtime_period\u001b[0m\u001b[0;34m=\u001b[0m\u001b[0;36m50\u001b[0m\u001b[0;34m,\u001b[0m \u001b[0mseries_type\u001b[0m\u001b[0;34m=\u001b[0m\u001b[0;34m'close'\u001b[0m\u001b[0;34m)\u001b[0m\u001b[0;34m\u001b[0m\u001b[0;34m\u001b[0m\u001b[0m\n\u001b[0m",
            "\u001b[0;32m/usr/local/lib/python3.6/dist-packages/alpha_vantage/alphavantage.py\u001b[0m in \u001b[0;36m_format_wrapper\u001b[0;34m(self, *args, **kwargs)\u001b[0m\n\u001b[1;32m    176\u001b[0m             \u001b[0;32mif\u001b[0m \u001b[0;34m'json'\u001b[0m \u001b[0;32min\u001b[0m \u001b[0mself\u001b[0m\u001b[0;34m.\u001b[0m\u001b[0moutput_format\u001b[0m\u001b[0;34m.\u001b[0m\u001b[0mlower\u001b[0m\u001b[0;34m(\u001b[0m\u001b[0;34m)\u001b[0m \u001b[0;32mor\u001b[0m \u001b[0;34m'pandas'\u001b[0m\u001b[0;31m \u001b[0m\u001b[0;31m\\\u001b[0m\u001b[0;34m\u001b[0m\u001b[0;34m\u001b[0m\u001b[0m\n\u001b[1;32m    177\u001b[0m                     \u001b[0;32min\u001b[0m \u001b[0mself\u001b[0m\u001b[0;34m.\u001b[0m\u001b[0moutput_format\u001b[0m\u001b[0;34m.\u001b[0m\u001b[0mlower\u001b[0m\u001b[0;34m(\u001b[0m\u001b[0;34m)\u001b[0m\u001b[0;34m:\u001b[0m\u001b[0;34m\u001b[0m\u001b[0;34m\u001b[0m\u001b[0m\n\u001b[0;32m--> 178\u001b[0;31m                 \u001b[0mdata\u001b[0m \u001b[0;34m=\u001b[0m \u001b[0mcall_response\u001b[0m\u001b[0;34m[\u001b[0m\u001b[0mdata_key\u001b[0m\u001b[0;34m]\u001b[0m\u001b[0;34m\u001b[0m\u001b[0;34m\u001b[0m\u001b[0m\n\u001b[0m\u001b[1;32m    179\u001b[0m                 \u001b[0;32mif\u001b[0m \u001b[0mmeta_data_key\u001b[0m \u001b[0;32mis\u001b[0m \u001b[0;32mnot\u001b[0m \u001b[0;32mNone\u001b[0m\u001b[0;34m:\u001b[0m\u001b[0;34m\u001b[0m\u001b[0;34m\u001b[0m\u001b[0m\n\u001b[1;32m    180\u001b[0m                     \u001b[0mmeta_data\u001b[0m \u001b[0;34m=\u001b[0m \u001b[0mcall_response\u001b[0m\u001b[0;34m[\u001b[0m\u001b[0mmeta_data_key\u001b[0m\u001b[0;34m]\u001b[0m\u001b[0;34m\u001b[0m\u001b[0;34m\u001b[0m\u001b[0m\n",
            "\u001b[0;31mKeyError\u001b[0m: 'Technical Analysis: SMA'"
          ]
        }
      ]
    },
    {
      "metadata": {
        "id": "8mW1XWKsayBy",
        "colab_type": "code",
        "colab": {}
      },
      "cell_type": "code",
      "source": [
        "#SPX SMA PLOT\n",
        "plt.figure(figsize= (50, 10))\n",
        "plt.plot(SPX_data['4. close'].values)\n",
        "plt.plot(spx_sma9[0].values)\n",
        "plt.plot(spx_sma13[0].values)\n",
        "plt.plot(spx_sma50[0].values)\n",
        "\n",
        "plt.legend(['SPX close original data', 'SPX SMA 9', 'SPX SMA 13', 'SPX SMA 50'])"
      ],
      "execution_count": 0,
      "outputs": []
    },
    {
      "metadata": {
        "id": "JRsjjTEY-k-S",
        "colab_type": "code",
        "colab": {}
      },
      "cell_type": "code",
      "source": [
        "#SPY\n",
        "spy_sma9 = ti.get_sma(symbol='SPY', interval='daily', time_period=9, series_type='close')\n",
        "spy_sma13 = ti.get_sma(symbol='SPY', interval='daily', time_period=13, series_type='close')\n",
        "spy_sma50 = ti.get_sma(symbol='SPY', interval='daily', time_period=50, series_type='close')"
      ],
      "execution_count": 0,
      "outputs": []
    },
    {
      "metadata": {
        "id": "Uf3Hy2Ds3Vj1",
        "colab_type": "code",
        "colab": {}
      },
      "cell_type": "code",
      "source": [
        "#SPY SMA PLOT\n",
        "plt.figure(figsize= (50, 10))\n",
        "plt.plot(SPY_data['4. close'].values)\n",
        "plt.plot(spy_sma9[0].values)\n",
        "plt.plot(spy_sma13[0].values)\n",
        "plt.plot(spy_sma50[0].values)\n",
        "\n",
        "plt.legend(['SPY close original data', 'SPY SMA 9', 'SPY SMA 13', 'SPY SMA 50'])"
      ],
      "execution_count": 0,
      "outputs": []
    },
    {
      "metadata": {
        "id": "UQZCWiTC0iXw",
        "colab_type": "text"
      },
      "cell_type": "markdown",
      "source": [
        "By looking at the graphs we can see that, SMA 50 line would be the first one to show an uptrend or a downtrend as it shows the deviation before any other MA lines."
      ]
    },
    {
      "metadata": {
        "id": "vo_m4giPa_Ln",
        "colab_type": "code",
        "colab": {}
      },
      "cell_type": "code",
      "source": [
        "'''Exponential Moving Average'''\n",
        "\n",
        "#SPX\n",
        "spx_ema9 = ti.get_ema(symbol='SPX', interval='daily', time_period=9, series_type='close')\n",
        "spx_ema13 = ti.get_ema(symbol='SPX', interval='daily', time_period=13, series_type='close')\n",
        "spx_ema50 = ti.get_ema(symbol='SPX', interval='daily', time_period=50, series_type='close')"
      ],
      "execution_count": 0,
      "outputs": []
    },
    {
      "metadata": {
        "id": "lfEI9bZ6h05r",
        "colab_type": "code",
        "colab": {}
      },
      "cell_type": "code",
      "source": [
        "#SPX EMA PLOT\n",
        "plt.figure(figsize= (50, 10))\n",
        "plt.plot(SPX_data['4. close'].values)\n",
        "plt.plot(spx_ema9[0].values)\n",
        "plt.plot(spx_ema13[0].values)\n",
        "plt.plot(spx_ema50[0].values)\n",
        "\n",
        "plt.legend(['SPX close original data', 'SPX EMA 9', 'SPX EMA 13', 'SPX EMA 50'])"
      ],
      "execution_count": 0,
      "outputs": []
    },
    {
      "metadata": {
        "id": "zLL92KvkikZ2",
        "colab_type": "code",
        "colab": {}
      },
      "cell_type": "code",
      "source": [
        "#SPY\n",
        "spy_ema9 = ti.get_ema(symbol='SPY', interval='daily', time_period=9, series_type='close')\n",
        "spy_ema13 = ti.get_ema(symbol='SPY', interval='daily', time_period=13, series_type='close')\n",
        "spy_ema50 = ti.get_ema(symbol='SPY', interval='daily', time_period=50, series_type='close')"
      ],
      "execution_count": 0,
      "outputs": []
    },
    {
      "metadata": {
        "id": "6zKt_rfIjS3_",
        "colab_type": "code",
        "colab": {}
      },
      "cell_type": "code",
      "source": [
        "#SPY EMA PLOT\n",
        "plt.figure(figsize= (50, 10))\n",
        "plt.plot(SPY_data['4. close'].values)\n",
        "plt.plot(spy_ema9[0].values)\n",
        "plt.plot(spy_ema13[0].values)\n",
        "plt.plot(spy_ema50[0].values)\n",
        "\n",
        "plt.legend(['SPY close original data', 'SPY EMA 9', 'SPY EMA 13', 'SPY EMA 50'])"
      ],
      "execution_count": 0,
      "outputs": []
    },
    {
      "metadata": {
        "id": "--aSVtIDv4fh",
        "colab_type": "code",
        "colab": {}
      },
      "cell_type": "code",
      "source": [
        "# df = SPX_data[['4. close']]\n",
        "df = SPX_data\n",
        "forecast_out = int(1)\n",
        "\n",
        "# df['prediction'] = df[['4. close']].shift(-forecast_out)\n"
      ],
      "execution_count": 0,
      "outputs": []
    },
    {
      "metadata": {
        "id": "WGsa8NYxxCtP",
        "colab_type": "code",
        "colab": {}
      },
      "cell_type": "code",
      "source": [
        "X = np.array(df.drop(['prediction'],1))\n",
        "X = preprocessing.scale(X)"
      ],
      "execution_count": 0,
      "outputs": []
    },
    {
      "metadata": {
        "id": "Ayu-3aghxhLh",
        "colab_type": "code",
        "colab": {}
      },
      "cell_type": "code",
      "source": [
        "X_forecast = X[-forecast_out:]\n",
        "X = X[:-forecast_out]"
      ],
      "execution_count": 0,
      "outputs": []
    },
    {
      "metadata": {
        "id": "a7hQj69bzf7Z",
        "colab_type": "code",
        "colab": {}
      },
      "cell_type": "code",
      "source": [
        "y = np.array(df['prediction'])\n",
        "y = y[:-forecast_out]"
      ],
      "execution_count": 0,
      "outputs": []
    },
    {
      "metadata": {
        "id": "LueJi5XhznyT",
        "colab_type": "code",
        "colab": {}
      },
      "cell_type": "code",
      "source": [
        "X_train, X_test, y_train, y_test = train_test_split(X, y, test_size = 0.2)"
      ],
      "execution_count": 0,
      "outputs": []
    },
    {
      "metadata": {
        "id": "A3fBmw8yFm1-",
        "colab_type": "text"
      },
      "cell_type": "markdown",
      "source": [
        "# Regression Models\n"
      ]
    },
    {
      "metadata": {
        "id": "rBSQTiBmGj8_",
        "colab_type": "text"
      },
      "cell_type": "markdown",
      "source": [
        "##Linear Regression"
      ]
    },
    {
      "metadata": {
        "id": "7v1NPrDsztfX",
        "colab_type": "code",
        "colab": {}
      },
      "cell_type": "code",
      "source": [
        "# Training - linear regression\n",
        "reg = linear_model.LinearRegression()\n",
        "# reg = linear_model.Ridge(alpha = 0.1)\n",
        "reg.fit(X_train,y_train)\n",
        "\n",
        "# Testing\n",
        "confidence = reg.score(X_test, y_test)\n",
        "print(\"confidence: \", confidence)"
      ],
      "execution_count": 0,
      "outputs": []
    },
    {
      "metadata": {
        "id": "Zh8m7sZ40FrV",
        "colab_type": "code",
        "colab": {}
      },
      "cell_type": "code",
      "source": [
        "#Forecast Prediction\n",
        "forecast_prediction = reg.predict(X_forecast)\n",
        "print(forecast_prediction)"
      ],
      "execution_count": 0,
      "outputs": []
    },
    {
      "metadata": {
        "id": "HcuAWGBxFu5j",
        "colab_type": "text"
      },
      "cell_type": "markdown",
      "source": [
        "##Support Vector Regression"
      ]
    },
    {
      "metadata": {
        "id": "HACcHC3d0I0K",
        "colab_type": "code",
        "colab": {}
      },
      "cell_type": "code",
      "source": [
        "#Training - SVR\n",
        "reg = svm.SVR(kernel='linear', gamma='scale', C=1.0, epsilon=0.1)\n",
        "reg.fit(X_train, y_train)\n",
        "\n",
        "#TESTING\n",
        "confidence = reg.score(X_test, y_test)\n",
        "print(\"confidence: \", confidence)"
      ],
      "execution_count": 0,
      "outputs": []
    },
    {
      "metadata": {
        "id": "-IVkSzTCqo53",
        "colab_type": "code",
        "colab": {}
      },
      "cell_type": "code",
      "source": [
        "#Forecast Prediction\n",
        "forecast_prediction = reg.predict(X_forecast)\n",
        "print(forecast_prediction)"
      ],
      "execution_count": 0,
      "outputs": []
    },
    {
      "metadata": {
        "id": "mMdcaIL9I9z9",
        "colab_type": "text"
      },
      "cell_type": "markdown",
      "source": [
        "##KNN Regressor"
      ]
    },
    {
      "metadata": {
        "id": "a-RVe4HgHP37",
        "colab_type": "code",
        "colab": {}
      },
      "cell_type": "code",
      "source": [
        "#Training - KNN\n",
        "reg = neigh = KNeighborsRegressor(n_neighbors=9)\n",
        "reg.fit(X_train, y_train)\n",
        "\n",
        "#Testing\n",
        "confidence = reg.score(X_test, y_test)\n",
        "print(\"confidence: \", confidence)"
      ],
      "execution_count": 0,
      "outputs": []
    },
    {
      "metadata": {
        "id": "juf8qPUyJYAX",
        "colab_type": "code",
        "colab": {}
      },
      "cell_type": "code",
      "source": [
        "#Forecast Prediction\n",
        "forecast_prediction = reg.predict(X_forecast)\n",
        "print(forecast_prediction)"
      ],
      "execution_count": 0,
      "outputs": []
    },
    {
      "metadata": {
        "id": "bhsKPdreKfqd",
        "colab_type": "text"
      },
      "cell_type": "markdown",
      "source": [
        "##Random Forest Regressor"
      ]
    },
    {
      "metadata": {
        "id": "Ahmwg2YLJc53",
        "colab_type": "code",
        "colab": {}
      },
      "cell_type": "code",
      "source": [
        "#Training - Random Forest Regressor\n",
        "reg = RandomForestRegressor(max_depth=2, random_state=0, n_estimators=100)\n",
        "reg.fit(X_train, y_train)\n",
        "\n",
        "#Testing\n",
        "confidence = reg.score(X_test, y_test)\n",
        "print(\"confidence: \", confidence)"
      ],
      "execution_count": 0,
      "outputs": []
    },
    {
      "metadata": {
        "id": "ToycvkE_PCr3",
        "colab_type": "code",
        "colab": {}
      },
      "cell_type": "code",
      "source": [
        "#Forecast Prediction\n",
        "forecast_prediction = reg.predict(X_forecast)\n",
        "print(forecast_prediction)"
      ],
      "execution_count": 0,
      "outputs": []
    },
    {
      "metadata": {
        "id": "50qh7o3Wondt",
        "colab_type": "code",
        "colab": {}
      },
      "cell_type": "code",
      "source": [
        "X_train.shape"
      ],
      "execution_count": 0,
      "outputs": []
    },
    {
      "metadata": {
        "id": "7j4CfTxFkjLx",
        "colab_type": "text"
      },
      "cell_type": "markdown",
      "source": [
        "#Neural Network Regression"
      ]
    },
    {
      "metadata": {
        "id": "ImiOCAsAkmwV",
        "colab_type": "text"
      },
      "cell_type": "markdown",
      "source": [
        "##RNN - LSTM"
      ]
    },
    {
      "metadata": {
        "id": "o-nxB7VxSp34",
        "colab_type": "code",
        "colab": {}
      },
      "cell_type": "code",
      "source": [
        "# df = SPX_data[['4. close']]\n",
        "df = SPX_data\n",
        "# forecast_out = int(1)\n",
        "\n",
        "# df['prediction'] = df[['4. close']].shift(-forecast_out)\n",
        "# df\n",
        "df_weekly = SPX_weekly_data"
      ],
      "execution_count": 0,
      "outputs": []
    },
    {
      "metadata": {
        "id": "OJTHxWmIrvG7",
        "colab_type": "code",
        "outputId": "fd5980ee-33ff-43a0-df3d-1ada3f3eba57",
        "colab": {
          "base_uri": "https://localhost:8080/",
          "height": 235
        }
      },
      "cell_type": "code",
      "source": [
        "SPX_data.head()"
      ],
      "execution_count": 5,
      "outputs": [
        {
          "output_type": "execute_result",
          "data": {
            "text/html": [
              "<div>\n",
              "<style scoped>\n",
              "    .dataframe tbody tr th:only-of-type {\n",
              "        vertical-align: middle;\n",
              "    }\n",
              "\n",
              "    .dataframe tbody tr th {\n",
              "        vertical-align: top;\n",
              "    }\n",
              "\n",
              "    .dataframe thead th {\n",
              "        text-align: right;\n",
              "    }\n",
              "</style>\n",
              "<table border=\"1\" class=\"dataframe\">\n",
              "  <thead>\n",
              "    <tr style=\"text-align: right;\">\n",
              "      <th></th>\n",
              "      <th>1. open</th>\n",
              "      <th>2. high</th>\n",
              "      <th>3. low</th>\n",
              "      <th>4. close</th>\n",
              "      <th>5. volume</th>\n",
              "    </tr>\n",
              "    <tr>\n",
              "      <th>date</th>\n",
              "      <th></th>\n",
              "      <th></th>\n",
              "      <th></th>\n",
              "      <th></th>\n",
              "      <th></th>\n",
              "    </tr>\n",
              "  </thead>\n",
              "  <tbody>\n",
              "    <tr>\n",
              "      <th>2000-01-03</th>\n",
              "      <td>1469.25</td>\n",
              "      <td>1478.00</td>\n",
              "      <td>1438.3600</td>\n",
              "      <td>1455.22</td>\n",
              "      <td>9.318000e+08</td>\n",
              "    </tr>\n",
              "    <tr>\n",
              "      <th>2000-01-04</th>\n",
              "      <td>1455.22</td>\n",
              "      <td>1455.22</td>\n",
              "      <td>1397.4301</td>\n",
              "      <td>1399.42</td>\n",
              "      <td>1.009000e+09</td>\n",
              "    </tr>\n",
              "    <tr>\n",
              "      <th>2000-01-05</th>\n",
              "      <td>1399.42</td>\n",
              "      <td>1413.27</td>\n",
              "      <td>1377.6801</td>\n",
              "      <td>1402.11</td>\n",
              "      <td>1.085500e+09</td>\n",
              "    </tr>\n",
              "    <tr>\n",
              "      <th>2000-01-06</th>\n",
              "      <td>1402.11</td>\n",
              "      <td>1411.90</td>\n",
              "      <td>1392.1000</td>\n",
              "      <td>1403.45</td>\n",
              "      <td>1.092300e+09</td>\n",
              "    </tr>\n",
              "    <tr>\n",
              "      <th>2000-01-07</th>\n",
              "      <td>1403.45</td>\n",
              "      <td>1441.47</td>\n",
              "      <td>1400.7300</td>\n",
              "      <td>1441.47</td>\n",
              "      <td>1.225200e+09</td>\n",
              "    </tr>\n",
              "  </tbody>\n",
              "</table>\n",
              "</div>"
            ],
            "text/plain": [
              "            1. open  2. high     3. low  4. close     5. volume\n",
              "date                                                           \n",
              "2000-01-03  1469.25  1478.00  1438.3600   1455.22  9.318000e+08\n",
              "2000-01-04  1455.22  1455.22  1397.4301   1399.42  1.009000e+09\n",
              "2000-01-05  1399.42  1413.27  1377.6801   1402.11  1.085500e+09\n",
              "2000-01-06  1402.11  1411.90  1392.1000   1403.45  1.092300e+09\n",
              "2000-01-07  1403.45  1441.47  1400.7300   1441.47  1.225200e+09"
            ]
          },
          "metadata": {
            "tags": []
          },
          "execution_count": 5
        }
      ]
    },
    {
      "metadata": {
        "id": "e3NzS0yo6Ts7",
        "colab_type": "code",
        "outputId": "dc095afd-a1b2-4405-8ea2-ae0962da46b1",
        "colab": {
          "base_uri": "https://localhost:8080/",
          "height": 235
        }
      },
      "cell_type": "code",
      "source": [
        "SPX_weekly_data.head()"
      ],
      "execution_count": 0,
      "outputs": [
        {
          "output_type": "execute_result",
          "data": {
            "text/html": [
              "<div>\n",
              "<style scoped>\n",
              "    .dataframe tbody tr th:only-of-type {\n",
              "        vertical-align: middle;\n",
              "    }\n",
              "\n",
              "    .dataframe tbody tr th {\n",
              "        vertical-align: top;\n",
              "    }\n",
              "\n",
              "    .dataframe thead th {\n",
              "        text-align: right;\n",
              "    }\n",
              "</style>\n",
              "<table border=\"1\" class=\"dataframe\">\n",
              "  <thead>\n",
              "    <tr style=\"text-align: right;\">\n",
              "      <th></th>\n",
              "      <th>1. open</th>\n",
              "      <th>2. high</th>\n",
              "      <th>3. low</th>\n",
              "      <th>4. close</th>\n",
              "      <th>5. volume</th>\n",
              "    </tr>\n",
              "    <tr>\n",
              "      <th>date</th>\n",
              "      <th></th>\n",
              "      <th></th>\n",
              "      <th></th>\n",
              "      <th></th>\n",
              "      <th></th>\n",
              "    </tr>\n",
              "  </thead>\n",
              "  <tbody>\n",
              "    <tr>\n",
              "      <th>2000-01-14</th>\n",
              "      <td>1441.47</td>\n",
              "      <td>1473.00</td>\n",
              "      <td>1427.08</td>\n",
              "      <td>1465.15</td>\n",
              "      <td>5.169700e+09</td>\n",
              "    </tr>\n",
              "    <tr>\n",
              "      <th>2000-01-21</th>\n",
              "      <td>1465.15</td>\n",
              "      <td>1465.71</td>\n",
              "      <td>1438.54</td>\n",
              "      <td>1441.36</td>\n",
              "      <td>4.455000e+09</td>\n",
              "    </tr>\n",
              "    <tr>\n",
              "      <th>2000-01-28</th>\n",
              "      <td>1441.36</td>\n",
              "      <td>1454.09</td>\n",
              "      <td>1356.20</td>\n",
              "      <td>1360.16</td>\n",
              "      <td>5.532100e+09</td>\n",
              "    </tr>\n",
              "    <tr>\n",
              "      <th>2000-02-04</th>\n",
              "      <td>1360.16</td>\n",
              "      <td>1435.91</td>\n",
              "      <td>1350.14</td>\n",
              "      <td>1424.37</td>\n",
              "      <td>5.205000e+09</td>\n",
              "    </tr>\n",
              "    <tr>\n",
              "      <th>2000-02-11</th>\n",
              "      <td>1424.37</td>\n",
              "      <td>1444.55</td>\n",
              "      <td>1378.89</td>\n",
              "      <td>1387.12</td>\n",
              "      <td>5.100800e+09</td>\n",
              "    </tr>\n",
              "  </tbody>\n",
              "</table>\n",
              "</div>"
            ],
            "text/plain": [
              "            1. open  2. high   3. low  4. close     5. volume\n",
              "date                                                         \n",
              "2000-01-14  1441.47  1473.00  1427.08   1465.15  5.169700e+09\n",
              "2000-01-21  1465.15  1465.71  1438.54   1441.36  4.455000e+09\n",
              "2000-01-28  1441.36  1454.09  1356.20   1360.16  5.532100e+09\n",
              "2000-02-04  1360.16  1435.91  1350.14   1424.37  5.205000e+09\n",
              "2000-02-11  1424.37  1444.55  1378.89   1387.12  5.100800e+09"
            ]
          },
          "metadata": {
            "tags": []
          },
          "execution_count": 6
        }
      ]
    },
    {
      "metadata": {
        "id": "MTpixZCgCH1s",
        "colab_type": "code",
        "outputId": "b2b3caed-c241-4ef5-821d-e8094c6254b7",
        "colab": {
          "base_uri": "https://localhost:8080/",
          "height": 136
        }
      },
      "cell_type": "code",
      "source": [
        "scl = preprocessing.MinMaxScaler()\n",
        "\n",
        "#Scale the daily data\n",
        "df = df.values #[\"4. close\"]\n",
        "df = df.reshape(df.shape[0],5)\n",
        "df = scl.fit_transform(df)\n",
        "df\n",
        "\n",
        "#scale the weekly data\n",
        "# df_weekly = df_weekly.values\n",
        "# df_weekly = df_weekly.reshape(df_weekly.shape[0], 5)\n",
        "# df_weekly = scl.fit_transform(df_weekly)\n",
        "# df_weekly"
      ],
      "execution_count": 6,
      "outputs": [
        {
          "output_type": "execute_result",
          "data": {
            "text/plain": [
              "array([[0.34993444, 0.34855544, 0.34135431, 0.34498816, 0.05186682],\n",
              "       [0.34371955, 0.33841134, 0.3232463 , 0.32026672, 0.05882167],\n",
              "       [0.31900172, 0.31973069, 0.3145086 , 0.32145849, 0.06571347],\n",
              "       ...,\n",
              "       [0.98814164, 0.99795168, 0.99177988, 1.        , 0.29539754],\n",
              "       [0.9987774 , 0.99818323, 0.999531  , 0.99715132, 0.27863472],\n",
              "       [0.99655811, 0.99652224, 0.99368673, 0.99793992, 0.06162896]])"
            ]
          },
          "metadata": {
            "tags": []
          },
          "execution_count": 6
        }
      ]
    },
    {
      "metadata": {
        "id": "WKzpPheqCiWt",
        "colab_type": "code",
        "outputId": "6d9dfe46-3973-471c-d8a8-3eca3e3f4bdc",
        "colab": {
          "base_uri": "https://localhost:8080/",
          "height": 85
        }
      },
      "cell_type": "code",
      "source": [
        "#Create a function to process the data into 7 day look back slices\n",
        "def processData(data,lb):\n",
        "    feature = data[:, [3]]\n",
        "    data = data[:, [0,1,2,4]]\n",
        "    X,Y = [],[]\n",
        "    for i in range(len(data)-lb-1):\n",
        "        X.append(data[i:(i+lb),:])\n",
        "        Y.append(feature[(i+lb),0])\n",
        "    return np.array(X),np.array(Y)\n",
        "  \n",
        "# X, y = processData(df, 30)\n",
        "X,y = processData(df,7)\n",
        "\n",
        "X_train,X_test = X[:int(X.shape[0]*0.80)],X[int(X.shape[0]*0.80):]\n",
        "y_train,y_test = y[:int(y.shape[0]*0.80)],y[int(y.shape[0]*0.80):]\n",
        "print(X_train.shape)\n",
        "print(X_test.shape)\n",
        "print(y_train.shape)\n",
        "print(y_test.shape)"
      ],
      "execution_count": 7,
      "outputs": [
        {
          "output_type": "stream",
          "text": [
            "(3880, 7, 4)\n",
            "(970, 7, 4)\n",
            "(3880,)\n",
            "(970,)\n"
          ],
          "name": "stdout"
        }
      ]
    },
    {
      "metadata": {
        "id": "NIdPSqz8svu2",
        "colab_type": "code",
        "outputId": "fdb074e7-5dd2-4925-d556-0777d1a1c46f",
        "colab": {
          "base_uri": "https://localhost:8080/",
          "height": 34
        }
      },
      "cell_type": "code",
      "source": [
        "y_train.shape\n",
        "# y_test.shape"
      ],
      "execution_count": 0,
      "outputs": [
        {
          "output_type": "execute_result",
          "data": {
            "text/plain": [
              "(3876,)"
            ]
          },
          "metadata": {
            "tags": []
          },
          "execution_count": 7
        }
      ]
    },
    {
      "metadata": {
        "id": "Y7NAlxcVCxRT",
        "colab_type": "code",
        "outputId": "8be45f31-66b7-42e0-8987-7e1570e48c23",
        "colab": {
          "base_uri": "https://localhost:8080/",
          "height": 3556
        }
      },
      "cell_type": "code",
      "source": [
        "#Reshape data for (Sample,Timestep,Features) \n",
        "X_train = X_train.reshape((X_train.shape[0],X_train.shape[1],4))\n",
        "X_test = X_test.reshape((X_test.shape[0],X_test.shape[1],4))\n",
        "\n",
        "#Build the model\n",
        "model = Sequential()\n",
        "\n",
        "# model.add(LSTM(units = 256, input_shape=(7,4), return_sequences=True))\n",
        "\n",
        "# model.add(LSTM(units = 128, input_shape=(7,4)))\n",
        "\n",
        "model.add(LSTM(units = 100, input_shape=(7,4), return_sequences=True))\n",
        "\n",
        "model.add(LSTM(units = 100, input_shape=(7,4), return_sequences=True))\n",
        "\n",
        "model.add(LSTM(units = 100, input_shape=(7,4), return_sequences=True))\n",
        "\n",
        "model.add(LSTM(units = 100, input_shape=(7,4)))\n",
        "\n",
        "# layer1 = LSTM(units = 1024, input_shape=(7,5))\n",
        "# output = layer1(input)\n",
        "\n",
        "# model.add()\n",
        "\n",
        "# model.add(Dense(64))\n",
        "model.add(Dense(1))\n",
        "model.compile(optimizer='adam',loss='mse')\n",
        "\n",
        "#Fit model with history to check for overfitting\n",
        "history = model.fit(X_train,y_train,epochs=100 ,validation_data=(X_test,y_test),shuffle=False)"
      ],
      "execution_count": 8,
      "outputs": [
        {
          "output_type": "stream",
          "text": [
            "WARNING:tensorflow:From /usr/local/lib/python3.6/dist-packages/tensorflow/python/framework/op_def_library.py:263: colocate_with (from tensorflow.python.framework.ops) is deprecated and will be removed in a future version.\n",
            "Instructions for updating:\n",
            "Colocations handled automatically by placer.\n",
            "WARNING:tensorflow:From /usr/local/lib/python3.6/dist-packages/tensorflow/python/ops/math_ops.py:3066: to_int32 (from tensorflow.python.ops.math_ops) is deprecated and will be removed in a future version.\n",
            "Instructions for updating:\n",
            "Use tf.cast instead.\n",
            "Train on 3880 samples, validate on 970 samples\n",
            "Epoch 1/100\n",
            "3880/3880 [==============================] - 8s 2ms/step - loss: 0.0078 - val_loss: 0.0275\n",
            "Epoch 2/100\n",
            "3880/3880 [==============================] - 5s 1ms/step - loss: 0.0060 - val_loss: 0.0288\n",
            "Epoch 3/100\n",
            "3880/3880 [==============================] - 5s 1ms/step - loss: 0.0069 - val_loss: 0.0420\n",
            "Epoch 4/100\n",
            "3880/3880 [==============================] - 5s 1ms/step - loss: 0.0082 - val_loss: 0.0147\n",
            "Epoch 5/100\n",
            "3880/3880 [==============================] - 5s 1ms/step - loss: 0.0073 - val_loss: 0.0321\n",
            "Epoch 6/100\n",
            "3880/3880 [==============================] - 5s 1ms/step - loss: 0.0100 - val_loss: 0.0526\n",
            "Epoch 7/100\n",
            "3880/3880 [==============================] - 5s 1ms/step - loss: 0.0135 - val_loss: 0.0148\n",
            "Epoch 8/100\n",
            "3880/3880 [==============================] - 5s 1ms/step - loss: 0.0188 - val_loss: 0.0392\n",
            "Epoch 9/100\n",
            "3880/3880 [==============================] - 5s 1ms/step - loss: 0.0209 - val_loss: 0.1714\n",
            "Epoch 10/100\n",
            "3880/3880 [==============================] - 5s 1ms/step - loss: 0.0172 - val_loss: 0.0645\n",
            "Epoch 11/100\n",
            "3880/3880 [==============================] - 5s 1ms/step - loss: 0.0137 - val_loss: 0.0584\n",
            "Epoch 12/100\n",
            "3880/3880 [==============================] - 5s 1ms/step - loss: 0.0100 - val_loss: 0.0362\n",
            "Epoch 13/100\n",
            "3880/3880 [==============================] - 5s 1ms/step - loss: 0.0084 - val_loss: 0.0382\n",
            "Epoch 14/100\n",
            "3880/3880 [==============================] - 5s 1ms/step - loss: 0.0071 - val_loss: 0.0402\n",
            "Epoch 15/100\n",
            "3880/3880 [==============================] - 5s 1ms/step - loss: 0.0045 - val_loss: 0.0258\n",
            "Epoch 16/100\n",
            "3880/3880 [==============================] - 5s 1ms/step - loss: 0.0028 - val_loss: 0.0235\n",
            "Epoch 17/100\n",
            "3880/3880 [==============================] - 5s 1ms/step - loss: 0.0012 - val_loss: 0.0249\n",
            "Epoch 18/100\n",
            "3880/3880 [==============================] - 5s 1ms/step - loss: 8.0978e-04 - val_loss: 0.0258\n",
            "Epoch 19/100\n",
            "3880/3880 [==============================] - 5s 1ms/step - loss: 8.5157e-04 - val_loss: 0.0265\n",
            "Epoch 20/100\n",
            "3880/3880 [==============================] - 5s 1ms/step - loss: 7.6834e-04 - val_loss: 0.0273\n",
            "Epoch 21/100\n",
            "3880/3880 [==============================] - 5s 1ms/step - loss: 6.6107e-04 - val_loss: 0.0277\n",
            "Epoch 22/100\n",
            "3880/3880 [==============================] - 5s 1ms/step - loss: 6.2763e-04 - val_loss: 0.0272\n",
            "Epoch 23/100\n",
            "3880/3880 [==============================] - 5s 1ms/step - loss: 6.3381e-04 - val_loss: 0.0259\n",
            "Epoch 24/100\n",
            "3880/3880 [==============================] - 5s 1ms/step - loss: 6.2827e-04 - val_loss: 0.0238\n",
            "Epoch 25/100\n",
            "3880/3880 [==============================] - 5s 1ms/step - loss: 6.1816e-04 - val_loss: 0.0208\n",
            "Epoch 26/100\n",
            "3880/3880 [==============================] - 5s 1ms/step - loss: 6.0208e-04 - val_loss: 0.0174\n",
            "Epoch 27/100\n",
            "3880/3880 [==============================] - 5s 1ms/step - loss: 5.8862e-04 - val_loss: 0.0146\n",
            "Epoch 28/100\n",
            "3880/3880 [==============================] - 5s 1ms/step - loss: 5.7348e-04 - val_loss: 0.0131\n",
            "Epoch 29/100\n",
            "3880/3880 [==============================] - 5s 1ms/step - loss: 5.5371e-04 - val_loss: 0.0125\n",
            "Epoch 30/100\n",
            "3880/3880 [==============================] - 5s 1ms/step - loss: 5.2761e-04 - val_loss: 0.0123\n",
            "Epoch 31/100\n",
            "3880/3880 [==============================] - 5s 1ms/step - loss: 5.0722e-04 - val_loss: 0.0121\n",
            "Epoch 32/100\n",
            "3880/3880 [==============================] - 5s 1ms/step - loss: 4.9511e-04 - val_loss: 0.0121\n",
            "Epoch 33/100\n",
            "3880/3880 [==============================] - 5s 1ms/step - loss: 4.8944e-04 - val_loss: 0.0121\n",
            "Epoch 34/100\n",
            "3880/3880 [==============================] - 5s 1ms/step - loss: 4.8835e-04 - val_loss: 0.0121\n",
            "Epoch 35/100\n",
            "3880/3880 [==============================] - 5s 1ms/step - loss: 4.8933e-04 - val_loss: 0.0122\n",
            "Epoch 36/100\n",
            "3880/3880 [==============================] - 5s 1ms/step - loss: 4.9044e-04 - val_loss: 0.0123\n",
            "Epoch 37/100\n",
            "3880/3880 [==============================] - 5s 1ms/step - loss: 4.8979e-04 - val_loss: 0.0124\n",
            "Epoch 38/100\n",
            "3880/3880 [==============================] - 5s 1ms/step - loss: 4.8811e-04 - val_loss: 0.0126\n",
            "Epoch 39/100\n",
            "3880/3880 [==============================] - 5s 1ms/step - loss: 4.8611e-04 - val_loss: 0.0129\n",
            "Epoch 40/100\n",
            "3880/3880 [==============================] - 5s 1ms/step - loss: 4.8719e-04 - val_loss: 0.0134\n",
            "Epoch 41/100\n",
            "3880/3880 [==============================] - 5s 1ms/step - loss: 4.9264e-04 - val_loss: 0.0140\n",
            "Epoch 42/100\n",
            "3880/3880 [==============================] - 5s 1ms/step - loss: 5.0561e-04 - val_loss: 0.0146\n",
            "Epoch 43/100\n",
            "3880/3880 [==============================] - 5s 1ms/step - loss: 5.2452e-04 - val_loss: 0.0153\n",
            "Epoch 44/100\n",
            "3880/3880 [==============================] - 5s 1ms/step - loss: 5.5230e-04 - val_loss: 0.0158\n",
            "Epoch 45/100\n",
            "3880/3880 [==============================] - 5s 1ms/step - loss: 6.0774e-04 - val_loss: 0.0165\n",
            "Epoch 46/100\n",
            "3880/3880 [==============================] - 5s 1ms/step - loss: 7.4985e-04 - val_loss: 0.0167\n",
            "Epoch 47/100\n",
            "3880/3880 [==============================] - 5s 1ms/step - loss: 0.0011 - val_loss: 0.0180\n",
            "Epoch 48/100\n",
            "3880/3880 [==============================] - 5s 1ms/step - loss: 0.0015 - val_loss: 0.0179\n",
            "Epoch 49/100\n",
            "3880/3880 [==============================] - 5s 1ms/step - loss: 0.0017 - val_loss: 0.0218\n",
            "Epoch 50/100\n",
            "3880/3880 [==============================] - 5s 1ms/step - loss: 0.0017 - val_loss: 0.0233\n",
            "Epoch 51/100\n",
            "3880/3880 [==============================] - 5s 1ms/step - loss: 0.0013 - val_loss: 0.0160\n",
            "Epoch 52/100\n",
            "3880/3880 [==============================] - 5s 1ms/step - loss: 0.0010 - val_loss: 0.0138\n",
            "Epoch 53/100\n",
            "3880/3880 [==============================] - 5s 1ms/step - loss: 8.5110e-04 - val_loss: 0.0139\n",
            "Epoch 54/100\n",
            "3880/3880 [==============================] - 5s 1ms/step - loss: 6.1574e-04 - val_loss: 0.0134\n",
            "Epoch 55/100\n",
            "3880/3880 [==============================] - 5s 1ms/step - loss: 6.1099e-04 - val_loss: 0.0121\n",
            "Epoch 56/100\n",
            "3880/3880 [==============================] - 5s 1ms/step - loss: 5.4311e-04 - val_loss: 0.0115\n",
            "Epoch 57/100\n",
            "3880/3880 [==============================] - 5s 1ms/step - loss: 4.8971e-04 - val_loss: 0.0106\n",
            "Epoch 58/100\n",
            "3880/3880 [==============================] - 5s 1ms/step - loss: 5.0192e-04 - val_loss: 0.0102\n",
            "Epoch 59/100\n",
            "3880/3880 [==============================] - 5s 1ms/step - loss: 4.7153e-04 - val_loss: 0.0098\n",
            "Epoch 60/100\n",
            "3880/3880 [==============================] - 5s 1ms/step - loss: 4.3331e-04 - val_loss: 0.0094\n",
            "Epoch 61/100\n",
            "3880/3880 [==============================] - 5s 1ms/step - loss: 4.1885e-04 - val_loss: 0.0091\n",
            "Epoch 62/100\n",
            "3880/3880 [==============================] - 5s 1ms/step - loss: 4.1673e-04 - val_loss: 0.0089\n",
            "Epoch 63/100\n",
            "3880/3880 [==============================] - 5s 1ms/step - loss: 4.1205e-04 - val_loss: 0.0089\n",
            "Epoch 64/100\n",
            "3880/3880 [==============================] - 5s 1ms/step - loss: 4.0196e-04 - val_loss: 0.0089\n",
            "Epoch 65/100\n",
            "3880/3880 [==============================] - 5s 1ms/step - loss: 3.9673e-04 - val_loss: 0.0090\n",
            "Epoch 66/100\n",
            "3880/3880 [==============================] - 5s 1ms/step - loss: 3.9609e-04 - val_loss: 0.0091\n",
            "Epoch 67/100\n",
            "3880/3880 [==============================] - 5s 1ms/step - loss: 4.2713e-04 - val_loss: 0.0095\n",
            "Epoch 68/100\n",
            "3880/3880 [==============================] - 5s 1ms/step - loss: 4.6808e-04 - val_loss: 0.0099\n",
            "Epoch 69/100\n",
            "3880/3880 [==============================] - 5s 1ms/step - loss: 5.2148e-04 - val_loss: 0.0102\n",
            "Epoch 70/100\n",
            "3880/3880 [==============================] - 5s 1ms/step - loss: 5.7994e-04 - val_loss: 0.0106\n",
            "Epoch 71/100\n",
            "3880/3880 [==============================] - 5s 1ms/step - loss: 6.2750e-04 - val_loss: 0.0114\n",
            "Epoch 72/100\n",
            "3880/3880 [==============================] - 5s 1ms/step - loss: 7.1825e-04 - val_loss: 0.0147\n",
            "Epoch 73/100\n",
            "3880/3880 [==============================] - 5s 1ms/step - loss: 7.5003e-04 - val_loss: 0.0152\n",
            "Epoch 74/100\n",
            "3880/3880 [==============================] - 5s 1ms/step - loss: 6.4656e-04 - val_loss: 0.0139\n",
            "Epoch 75/100\n",
            "3880/3880 [==============================] - 5s 1ms/step - loss: 7.3719e-04 - val_loss: 0.0114\n",
            "Epoch 76/100\n",
            "3880/3880 [==============================] - 5s 1ms/step - loss: 6.1135e-04 - val_loss: 0.0102\n",
            "Epoch 77/100\n",
            "3880/3880 [==============================] - 5s 1ms/step - loss: 5.5601e-04 - val_loss: 0.0100\n",
            "Epoch 78/100\n",
            "3880/3880 [==============================] - 5s 1ms/step - loss: 4.3211e-04 - val_loss: 0.0101\n",
            "Epoch 79/100\n",
            "3880/3880 [==============================] - 5s 1ms/step - loss: 3.5015e-04 - val_loss: 0.0098\n",
            "Epoch 80/100\n",
            "3880/3880 [==============================] - 5s 1ms/step - loss: 3.7016e-04 - val_loss: 0.0100\n",
            "Epoch 81/100\n",
            "3880/3880 [==============================] - 5s 1ms/step - loss: 3.1475e-04 - val_loss: 0.0106\n",
            "Epoch 82/100\n",
            "3880/3880 [==============================] - 5s 1ms/step - loss: 2.5731e-04 - val_loss: 0.0102\n",
            "Epoch 83/100\n",
            "3880/3880 [==============================] - 5s 1ms/step - loss: 2.7980e-04 - val_loss: 0.0095\n",
            "Epoch 84/100\n",
            "3880/3880 [==============================] - 5s 1ms/step - loss: 2.6087e-04 - val_loss: 0.0081\n",
            "Epoch 85/100\n",
            "3880/3880 [==============================] - 5s 1ms/step - loss: 2.2088e-04 - val_loss: 0.0048\n",
            "Epoch 86/100\n",
            "3880/3880 [==============================] - 5s 1ms/step - loss: 3.6695e-04 - val_loss: 0.0032\n",
            "Epoch 87/100\n",
            "3880/3880 [==============================] - 5s 1ms/step - loss: 4.3926e-04 - val_loss: 0.0045\n",
            "Epoch 88/100\n",
            "3880/3880 [==============================] - 5s 1ms/step - loss: 3.4736e-04 - val_loss: 0.0044\n",
            "Epoch 89/100\n",
            "3880/3880 [==============================] - 5s 1ms/step - loss: 4.0090e-04 - val_loss: 0.0025\n",
            "Epoch 90/100\n",
            "3880/3880 [==============================] - 5s 1ms/step - loss: 3.8730e-04 - val_loss: 0.0028\n",
            "Epoch 91/100\n",
            "3880/3880 [==============================] - 5s 1ms/step - loss: 3.5231e-04 - val_loss: 0.0020\n",
            "Epoch 92/100\n",
            "3880/3880 [==============================] - 5s 1ms/step - loss: 3.1926e-04 - val_loss: 0.0016\n",
            "Epoch 93/100\n",
            "3880/3880 [==============================] - 5s 1ms/step - loss: 2.5243e-04 - val_loss: 0.0014\n",
            "Epoch 94/100\n",
            "3880/3880 [==============================] - 5s 1ms/step - loss: 1.8510e-04 - val_loss: 0.0013\n",
            "Epoch 95/100\n",
            "3880/3880 [==============================] - 5s 1ms/step - loss: 2.8793e-04 - val_loss: 0.0012\n",
            "Epoch 96/100\n",
            "3880/3880 [==============================] - 5s 1ms/step - loss: 2.1557e-04 - val_loss: 0.0012\n",
            "Epoch 97/100\n",
            "3880/3880 [==============================] - 5s 1ms/step - loss: 2.2426e-04 - val_loss: 7.4545e-04\n",
            "Epoch 98/100\n",
            "3880/3880 [==============================] - 5s 1ms/step - loss: 1.8308e-04 - val_loss: 7.6799e-04\n",
            "Epoch 99/100\n",
            "3880/3880 [==============================] - 5s 1ms/step - loss: 1.7103e-04 - val_loss: 6.5062e-04\n",
            "Epoch 100/100\n",
            "3880/3880 [==============================] - 5s 1ms/step - loss: 1.5524e-04 - val_loss: 5.8620e-04\n"
          ],
          "name": "stdout"
        }
      ]
    },
    {
      "metadata": {
        "id": "dnsKCZJTNnvG",
        "colab_type": "code",
        "colab": {}
      },
      "cell_type": "code",
      "source": [
        "# model.evaluate(X_train, y_train, batch_size=1)"
      ],
      "execution_count": 0,
      "outputs": []
    },
    {
      "metadata": {
        "id": "PA9pDmgsOEub",
        "colab_type": "code",
        "outputId": "c89bc8e8-bf6b-4ccb-e2a4-4e68e31a4d4f",
        "colab": {
          "base_uri": "https://localhost:8080/",
          "height": 340
        }
      },
      "cell_type": "code",
      "source": [
        "model.summary()"
      ],
      "execution_count": 0,
      "outputs": [
        {
          "output_type": "stream",
          "text": [
            "_________________________________________________________________\n",
            "Layer (type)                 Output Shape              Param #   \n",
            "=================================================================\n",
            "lstm_1 (LSTM)                (None, 7, 100)            42000     \n",
            "_________________________________________________________________\n",
            "lstm_2 (LSTM)                (None, 7, 100)            80400     \n",
            "_________________________________________________________________\n",
            "lstm_3 (LSTM)                (None, 7, 100)            80400     \n",
            "_________________________________________________________________\n",
            "lstm_4 (LSTM)                (None, 100)               80400     \n",
            "_________________________________________________________________\n",
            "dense_1 (Dense)              (None, 25)                2525      \n",
            "_________________________________________________________________\n",
            "dense_2 (Dense)              (None, 1)                 26        \n",
            "=================================================================\n",
            "Total params: 285,751\n",
            "Trainable params: 285,751\n",
            "Non-trainable params: 0\n",
            "_________________________________________________________________\n"
          ],
          "name": "stdout"
        }
      ]
    },
    {
      "metadata": {
        "id": "IpiNNhK4D_2d",
        "colab_type": "code",
        "outputId": "541f7ef9-94e3-47a6-a038-24811ef3c5e3",
        "colab": {
          "base_uri": "https://localhost:8080/",
          "height": 286
        }
      },
      "cell_type": "code",
      "source": [
        "plt.plot(history.history['loss'])\n",
        "plt.plot(history.history['val_loss'])"
      ],
      "execution_count": 9,
      "outputs": [
        {
          "output_type": "execute_result",
          "data": {
            "text/plain": [
              "[<matplotlib.lines.Line2D at 0x7fb6b876bc18>]"
            ]
          },
          "metadata": {
            "tags": []
          },
          "execution_count": 9
        },
        {
          "output_type": "display_data",
          "data": {
            "image/png": "[encoded data removed]",
            "text/plain": [
              "<Figure size 432x288 with 1 Axes>"
            ]
          },
          "metadata": {
            "tags": []
          }
        }
      ]
    },
    {
      "metadata": {
        "id": "cgTS0iD6FaHU",
        "colab_type": "code",
        "outputId": "35e623bd-2038-41a1-e487-2b4b5177db62",
        "colab": {
          "base_uri": "https://localhost:8080/",
          "height": 286
        }
      },
      "cell_type": "code",
      "source": [
        "Xt = model.predict(X_test)\n",
        "Xt = Xt.ravel()\n",
        "testPredict_extended = np.zeros((len(Xt),5))\n",
        "testPredict_extended[:, 3] = Xt\n",
        "testPredict = scl.inverse_transform(testPredict_extended)[:, 3]\n",
        "\n",
        "y_test_extended = np.zeros((len(y_test),5))\n",
        "y_test_extended[:, 3] = y_test \n",
        "y_test = scl.inverse_transform(y_test_extended)[:, 3]\n",
        "\n",
        "plt.plot(y_test)\n",
        "plt.plot(testPredict)\n",
        "\n",
        "\n",
        "# y_test\n",
        "# scl.inverse_transform(y_test)[3]\n",
        "# scl.inverse_transform(Xt)"
      ],
      "execution_count": 10,
      "outputs": [
        {
          "output_type": "execute_result",
          "data": {
            "text/plain": [
              "[<matplotlib.lines.Line2D at 0x7fb6adda3080>]"
            ]
          },
          "metadata": {
            "tags": []
          },
          "execution_count": 10
        },
        {
          "output_type": "display_data",
          "data": {
            "image/png": "[encoded data removed]",
            "text/plain": [
              "<Figure size 432x288 with 1 Axes>"
            ]
          },
          "metadata": {
            "tags": []
          }
        }
      ]
    },
    {
      "metadata": {
        "id": "Y5vCGtDu-LmV",
        "colab_type": "code",
        "colab": {}
      },
      "cell_type": "code",
      "source": [
        "testPredict"
      ],
      "execution_count": 0,
      "outputs": []
    },
    {
      "metadata": {
        "id": "WDRHZhFcDyeJ",
        "colab_type": "code",
        "colab": {}
      },
      "cell_type": "code",
      "source": [
        ""
      ],
      "execution_count": 0,
      "outputs": []
    }
  ]
}